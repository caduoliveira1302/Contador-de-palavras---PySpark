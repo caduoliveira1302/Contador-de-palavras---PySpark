{
 "cells": [
  {
   "cell_type": "code",
   "execution_count": 135,
   "metadata": {},
   "outputs": [],
   "source": [
    "import pandas as pd\n",
    "import glob\n",
    "import os\n",
    "from translate import Translator\n",
    "translator = Translator(to_lang='pt')"
   ]
  },
  {
   "cell_type": "code",
   "execution_count": 179,
   "metadata": {},
   "outputs": [],
   "source": [
    "def get_df(site_name):\n",
    "    try_lang = ['en', 'pt']\n",
    "    df_name = f'df_{site_name}'\n",
    "    try:\n",
    "        df_name = pd.read_csv(f'C:\\\\Users\\\\cedua\\\\CDIA - PUCSP\\\\PROJETO PySpark - SAVINO\\\\Contador-de-palavras---PySpark\\\\data\\\\data_{try_lang[0]}\\\\{site_name}.csv', sep=';')\n",
    "        return df_name\n",
    "    except:\n",
    "        df_name = pd.read_csv(f'C:\\\\Users\\\\cedua\\\\CDIA - PUCSP\\\\PROJETO PySpark - SAVINO\\\\Contador-de-palavras---PySpark\\\\data\\\\data_{try_lang[1]}\\\\{site_name}.csv', sep=';')\n",
    "        return df_name"
   ]
  },
  {
   "cell_type": "code",
   "execution_count": 180,
   "metadata": {},
   "outputs": [],
   "source": [
    "# | EN | #\n",
    "df_fitnessandpower = get_df(\"fitnessandpower\")\n",
    "df_healthline = get_df(\"healthline\")\n",
    "df_proteinlicious = get_df(\"proteinlicious\")\n",
    "df_tnation = get_df(\"tnation\")\n",
    "# | PT | # \n",
    "df_gsup = get_df(\"gsup\").head(50)\n",
    "df_maxtitanium = get_df(\"maxtitanium\").head(50)\n",
    "df_myproteinblog = get_df(\"myproteinblog\").head(50)\n",
    "df_nutritotal = get_df(\"nutritotal\").head(50)\n",
    "df_nutrufy = get_df(\"nutrufy\").head(50)\n",
    "df_sanavita = get_df(\"sanavita\").head(50)\n",
    "df_suplementacao = get_df(\"suplementacao\").head(50)\n",
    "df_tuasaude = get_df(\"tuasaude\").head(50)"
   ]
  },
  {
   "cell_type": "code",
   "execution_count": 181,
   "metadata": {},
   "outputs": [],
   "source": [
    "def translate_keeping_whey_protein(df):\n",
    "    \"\"\"\"\"\n",
    "    Translate the words from dataframe, desconsidering \"whey\" and \"protein\"\n",
    "    \"\"\"\"\"\n",
    "    df_p1 = df[0:2]          # \"whey\" e \"protein\"\n",
    "    df_p2 = df[2:].head(48)  # translate this \n",
    "\n",
    "    df_p2['words8'] = [translator.translate(x) for x in df_p2['words8']]\n",
    "    df_final = pd.concat([df_p1, df_p2]) #joining the translated df with the \"whey\" and \"protein\" words\n",
    "    return df_final\n",
    "\n",
    "def translate_keeping_protein_tnation(df):\n",
    "    \"\"\"\"\"\n",
    "    Translate the words from dataframe\n",
    "    \"\"\"\"\"\n",
    "    df = df.head(50)\n",
    "    df['words8'] = [translator.translate(x) for x in df['words8']]\n",
    "    return df"
   ]
  },
  {
   "cell_type": "code",
   "execution_count": 182,
   "metadata": {},
   "outputs": [
    {
     "name": "stderr",
     "output_type": "stream",
     "text": [
      "C:\\Users\\cedua\\AppData\\Local\\Temp\\ipykernel_7908\\3769487858.py:17: SettingWithCopyWarning: \n",
      "A value is trying to be set on a copy of a slice from a DataFrame.\n",
      "Try using .loc[row_indexer,col_indexer] = value instead\n",
      "\n",
      "See the caveats in the documentation: https://pandas.pydata.org/pandas-docs/stable/user_guide/indexing.html#returning-a-view-versus-a-copy\n",
      "  df['words8'] = [translator.translate(x) for x in df['words8']]\n"
     ]
    }
   ],
   "source": [
    "df_fitnessandpower = translate_keeping_whey_protein(df_fitnessandpower)\n",
    "df_healthline = translate_keeping_whey_protein(df_healthline)\n",
    "df_proteinlicious = translate_keeping_whey_protein(df_proteinlicious)\n",
    "\n",
    "#tnation df\n",
    "df_tnation = translate_keeping_protein_tnation(df_tnation)"
   ]
  },
  {
   "attachments": {},
   "cell_type": "markdown",
   "metadata": {},
   "source": [
    "- Remover as palavras \"whey\" e \"protein\" da contagem visto que sao as de maior aparição em muitos sites. O que faz sentido, uma vez que na busca dos artigos, buscamos por \"whey protein\" na barra de pesquisa de todos os sites??\n"
   ]
  },
  {
   "cell_type": "code",
   "execution_count": 183,
   "metadata": {},
   "outputs": [],
   "source": [
    "df_tnation = df_tnation.drop([6,7,8], axis=0)\n",
    "df_maxtitanium = df_maxtitanium.drop([8],axis=0)\n",
    "df_nutrufy = df_nutrufy.drop([7], axis=0)\n",
    "df_suplementacao = df_suplementacao.drop([7], axis=0)"
   ]
  },
  {
   "cell_type": "code",
   "execution_count": 184,
   "metadata": {},
   "outputs": [],
   "source": [
    "def saving_final_data_sites(df, final_file_name):\n",
    "        # final word count data folder \n",
    "        final_folder = \"C:\\\\Users\\\\cedua\\\\CDIA - PUCSP\\\\PROJETO PySpark - SAVINO\\\\Contador-de-palavras---PySpark\\\\data\\\\final_data_sites\"\n",
    "        # full final folder path\n",
    "        final_file_path = final_folder+\"\\\\\"+\"final_\"+final_file_name+\".csv\"\n",
    "        # saving\n",
    "        df.to_csv(final_file_path, index=False)\n",
    "\n",
    "saving_final_data_sites(df_fitnessandpower, \"df_fitnessandpower\")\n",
    "saving_final_data_sites(df_healthline, \"df_healthline\")\n",
    "saving_final_data_sites(df_proteinlicious, \"df_proteinlicious\")\n",
    "saving_final_data_sites(df_tnation, \"df_tnation\")\n",
    "saving_final_data_sites(df_gsup, \"df_gsup\")\n",
    "saving_final_data_sites(df_maxtitanium, \"df_maxtitanium\")\n",
    "saving_final_data_sites(df_myproteinblog, \"df_myproteinblog\")\n",
    "saving_final_data_sites(df_nutritotal, \"df_nutritotal\")\n",
    "saving_final_data_sites(df_nutrufy, \"df_nutrufy\")\n",
    "saving_final_data_sites(df_sanavita, \"df_sanavita\")\n",
    "saving_final_data_sites(df_suplementacao, \"df_suplementacao\")\n",
    "saving_final_data_sites(df_tuasaude, \"df_tuasaude\")"
   ]
  },
  {
   "cell_type": "code",
   "execution_count": null,
   "metadata": {},
   "outputs": [],
   "source": []
  }
 ],
 "metadata": {
  "kernelspec": {
   "display_name": "Python 3",
   "language": "python",
   "name": "python3"
  },
  "language_info": {
   "codemirror_mode": {
    "name": "ipython",
    "version": 3
   },
   "file_extension": ".py",
   "mimetype": "text/x-python",
   "name": "python",
   "nbconvert_exporter": "python",
   "pygments_lexer": "ipython3",
   "version": "3.11.4"
  },
  "orig_nbformat": 4
 },
 "nbformat": 4,
 "nbformat_minor": 2
}
