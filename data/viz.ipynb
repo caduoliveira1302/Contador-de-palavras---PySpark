{
 "cells": [
  {
   "cell_type": "code",
   "execution_count": 4,
   "metadata": {},
   "outputs": [],
   "source": [
    "import pandas as pd"
   ]
  },
  {
   "cell_type": "code",
   "execution_count": 5,
   "metadata": {},
   "outputs": [
    {
     "data": {
      "text/html": [
       "<div>\n",
       "<style scoped>\n",
       "    .dataframe tbody tr th:only-of-type {\n",
       "        vertical-align: middle;\n",
       "    }\n",
       "\n",
       "    .dataframe tbody tr th {\n",
       "        vertical-align: top;\n",
       "    }\n",
       "\n",
       "    .dataframe thead th {\n",
       "        text-align: right;\n",
       "    }\n",
       "</style>\n",
       "<table border=\"1\" class=\"dataframe\">\n",
       "  <thead>\n",
       "    <tr style=\"text-align: right;\">\n",
       "      <th></th>\n",
       "      <th>articles_text</th>\n",
       "    </tr>\n",
       "  </thead>\n",
       "  <tbody>\n",
       "    <tr>\n",
       "      <th>0</th>\n",
       "      <td>When you want to put on muscle or just increas...</td>\n",
       "    </tr>\n",
       "    <tr>\n",
       "      <th>1</th>\n",
       "      <td>If you have a hard time deciding which protein...</td>\n",
       "    </tr>\n",
       "    <tr>\n",
       "      <th>2</th>\n",
       "      <td>By now it’s probably common to associate whey ...</td>\n",
       "    </tr>\n",
       "    <tr>\n",
       "      <th>3</th>\n",
       "      <td>Everyone who leads a fit lifestyle and cares a...</td>\n",
       "    </tr>\n",
       "    <tr>\n",
       "      <th>4</th>\n",
       "      <td>As one of the best studied supplements in the ...</td>\n",
       "    </tr>\n",
       "    <tr>\n",
       "      <th>5</th>\n",
       "      <td>Among the multitude of benefits, whey protein ...</td>\n",
       "    </tr>\n",
       "    <tr>\n",
       "      <th>6</th>\n",
       "      <td>Whey protein is one of the most popular dietar...</td>\n",
       "    </tr>\n",
       "    <tr>\n",
       "      <th>7</th>\n",
       "      <td>If you take your protein supplement at the wro...</td>\n",
       "    </tr>\n",
       "    <tr>\n",
       "      <th>8</th>\n",
       "      <td>Looking to gain muscle and recover faster afte...</td>\n",
       "    </tr>\n",
       "    <tr>\n",
       "      <th>9</th>\n",
       "      <td>If you like something to satisfy your sweet to...</td>\n",
       "    </tr>\n",
       "  </tbody>\n",
       "</table>\n",
       "</div>"
      ],
      "text/plain": [
       "                                       articles_text\n",
       "0  When you want to put on muscle or just increas...\n",
       "1  If you have a hard time deciding which protein...\n",
       "2  By now it’s probably common to associate whey ...\n",
       "3  Everyone who leads a fit lifestyle and cares a...\n",
       "4  As one of the best studied supplements in the ...\n",
       "5  Among the multitude of benefits, whey protein ...\n",
       "6  Whey protein is one of the most popular dietar...\n",
       "7  If you take your protein supplement at the wro...\n",
       "8  Looking to gain muscle and recover faster afte...\n",
       "9  If you like something to satisfy your sweet to..."
      ]
     },
     "execution_count": 5,
     "metadata": {},
     "output_type": "execute_result"
    }
   ],
   "source": [
    "df = pd.read_csv('fitnessandpower_data.csv')\n",
    "df"
   ]
  },
  {
   "cell_type": "code",
   "execution_count": 9,
   "metadata": {},
   "outputs": [
    {
     "data": {
      "text/plain": [
       "'When you want to put on muscle or just increase your protein intake, one of your best choices would be to buy whey protein powder. However, even when picking your whey protein, you need to choose from a number of different types of protein powders.\\nThese powders come in all kinds of flavors from tens of different brands, but there are two major types – whey protein isolate and whey protein concentrate. What’s the difference, you ask? Each type has its own pros and cons, so keep reading to figure out which one is the right one for you.\\nARE THERE ANY DIFFERENCES IN THE WAYS THEY’RE MANUFACTURED?\\nYes! Whey protein isolate is much better filtered than whey protein concentrate. As a matter of fact, to create whey protein isolate, the factories filter the concentrate over and over again until they achieve the desired purity.\\nThis means that the particles in the isolate will be much smaller (by up to four times!) than the particles in the concentrate, which means that the isolate is much cleaner as a substance. This results in a larger degree of impurities in whey protein concentrate, which can lead to stomach problems and gassiness.\\nDO THEY HAVE THE SAME NUTRITIONAL VALUE?\\nNo! Whey protein concentrate is not filtered like the isolate variant, which means that it still has anywhere from five to seven percent of milk fat in it. Don’t get discouraged, milk fat can be very beneficial for you because of its high percentage of anabolic growth factors, phosphor-lipids such as CLA and a multitude of other things. These substances can help you lose weight, keep your body safe against cancer and last but not least, keep you in the anabolic phase.\\nDO THEY TASTE THE SAME?\\nNope! Whey protein isolate has a much clearer and better taste due to its superior filtration during manufacture. It has the taste of flavored milk, which is much better than the strong, powdered texture of a whey protein concentrate shake.\\nDO THEY CONTAIN THE SAME AMOUNT OF PROTEIN ?\\nNo! 100 grams of whey isolate contains higher amount of protein than 100 grams of whey protein concentrate. Again, this is because of the superior filtration process of the isolate variant, which means that more clean protein remained in the substance when it was being filtrated. The whey protein concentrate variants have a lot more fat and carbohydrates than the isolate, but the isolate will have much purer and a lot more protein per gram. This is the reason that the isolates are usually more expensive than the concentrates.\\nARE THEY ABSORBED THE SAME?\\nNo. Whey protein isolate is absorbed much faster than the concentrate variant and it will reach your muscles much faster as well. This means that the regeneration processes can start much faster and your workout will be more effective with isolates than with concentrates.\\nAll in all, you get to make a personal choice when shopping for whey protein. Most people tend to like the isolate better because of its lower percentage of non-protein substances such as fats and carbohydrates, the virtually side-effect free composition and its superior taste, however you can choose as you like.\\nIf you want to have the benefits of the extra amount of CLA in your shake, or if you’re on a smaller budget, a whey protein concentrate shake will get the job done.\\nNot as well as the isolate, but nevertheless, well enough. Also, if you aren’t very concerned about counting calories, a concentrate might be better for you anyway, but if you want cleaner and purer protein, you should pick the isolate variety.\\n\\nFor the latest news and updates join our 1 Million fans on Facebook and Pinterest.\\n\\nFacebook\\nTwitter\\nPinterest\\nReddit\\nCompartilhar'"
      ]
     },
     "execution_count": 9,
     "metadata": {},
     "output_type": "execute_result"
    }
   ],
   "source": [
    "df['articles_text'][0]"
   ]
  },
  {
   "cell_type": "code",
   "execution_count": null,
   "metadata": {},
   "outputs": [],
   "source": []
  }
 ],
 "metadata": {
  "kernelspec": {
   "display_name": "Python 3",
   "language": "python",
   "name": "python3"
  },
  "language_info": {
   "codemirror_mode": {
    "name": "ipython",
    "version": 3
   },
   "file_extension": ".py",
   "mimetype": "text/x-python",
   "name": "python",
   "nbconvert_exporter": "python",
   "pygments_lexer": "ipython3",
   "version": "3.11.3"
  },
  "orig_nbformat": 4
 },
 "nbformat": 4,
 "nbformat_minor": 2
}
