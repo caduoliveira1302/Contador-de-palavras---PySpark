{
 "cells": [
  {
   "cell_type": "code",
   "execution_count": 1,
   "metadata": {},
   "outputs": [],
   "source": [
    "from selenium import webdriver \n",
    "from selenium.webdriver.common.keys import Keys\n",
    "from selenium.webdriver.common.by import By\n",
    "from selenium.common.exceptions import NoSuchElementException\n",
    "from time import sleep\n",
    "import warnings\n",
    "import re\n",
    "warnings.filterwarnings(\"ignore\")\n",
    "import pandas as pd"
   ]
  },
  {
   "cell_type": "code",
   "execution_count": 5,
   "metadata": {},
   "outputs": [],
   "source": [
    "class MyProteinBlog:\n",
    "    def __init__(self):\n",
    "        self.url = \"https://www.myprotein.com.br/blog/\"\n",
    "        self.driver = webdriver.Chrome(\"C:/ProgramData/Microsoft/Windows/Start Menu/Programs/chromedriver\")\n",
    "        self.driver.maximize_window()\n",
    "        self.articles_path = [f\"\"\"//*[@id=\"post-content\"]/div[{i}]/div/h4/a\"\"\" for i in range(1,3)]\n",
    "        self.blog_list = []\n",
    "\n",
    "    \n",
    "    def open_url(self):\n",
    "        self.driver.get(self.url)\n",
    "\n",
    "    def search_product(self):\n",
    "        supplements_menu = self.driver.find_element(By.XPATH, \"\"\"//*[@id=\"page-navigation__items\"]/li[2]/a\"\"\")\n",
    "        supplements_menu.click()\n",
    "        sleep(2)\n",
    "\n",
    "        search_button = self.driver.find_element(By.XPATH, \"\"\"//*[@id=\"page-navigation__items\"]/li[5]/button\"\"\")\n",
    "        search_button.click()\n",
    "        sleep(2)\n",
    "\n",
    "        input_text = self.driver.find_element(By.XPATH, \"\"\"//*[@id=\"page-header-search-keywords\"]\"\"\")\n",
    "        input_text.send_keys(\"whey protein\")\n",
    "        sleep(2)\n",
    "\n",
    "        search_button2 = self.driver.find_element(By.XPATH, \"\"\"//*[@id=\"page-header-search\"]/fieldset/button\"\"\")\n",
    "        search_button2.click()\n",
    "        sleep(2)  \n",
    "\n",
    "        for artic in self.articles_path:\n",
    "            xpath_article = self.driver.find_element(By.XPATH, f\"{artic}\")\n",
    "            xpath_article.click()\n",
    "            sleep(2)\n",
    "                \n",
    "            entire_page = self.driver.find_element(By.CLASS_NAME,\"post-content-inner\")\n",
    "            self.blog_list.append(entire_page.text)\n",
    "            self.driver.back()\n",
    "\n",
    "    def save_articles(self):\n",
    "        df = pd.DataFrame({\"articles_text\" : self.blog_list})\n",
    "        df.to_csv(f\"C:/Users/cedua/CDIA - PUCSP/PROJETO PySpark (SAVINO)/Contador-de-palavras---PySpark/data/myproteinblog_data.csv\", index=False)\n"
   ]
  },
  {
   "cell_type": "code",
   "execution_count": 6,
   "metadata": {},
   "outputs": [
    {
     "name": "stderr",
     "output_type": "stream",
     "text": [
      "Incompatible release of chromedriver (version 98.0.4758.102) detected in PATH: C:\\Users\\cedua\\AppData\\Local\\Microsoft\\WindowsApps\\chromedriver.exe\n"
     ]
    },
    {
     "ename": "ElementClickInterceptedException",
     "evalue": "Message: element click intercepted: Element is not clickable at point (809, 695)\n  (Session info: chrome=114.0.5735.90)\nStacktrace:\nBacktrace:\n\tGetHandleVerifier [0x00C4A813+48355]\n\t(No symbol) [0x00BDC4B1]\n\t(No symbol) [0x00AE5358]\n\t(No symbol) [0x00B15062]\n\t(No symbol) [0x00B13B98]\n\t(No symbol) [0x00B1239B]\n\t(No symbol) [0x00B1179E]\n\t(No symbol) [0x00B09F5C]\n\t(No symbol) [0x00B2A73C]\n\t(No symbol) [0x00B09A36]\n\t(No symbol) [0x00B2AA94]\n\t(No symbol) [0x00B3C922]\n\t(No symbol) [0x00B2A536]\n\t(No symbol) [0x00B082DC]\n\t(No symbol) [0x00B093DD]\n\tGetHandleVerifier [0x00EAAABD+2539405]\n\tGetHandleVerifier [0x00EEA78F+2800735]\n\tGetHandleVerifier [0x00EE456C+2775612]\n\tGetHandleVerifier [0x00CD51E0+616112]\n\t(No symbol) [0x00BE5F8C]\n\t(No symbol) [0x00BE2328]\n\t(No symbol) [0x00BE240B]\n\t(No symbol) [0x00BD4FF7]\n\tBaseThreadInitThunk [0x762B00C9+25]\n\tRtlGetAppContainerNamedObjectPath [0x76F87B4E+286]\n\tRtlGetAppContainerNamedObjectPath [0x76F87B1E+238]\n",
     "output_type": "error",
     "traceback": [
      "\u001b[1;31m---------------------------------------------------------------------------\u001b[0m",
      "\u001b[1;31mElementClickInterceptedException\u001b[0m          Traceback (most recent call last)",
      "Cell \u001b[1;32mIn[6], line 3\u001b[0m\n\u001b[0;32m      1\u001b[0m myprotein \u001b[39m=\u001b[39m MyProteinBlog()\n\u001b[0;32m      2\u001b[0m myprotein\u001b[39m.\u001b[39mopen_url()\n\u001b[1;32m----> 3\u001b[0m myprotein\u001b[39m.\u001b[39;49msearch_product()\n\u001b[0;32m      4\u001b[0m myprotein\u001b[39m.\u001b[39msave_articles()\n",
      "Cell \u001b[1;32mIn[5], line 32\u001b[0m, in \u001b[0;36mMyProteinBlog.search_product\u001b[1;34m(self)\u001b[0m\n\u001b[0;32m     30\u001b[0m \u001b[39mfor\u001b[39;00m artic \u001b[39min\u001b[39;00m \u001b[39mself\u001b[39m\u001b[39m.\u001b[39marticles_path:\n\u001b[0;32m     31\u001b[0m     xpath_article \u001b[39m=\u001b[39m \u001b[39mself\u001b[39m\u001b[39m.\u001b[39mdriver\u001b[39m.\u001b[39mfind_element(By\u001b[39m.\u001b[39mXPATH, \u001b[39mf\u001b[39m\u001b[39m\"\u001b[39m\u001b[39m{\u001b[39;00martic\u001b[39m}\u001b[39;00m\u001b[39m\"\u001b[39m)\n\u001b[1;32m---> 32\u001b[0m     xpath_article\u001b[39m.\u001b[39;49mclick()\n\u001b[0;32m     33\u001b[0m     sleep(\u001b[39m2\u001b[39m)\n\u001b[0;32m     35\u001b[0m     entire_page \u001b[39m=\u001b[39m \u001b[39mself\u001b[39m\u001b[39m.\u001b[39mdriver\u001b[39m.\u001b[39mfind_element(By\u001b[39m.\u001b[39mCLASS_NAME,\u001b[39m\"\u001b[39m\u001b[39mpost-content-inner\u001b[39m\u001b[39m\"\u001b[39m)\n",
      "File \u001b[1;32mc:\\Users\\cedua\\AppData\\Local\\Programs\\Python\\Python311\\Lib\\site-packages\\selenium\\webdriver\\remote\\webelement.py:94\u001b[0m, in \u001b[0;36mWebElement.click\u001b[1;34m(self)\u001b[0m\n\u001b[0;32m     92\u001b[0m \u001b[39mdef\u001b[39;00m \u001b[39mclick\u001b[39m(\u001b[39mself\u001b[39m) \u001b[39m-\u001b[39m\u001b[39m>\u001b[39m \u001b[39mNone\u001b[39;00m:\n\u001b[0;32m     93\u001b[0m \u001b[39m    \u001b[39m\u001b[39m\"\"\"Clicks the element.\"\"\"\u001b[39;00m\n\u001b[1;32m---> 94\u001b[0m     \u001b[39mself\u001b[39;49m\u001b[39m.\u001b[39;49m_execute(Command\u001b[39m.\u001b[39;49mCLICK_ELEMENT)\n",
      "File \u001b[1;32mc:\\Users\\cedua\\AppData\\Local\\Programs\\Python\\Python311\\Lib\\site-packages\\selenium\\webdriver\\remote\\webelement.py:403\u001b[0m, in \u001b[0;36mWebElement._execute\u001b[1;34m(self, command, params)\u001b[0m\n\u001b[0;32m    401\u001b[0m     params \u001b[39m=\u001b[39m {}\n\u001b[0;32m    402\u001b[0m params[\u001b[39m\"\u001b[39m\u001b[39mid\u001b[39m\u001b[39m\"\u001b[39m] \u001b[39m=\u001b[39m \u001b[39mself\u001b[39m\u001b[39m.\u001b[39m_id\n\u001b[1;32m--> 403\u001b[0m \u001b[39mreturn\u001b[39;00m \u001b[39mself\u001b[39;49m\u001b[39m.\u001b[39;49m_parent\u001b[39m.\u001b[39;49mexecute(command, params)\n",
      "File \u001b[1;32mc:\\Users\\cedua\\AppData\\Local\\Programs\\Python\\Python311\\Lib\\site-packages\\selenium\\webdriver\\remote\\webdriver.py:440\u001b[0m, in \u001b[0;36mWebDriver.execute\u001b[1;34m(self, driver_command, params)\u001b[0m\n\u001b[0;32m    438\u001b[0m response \u001b[39m=\u001b[39m \u001b[39mself\u001b[39m\u001b[39m.\u001b[39mcommand_executor\u001b[39m.\u001b[39mexecute(driver_command, params)\n\u001b[0;32m    439\u001b[0m \u001b[39mif\u001b[39;00m response:\n\u001b[1;32m--> 440\u001b[0m     \u001b[39mself\u001b[39;49m\u001b[39m.\u001b[39;49merror_handler\u001b[39m.\u001b[39;49mcheck_response(response)\n\u001b[0;32m    441\u001b[0m     response[\u001b[39m\"\u001b[39m\u001b[39mvalue\u001b[39m\u001b[39m\"\u001b[39m] \u001b[39m=\u001b[39m \u001b[39mself\u001b[39m\u001b[39m.\u001b[39m_unwrap_value(response\u001b[39m.\u001b[39mget(\u001b[39m\"\u001b[39m\u001b[39mvalue\u001b[39m\u001b[39m\"\u001b[39m, \u001b[39mNone\u001b[39;00m))\n\u001b[0;32m    442\u001b[0m     \u001b[39mreturn\u001b[39;00m response\n",
      "File \u001b[1;32mc:\\Users\\cedua\\AppData\\Local\\Programs\\Python\\Python311\\Lib\\site-packages\\selenium\\webdriver\\remote\\errorhandler.py:245\u001b[0m, in \u001b[0;36mErrorHandler.check_response\u001b[1;34m(self, response)\u001b[0m\n\u001b[0;32m    243\u001b[0m         alert_text \u001b[39m=\u001b[39m value[\u001b[39m\"\u001b[39m\u001b[39malert\u001b[39m\u001b[39m\"\u001b[39m]\u001b[39m.\u001b[39mget(\u001b[39m\"\u001b[39m\u001b[39mtext\u001b[39m\u001b[39m\"\u001b[39m)\n\u001b[0;32m    244\u001b[0m     \u001b[39mraise\u001b[39;00m exception_class(message, screen, stacktrace, alert_text)  \u001b[39m# type: ignore[call-arg]  # mypy is not smart enough here\u001b[39;00m\n\u001b[1;32m--> 245\u001b[0m \u001b[39mraise\u001b[39;00m exception_class(message, screen, stacktrace)\n",
      "\u001b[1;31mElementClickInterceptedException\u001b[0m: Message: element click intercepted: Element is not clickable at point (809, 695)\n  (Session info: chrome=114.0.5735.90)\nStacktrace:\nBacktrace:\n\tGetHandleVerifier [0x00C4A813+48355]\n\t(No symbol) [0x00BDC4B1]\n\t(No symbol) [0x00AE5358]\n\t(No symbol) [0x00B15062]\n\t(No symbol) [0x00B13B98]\n\t(No symbol) [0x00B1239B]\n\t(No symbol) [0x00B1179E]\n\t(No symbol) [0x00B09F5C]\n\t(No symbol) [0x00B2A73C]\n\t(No symbol) [0x00B09A36]\n\t(No symbol) [0x00B2AA94]\n\t(No symbol) [0x00B3C922]\n\t(No symbol) [0x00B2A536]\n\t(No symbol) [0x00B082DC]\n\t(No symbol) [0x00B093DD]\n\tGetHandleVerifier [0x00EAAABD+2539405]\n\tGetHandleVerifier [0x00EEA78F+2800735]\n\tGetHandleVerifier [0x00EE456C+2775612]\n\tGetHandleVerifier [0x00CD51E0+616112]\n\t(No symbol) [0x00BE5F8C]\n\t(No symbol) [0x00BE2328]\n\t(No symbol) [0x00BE240B]\n\t(No symbol) [0x00BD4FF7]\n\tBaseThreadInitThunk [0x762B00C9+25]\n\tRtlGetAppContainerNamedObjectPath [0x76F87B4E+286]\n\tRtlGetAppContainerNamedObjectPath [0x76F87B1E+238]\n"
     ]
    }
   ],
   "source": [
    "myprotein = MyProteinBlog()\n",
    "myprotein.open_url()\n",
    "myprotein.search_product()\n",
    "myprotein.save_articles()"
   ]
  },
  {
   "attachments": {},
   "cell_type": "markdown",
   "metadata": {},
   "source": [
    "//*[@id=\"post-content\"]/div[1]/div/h4/a\n",
    "//*[@id=\"post-content\"]/div[2]/div/h4/a"
   ]
  },
  {
   "attachments": {},
   "cell_type": "markdown",
   "metadata": {},
   "source": [
    "texto ---> class \"post-content-inner\""
   ]
  }
 ],
 "metadata": {
  "kernelspec": {
   "display_name": "base",
   "language": "python",
   "name": "python3"
  },
  "language_info": {
   "codemirror_mode": {
    "name": "ipython",
    "version": 3
   },
   "file_extension": ".py",
   "mimetype": "text/x-python",
   "name": "python",
   "nbconvert_exporter": "python",
   "pygments_lexer": "ipython3",
   "version": "3.11.3"
  },
  "orig_nbformat": 4
 },
 "nbformat": 4,
 "nbformat_minor": 2
}
