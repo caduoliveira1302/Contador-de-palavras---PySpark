{
 "cells": [
  {
   "cell_type": "code",
   "execution_count": 1,
   "metadata": {},
   "outputs": [],
   "source": [
    "from selenium import webdriver \n",
    "from selenium.webdriver.common.keys import Keys\n",
    "from selenium.webdriver.common.by import By\n",
    "from selenium.common.exceptions import NoSuchElementException\n",
    "from time import sleep\n",
    "import warnings\n",
    "import re\n",
    "warnings.filterwarnings(\"ignore\")\n",
    "import pandas as pd"
   ]
  },
  {
   "cell_type": "code",
   "execution_count": 5,
   "metadata": {},
   "outputs": [],
   "source": [
    "class MyProteinBlog:\n",
    "    def __init__(self):\n",
    "        self.url = \"https://www.myprotein.com.br/blog/\"\n",
    "        self.driver = webdriver.Chrome(\"C:/ProgramData/Microsoft/Windows/Start Menu/Programs/chromedriver\")\n",
    "        self.driver.maximize_window()\n",
    "        self.articles_path = [f\"\"\"//*[@id=\"post-content\"]/div[{i}]/div/h4/a\"\"\" for i in range(1,3)]\n",
    "        self.blog_list = []\n",
    "\n",
    "    \n",
    "    def open_url(self):\n",
    "        self.driver.get(self.url)\n",
    "\n",
    "    def search_product(self):\n",
    "        supplements_menu = self.driver.find_element(By.XPATH, \"\"\"//*[@id=\"page-navigation__items\"]/li[2]/a\"\"\")\n",
    "        supplements_menu.click()\n",
    "        sleep(2)\n",
    "\n",
    "        search_button = self.driver.find_element(By.XPATH, \"\"\"//*[@id=\"page-navigation__items\"]/li[5]/button\"\"\")\n",
    "        search_button.click()\n",
    "        sleep(2)\n",
    "\n",
    "        input_text = self.driver.find_element(By.XPATH, \"\"\"//*[@id=\"page-header-search-keywords\"]\"\"\")\n",
    "        input_text.send_keys(\"whey protein\")\n",
    "        sleep(2)\n",
    "\n",
    "        search_button2 = self.driver.find_element(By.XPATH, \"\"\"//*[@id=\"page-header-search\"]/fieldset/button\"\"\")\n",
    "        search_button2.click()\n",
    "        sleep(2)  \n",
    "\n",
    "        for artic in self.articles_path:\n",
    "            xpath_article = self.driver.find_element(By.XPATH, f\"{artic}\")\n",
    "            xpath_article.click()\n",
    "            sleep(2)\n",
    "                \n",
    "            entire_page = self.driver.find_element(By.CLASS_NAME,\"post-content-inner\")\n",
    "            self.blog_list.append(entire_page.text)\n",
    "            self.driver.back()\n",
    "\n",
    "    def save_articles(self):\n",
    "        df = pd.DataFrame({\"articles_text\" : self.blog_list})\n",
    "        df.to_csv(f\"C:/Users/cedua/CDIA - PUCSP/PROJETO PySpark (SAVINO)/Contador-de-palavras---PySpark/data/myproteinblog_data.csv\", index=False)\n"
   ]
  },
  {
   "cell_type": "code",
   "execution_count": null,
   "metadata": {},
   "outputs": [],
   "source": [
    "myprotein = MyProteinBlog()\n",
    "myprotein.open_url()\n",
    "myprotein.search_product()\n",
    "myprotein.save_articles()"
   ]
  }
 ],
 "metadata": {
  "kernelspec": {
   "display_name": "base",
   "language": "python",
   "name": "python3"
  },
  "language_info": {
   "codemirror_mode": {
    "name": "ipython",
    "version": 3
   },
   "file_extension": ".py",
   "mimetype": "text/x-python",
   "name": "python",
   "nbconvert_exporter": "python",
   "pygments_lexer": "ipython3",
   "version": "3.11.3"
  },
  "orig_nbformat": 4
 },
 "nbformat": 4,
 "nbformat_minor": 2
}
