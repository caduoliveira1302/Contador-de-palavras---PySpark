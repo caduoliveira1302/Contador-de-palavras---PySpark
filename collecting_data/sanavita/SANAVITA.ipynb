{
 "cells": [
  {
   "cell_type": "code",
   "execution_count": 2,
   "id": "472107c6",
   "metadata": {},
   "outputs": [],
   "source": [
    "from newspaper import Article\n",
    "import pandas as pd\n",
    "import warnings\n",
    "from time import sleep"
   ]
  },
  {
   "cell_type": "code",
   "execution_count": 3,
   "id": "cb266b9d",
   "metadata": {},
   "outputs": [],
   "source": [
    "def get_link(url):\n",
    "    article = Article(url)\n",
    "    article.download()\n",
    "    article.parse()\n",
    "    article.nlp()\n",
    "\n",
    "    text = article.text.lower()\n",
    "    \n",
    "    # Obter os artigos\n",
    "    text = article.text\n",
    "    \n",
    "    return text"
   ]
  },
  {
   "cell_type": "code",
   "execution_count": 5,
   "id": "b6c25ebc",
   "metadata": {},
   "outputs": [
    {
     "name": "stdout",
     "output_type": "stream",
     "text": [
      "Artigos salvos\n"
     ]
    }
   ],
   "source": [
    "urls = [\n",
    "    \"https://blog.sanavita.com.br/whey-protein-creatina-diferenca/\",\n",
    "    \"https://blog.sanavita.com.br/whey-protein-como-tomar/\",\n",
    "    \"https://blog.sanavita.com.br/creatina-mitos-e-verdades/\",\n",
    "    \"https://blog.sanavita.com.br/bodybalance/\",\n",
    "    \"https://blog.sanavita.com.br/tipos-de-whey-protein/\",\n",
    "    \"https://blog.sanavita.com.br/beneficios-do-whey-protein/\"\n",
    "]\n",
    "\n",
    "\n",
    "df = pd.DataFrame(columns=['Artigo'])\n",
    "\n",
    "for url in urls:\n",
    "    text = get_link(url)\n",
    "    df.loc[len(df)] = [text]\n",
    "\n",
    "filename = \"sanavita.txt\"\n",
    "with open(filename, 'w', encoding='utf-8') as file:\n",
    "    for index, row in df.iterrows():\n",
    "        text = row['Artigo']\n",
    "        file.write(f\"Article {index}:\\n\\n{text}\\n\\n\")\n",
    "\n",
    "print(\"Artigos salvos\")"
   ]
  }
 ],
 "metadata": {
  "kernelspec": {
   "display_name": "Python 3 (ipykernel)",
   "language": "python",
   "name": "python3"
  },
  "language_info": {
   "codemirror_mode": {
    "name": "ipython",
    "version": 3
   },
   "file_extension": ".py",
   "mimetype": "text/x-python",
   "name": "python",
   "nbconvert_exporter": "python",
   "pygments_lexer": "ipython3",
   "version": "3.10.9"
  }
 },
 "nbformat": 4,
 "nbformat_minor": 5
}
