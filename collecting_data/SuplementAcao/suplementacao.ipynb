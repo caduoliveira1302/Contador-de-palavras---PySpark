{
 "cells": [
  {
   "cell_type": "code",
   "execution_count": 107,
   "metadata": {},
   "outputs": [],
   "source": [
    "from selenium import webdriver \n",
    "from selenium.webdriver.common.keys import Keys\n",
    "from selenium.webdriver.common.by import By\n",
    "from selenium.common.exceptions import NoSuchElementException\n",
    "from time import sleep\n",
    "import warnings\n",
    "import re\n",
    "warnings.filterwarnings(\"ignore\")\n",
    "import pandas as pd"
   ]
  },
  {
   "cell_type": "code",
   "execution_count": 110,
   "metadata": {},
   "outputs": [],
   "source": [
    "class SuplementAcao:\n",
    "    def __init__(self):\n",
    "        self.url = \"https://www.revistasuplementacao.com.br/\"\n",
    "        self.driver = webdriver.Chrome()\n",
    "        self.driver.maximize_window()\n",
    "        self.articles_path = [f\"\"\"/html/body/section/div/div/div[1]/div[1]/div[{i}]/div/div[2]/div/h2/a\"\"\" for i in range(1,12)]\n",
    "        self.blog_list = []\n",
    "\n",
    "    def open_url(self):\n",
    "        self.driver.get(self.url)\n",
    "\n",
    "    def search_product_and_get_article(self):\n",
    "        subjects_menu = self.driver.find_element(By.XPATH, \"/html/body/div[3]/div/div/nav/div/div/ul/li[2]/a\")\n",
    "        subjects_menu.click()\n",
    "        sleep(2)\n",
    "\n",
    "        supplements_menu = self.driver.find_element(By.XPATH, \"/html/body/section/div/div/div[1]/div[1]/ul/li[16]/a\")\n",
    "        supplements_menu.click()\n",
    "        sleep(3)\n",
    "\n",
    "        for artic in self.articles_path:\n",
    "            article = self.driver.find_element(By.XPATH, f\"{artic}\")\n",
    "            article.click()\n",
    "            sleep(2)\n",
    "            article_text = self.driver.find_element(By.XPATH, \"/html/body/section/div/div/div[1]/div[1]/div[2]/div[2]\")\n",
    "            self.blog_list.append(article_text.text)\n",
    "            self.driver.back()\n",
    "\n",
    "    def save_articles(self):\n",
    "        df = pd.DataFrame({\"articles_text\" : self.blog_list})\n",
    "        df.to_csv(f\"suplementacao.csv\")"
   ]
  },
  {
   "cell_type": "code",
   "execution_count": null,
   "metadata": {},
   "outputs": [],
   "source": [
    "suplementacao = SuplementAcao()\n",
    "suplementacao.open_url()\n",
    "suplementacao.search_product_and_get_article()\n",
    "suplementacao.save_articles()"
   ]
  },
  {
   "attachments": {},
   "cell_type": "markdown",
   "metadata": {},
   "source": [
    "PRÓXIMOS PASSOS\n",
    "- Buscar pela palavra \"whey\" nos artigos"
   ]
  },
  {
   "attachments": {},
   "cell_type": "markdown",
   "metadata": {},
   "source": []
  }
 ],
 "metadata": {
  "kernelspec": {
   "display_name": "base",
   "language": "python",
   "name": "python3"
  },
  "language_info": {
   "codemirror_mode": {
    "name": "ipython",
    "version": 3
   },
   "file_extension": ".py",
   "mimetype": "text/x-python",
   "name": "python",
   "nbconvert_exporter": "python",
   "pygments_lexer": "ipython3",
   "version": "3.10.9"
  },
  "orig_nbformat": 4
 },
 "nbformat": 4,
 "nbformat_minor": 2
}
