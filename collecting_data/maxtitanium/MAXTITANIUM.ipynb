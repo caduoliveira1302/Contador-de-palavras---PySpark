{
 "cells": [
  {
   "cell_type": "code",
   "execution_count": 1,
   "id": "bb53c537",
   "metadata": {},
   "outputs": [],
   "source": [
    "from newspaper import Article\n",
    "import pandas as pd\n",
    "import warnings\n",
    "from time import sleep"
   ]
  },
  {
   "cell_type": "code",
   "execution_count": 2,
   "id": "89a4ea32",
   "metadata": {},
   "outputs": [],
   "source": [
    "def get_link(url):\n",
    "    article = Article(url)\n",
    "    article.download()\n",
    "    article.parse()\n",
    "    article.nlp()\n",
    "\n",
    "    text = article.text.lower()\n",
    "    \n",
    "    # Obter os artigos\n",
    "    text = article.text\n",
    "    \n",
    "    return text"
   ]
  },
  {
   "cell_type": "code",
   "execution_count": 5,
   "id": "ca8e77e7",
   "metadata": {},
   "outputs": [
    {
     "name": "stdout",
     "output_type": "stream",
     "text": [
      "Artigos salvos\n"
     ]
    }
   ],
   "source": [
    "urls = [\n",
    "    \"https://blog.maxtitanium.com.br/posso-tomar-whey-protein-sem-treinar/\",\n",
    "    \"https://blog.maxtitanium.com.br/melhor-horario-tomar-whey/\",\n",
    "    \"https://blog.maxtitanium.com.br/glutamina-qual-a-importancia/\",\n",
    "    \"https://blog.maxtitanium.com.br/qual-e-a-diferenca-entre-whey-e-hipercalorico/\",\n",
    "    \"https://blog.maxtitanium.com.br/suplementos-para-iniciantes/\",\n",
    "    \"https://blog.maxtitanium.com.br/creatina-tudo-que-voce-precisa-saber-sobre-o-suplemento/\",\n",
    "    \"https://blog.maxtitanium.com.br/por-que-tomar-whey-protein/\",\n",
    "    \"https://blog.maxtitanium.com.br/beneficios-da-suplementacao-de-oleos/\",\n",
    "    \"https://blog.maxtitanium.com.br/como-a-suplementacao-auxilia-no-tonus-muscular/\",\n",
    "    \"https://blog.maxtitanium.com.br/entenda-a-importancia-de-suplementar-ate-mesmo-nos-dias-de-descanso/\",\n",
    "    \"https://blog.maxtitanium.com.br/qual-e-a-melhor-forma-de-consumir-whey-protein/\",\n",
    "    \"https://blog.maxtitanium.com.br/suplemento-essencial-como-a-glutamina-afeta-seu-sistema-imunologico/\"\n",
    "]\n",
    "\n",
    "\n",
    "df = pd.DataFrame(columns=['Artigo'])\n",
    "\n",
    "for url in urls:\n",
    "    text = get_link(url)\n",
    "    df.loc[len(df)] = [text]\n",
    "\n",
    "filename = \"maxtitanium.txt\"\n",
    "with open(filename, 'w', encoding='utf-8') as file:\n",
    "    for index, row in df.iterrows():\n",
    "        text = row['Artigo']\n",
    "        file.write(f\"Article {index}:\\n\\n{text}\\n\\n\")\n",
    "\n",
    "print(\"Artigos salvos\")"
   ]
  }
 ],
 "metadata": {
  "kernelspec": {
   "display_name": "Python 3 (ipykernel)",
   "language": "python",
   "name": "python3"
  },
  "language_info": {
   "codemirror_mode": {
    "name": "ipython",
    "version": 3
   },
   "file_extension": ".py",
   "mimetype": "text/x-python",
   "name": "python",
   "nbconvert_exporter": "python",
   "pygments_lexer": "ipython3",
   "version": "3.10.9"
  }
 },
 "nbformat": 4,
 "nbformat_minor": 5
}
