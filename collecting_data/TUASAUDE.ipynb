{
 "cells": [
  {
   "cell_type": "code",
   "execution_count": 1,
   "id": "8b728aba",
   "metadata": {},
   "outputs": [],
   "source": [
    "from newspaper import Article\n",
    "import pandas as pd\n",
    "import warnings\n",
    "from time import sleep"
   ]
  },
  {
   "cell_type": "code",
   "execution_count": 2,
   "id": "94cb5720",
   "metadata": {},
   "outputs": [],
   "source": [
    "def get_link(url):\n",
    "    article = Article(url)\n",
    "    article.download()\n",
    "    article.parse()\n",
    "    article.nlp()\n",
    "\n",
    "    text = article.text.lower()\n",
    "    \n",
    "    # Obter os artigos\n",
    "    text = article.text\n",
    "    \n",
    "    return text"
   ]
  },
  {
   "cell_type": "code",
   "execution_count": 4,
   "id": "1073bbb2",
   "metadata": {},
   "outputs": [
    {
     "name": "stdout",
     "output_type": "stream",
     "text": [
      "Artigos salvos\n"
     ]
    }
   ],
   "source": [
    "urls = [\n",
    "    \"https://www.tuasaude.com/suplementos-para-ganhar-massa-muscular/\",\n",
    "    \"https://www.tuasaude.com/tomar-creatina/\",\n",
    "    \"https://www.tuasaude.com/creatina/\",\n",
    "    \"https://www.tuasaude.com/whey-protein/\"\n",
    "]\n",
    "\n",
    "\n",
    "df = pd.DataFrame(columns=['Artigo'])\n",
    "\n",
    "for url in urls:\n",
    "    text = get_link(url)\n",
    "    df.loc[len(df)] = [text]\n",
    "\n",
    "filename = \"tuasaude.txt\"\n",
    "with open(filename, 'w', encoding='utf-8') as file:\n",
    "    for index, row in df.iterrows():\n",
    "        text = row['Artigo']\n",
    "        file.write(f\"Article {index}:\\n\\n{text}\\n\\n\")\n",
    "\n",
    "print(\"Artigos salvos\")"
   ]
  }
 ],
 "metadata": {
  "kernelspec": {
   "display_name": "Python 3 (ipykernel)",
   "language": "python",
   "name": "python3"
  },
  "language_info": {
   "codemirror_mode": {
    "name": "ipython",
    "version": 3
   },
   "file_extension": ".py",
   "mimetype": "text/x-python",
   "name": "python",
   "nbconvert_exporter": "python",
   "pygments_lexer": "ipython3",
   "version": "3.10.9"
  }
 },
 "nbformat": 4,
 "nbformat_minor": 5
}
