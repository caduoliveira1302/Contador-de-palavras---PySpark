{
 "cells": [
  {
   "cell_type": "code",
   "execution_count": 29,
   "metadata": {},
   "outputs": [],
   "source": [
    "from selenium import webdriver \n",
    "from selenium.webdriver.common.keys import Keys\n",
    "from selenium.webdriver.common.by import By\n",
    "from selenium.common.exceptions import NoSuchElementException\n",
    "from time import sleep\n",
    "import warnings\n",
    "import re\n",
    "warnings.filterwarnings(\"ignore\")\n",
    "import pandas as pd"
   ]
  },
  {
   "cell_type": "code",
   "execution_count": 30,
   "metadata": {},
   "outputs": [],
   "source": [
    "class FitnessAndPower:\n",
    "    def __init__(self):\n",
    "        self.url = \"https://www.fitnessandpower.com/\"\n",
    "        self.driver = webdriver.Chrome(\"C:/ProgramData/Microsoft/Windows/Start Menu/Programs/chromedriver\")\n",
    "        self.driver.maximize_window()\n",
    "        self.articles_path = [f\"\"\"//*[@id=\"content_box\"]/article[{i}]/header/h2/a\"\"\" for i in range(1,11)]\n",
    "        self.blog_list = []\n",
    "\n",
    "    \n",
    "    def open_url(self):\n",
    "        self.driver.get(self.url)\n",
    "\n",
    "    def search_product(self):\n",
    "        supplements_menu = self.driver.find_element(By.XPATH, \"\"\"/html/body/div[1]/header/div/div/div[2]/nav[1]/ul/li[3]/a\"\"\")\n",
    "        supplements_menu.click()\n",
    "        sleep(2)\n",
    "\n",
    "        input_text = self.driver.find_element(By.XPATH, \"\"\"//*[@id=\"wp-block-search__input-1\"]\"\"\")\n",
    "        input_text.send_keys(\"whey protein\")\n",
    "        sleep(2)\n",
    "\n",
    "        search_button = self.driver.find_element(By.XPATH, \"\"\"/html/body/div[2]/div/aside/div[1]/form/div/button\"\"\")\n",
    "        search_button.click()\n",
    "        sleep(2)  \n",
    "\n",
    "        for artic in self.articles_path:\n",
    "            xpath_article = self.driver.find_element(By.XPATH, f\"{artic}\")\n",
    "            xpath_article.click()\n",
    "            sleep(2)\n",
    "                \n",
    "            entire_page = self.driver.find_element(By.CLASS_NAME,\"thecontent\")\n",
    "            self.blog_list.append(entire_page.text)\n",
    "            self.driver.back()\n",
    "\n",
    "    def save_articles(self):\n",
    "        df = pd.DataFrame({\"articles_text\" : self.blog_list})\n",
    "        df.to_csv(f\"C:/Users/cedua/CDIA - PUCSP/PROJETO PySpark (SAVINO)/Contador-de-palavras---PySpark/data/fitnessandpower_data.csv\", index=False)"
   ]
  },
  {
   "cell_type": "code",
   "execution_count": null,
   "metadata": {},
   "outputs": [],
   "source": [
    "fitandpower = FitnessAndPower()\n",
    "fitandpower.open_url()\n",
    "fitandpower.search_product()\n",
    "fitandpower.save_articles()"
   ]
  }
 ],
 "metadata": {
  "kernelspec": {
   "display_name": "base",
   "language": "python",
   "name": "python3"
  },
  "language_info": {
   "codemirror_mode": {
    "name": "ipython",
    "version": 3
   },
   "file_extension": ".py",
   "mimetype": "text/x-python",
   "name": "python",
   "nbconvert_exporter": "python",
   "pygments_lexer": "ipython3",
   "version": "3.11.3"
  },
  "orig_nbformat": 4
 },
 "nbformat": 4,
 "nbformat_minor": 2
}
