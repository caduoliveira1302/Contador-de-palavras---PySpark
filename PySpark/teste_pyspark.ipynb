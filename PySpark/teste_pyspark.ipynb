{
 "cells": [
  {
   "cell_type": "code",
   "execution_count": 14,
   "metadata": {},
   "outputs": [],
   "source": [
    "# !pip install googletrans==4.0.0-rc1\n",
    "# !pip install pyspark py4j\n",
    "# !pip install findspark"
   ]
  },
  {
   "cell_type": "code",
   "execution_count": 88,
   "metadata": {},
   "outputs": [],
   "source": [
    "from googletrans import Translator\n",
    "from pyspark.sql.functions import udf\n",
    "from pyspark.sql.types import StringType\n",
    "import pandas as pd\n",
    "import findspark\n",
    "findspark.init()\n",
    "import pyspark\n",
    "from pyspark.sql import SparkSession\n",
    "from pyspark.sql.functions import split\n",
    "from pyspark.sql.functions import explode, col\n",
    "from pyspark.sql.functions import regexp_extract\n",
    "from pyspark.sql.functions import lower\n",
    "from pyspark.ml.feature import StopWordsRemover"
   ]
  },
  {
   "cell_type": "code",
   "execution_count": 2,
   "metadata": {},
   "outputs": [
    {
     "data": {
      "text/html": [
       "\n",
       "            <div>\n",
       "                <p><b>SparkSession - in-memory</b></p>\n",
       "                \n",
       "        <div>\n",
       "            <p><b>SparkContext</b></p>\n",
       "\n",
       "            <p><a href=\"http://DESKTOP-JO1VKGV:4040\">Spark UI</a></p>\n",
       "\n",
       "            <dl>\n",
       "              <dt>Version</dt>\n",
       "                <dd><code>v3.4.0</code></dd>\n",
       "              <dt>Master</dt>\n",
       "                <dd><code>local[*]</code></dd>\n",
       "              <dt>AppName</dt>\n",
       "                <dd><code>PySpark - ContandoPalavras</code></dd>\n",
       "            </dl>\n",
       "        </div>\n",
       "        \n",
       "            </div>\n",
       "        "
      ],
      "text/plain": [
       "<pyspark.sql.session.SparkSession at 0x2c6fcafd990>"
      ]
     },
     "execution_count": 2,
     "metadata": {},
     "output_type": "execute_result"
    }
   ],
   "source": [
    "from pyspark.sql import SparkSession\n",
    "\n",
    "spark = SparkSession.builder.appName(\"PySpark - ContandoPalavras\").getOrCreate()\n",
    "sc = spark.sparkContext\n",
    "\n",
    "spark"
   ]
  },
  {
   "cell_type": "code",
   "execution_count": 104,
   "metadata": {},
   "outputs": [
    {
     "name": "stdout",
     "output_type": "stream",
     "text": [
      "+--------------------+\n",
      "|               value|\n",
      "+--------------------+\n",
      "|       articles_text|\n",
      "|\"When you want to...|\n",
      "|These powders com...|\n",
      "|ARE THERE ANY DIF...|\n",
      "|Yes! Whey protein...|\n",
      "|This means that t...|\n",
      "|DO THEY HAVE THE ...|\n",
      "|No! Whey protein ...|\n",
      "|DO THEY TASTE THE...|\n",
      "|Nope! Whey protei...|\n",
      "|DO THEY CONTAIN T...|\n",
      "|No! 100 grams of ...|\n",
      "|ARE THEY ABSORBED...|\n",
      "|No. Whey protein ...|\n",
      "|All in all, you g...|\n",
      "|If you want to ha...|\n",
      "|Not as well as th...|\n",
      "|                    |\n",
      "|For the latest ne...|\n",
      "|                    |\n",
      "+--------------------+\n",
      "only showing top 20 rows\n",
      "\n"
     ]
    },
    {
     "data": {
      "text/plain": [
       "pyspark.sql.dataframe.DataFrame"
      ]
     },
     "execution_count": 104,
     "metadata": {},
     "output_type": "execute_result"
    }
   ],
   "source": [
    "df = spark.read.text(\"C:/Users/cedua/CDIA - PUCSP/PROJETO PySpark (SAVINO)/Contador-de-palavras---PySpark/data/fitnessandpower.txt\")\n",
    "df.show()\n",
    "type(df)"
   ]
  },
  {
   "cell_type": "code",
   "execution_count": 87,
   "metadata": {},
   "outputs": [],
   "source": [
    "########################################################################################################################"
   ]
  },
  {
   "cell_type": "code",
   "execution_count": 20,
   "metadata": {},
   "outputs": [
    {
     "name": "stdout",
     "output_type": "stream",
     "text": [
      "[('B', 3), ('C', 3), ('D', 2), ('D D', 1)]\n"
     ]
    },
    {
     "data": {
      "text/html": [
       "<div>\n",
       "<style scoped>\n",
       "    .dataframe tbody tr th:only-of-type {\n",
       "        vertical-align: middle;\n",
       "    }\n",
       "\n",
       "    .dataframe tbody tr th {\n",
       "        vertical-align: top;\n",
       "    }\n",
       "\n",
       "    .dataframe thead th {\n",
       "        text-align: right;\n",
       "    }\n",
       "</style>\n",
       "<table border=\"1\" class=\"dataframe\">\n",
       "  <thead>\n",
       "    <tr style=\"text-align: right;\">\n",
       "      <th></th>\n",
       "      <th>0</th>\n",
       "      <th>1</th>\n",
       "    </tr>\n",
       "  </thead>\n",
       "  <tbody>\n",
       "    <tr>\n",
       "      <th>0</th>\n",
       "      <td>B</td>\n",
       "      <td>3</td>\n",
       "    </tr>\n",
       "    <tr>\n",
       "      <th>1</th>\n",
       "      <td>C</td>\n",
       "      <td>3</td>\n",
       "    </tr>\n",
       "    <tr>\n",
       "      <th>2</th>\n",
       "      <td>D</td>\n",
       "      <td>2</td>\n",
       "    </tr>\n",
       "    <tr>\n",
       "      <th>3</th>\n",
       "      <td>D D</td>\n",
       "      <td>1</td>\n",
       "    </tr>\n",
       "  </tbody>\n",
       "</table>\n",
       "</div>"
      ],
      "text/plain": [
       "     0  1\n",
       "0    B  3\n",
       "1    C  3\n",
       "2    D  2\n",
       "3  D D  1"
      ]
     },
     "execution_count": 20,
     "metadata": {},
     "output_type": "execute_result"
    }
   ],
   "source": [
    "#### EXEMPLO 1 - MAP REDUCE\n",
    "dados=[\"B\",\"B\",\"B\",\"C\",\"C\",\"C\",\"D\",\"D\",\"D D\"]\n",
    "\n",
    "input_file=sc.parallelize(dados,3)\n",
    "counts = input_file.map(lambda word:(word, 1)) \\\n",
    "                     .reduceByKey(lambda a, b: a + b)\n",
    "\n",
    "result=counts.collect()\n",
    "print(result) \n",
    "df=pd.DataFrame(result)\n",
    "df"
   ]
  },
  {
   "cell_type": "code",
   "execution_count": 22,
   "metadata": {},
   "outputs": [
    {
     "name": "stdout",
     "output_type": "stream",
     "text": [
      "[('B', 3), ('C', 0), ('D', 1)]\n"
     ]
    },
    {
     "data": {
      "text/html": [
       "<div>\n",
       "<style scoped>\n",
       "    .dataframe tbody tr th:only-of-type {\n",
       "        vertical-align: middle;\n",
       "    }\n",
       "\n",
       "    .dataframe tbody tr th {\n",
       "        vertical-align: top;\n",
       "    }\n",
       "\n",
       "    .dataframe thead th {\n",
       "        text-align: right;\n",
       "    }\n",
       "</style>\n",
       "<table border=\"1\" class=\"dataframe\">\n",
       "  <thead>\n",
       "    <tr style=\"text-align: right;\">\n",
       "      <th></th>\n",
       "      <th>0</th>\n",
       "      <th>1</th>\n",
       "    </tr>\n",
       "  </thead>\n",
       "  <tbody>\n",
       "    <tr>\n",
       "      <th>0</th>\n",
       "      <td>B</td>\n",
       "      <td>3</td>\n",
       "    </tr>\n",
       "    <tr>\n",
       "      <th>1</th>\n",
       "      <td>C</td>\n",
       "      <td>0</td>\n",
       "    </tr>\n",
       "    <tr>\n",
       "      <th>2</th>\n",
       "      <td>D</td>\n",
       "      <td>1</td>\n",
       "    </tr>\n",
       "  </tbody>\n",
       "</table>\n",
       "</div>"
      ],
      "text/plain": [
       "   0  1\n",
       "0  B  3\n",
       "1  C  0\n",
       "2  D  1"
      ]
     },
     "execution_count": 22,
     "metadata": {},
     "output_type": "execute_result"
    }
   ],
   "source": [
    "#### EXEMPLO 2 - MAP REDUCE\n",
    "dados=[\"B\",\"B\",\"B\",\"C\",\"C\",\"C\",\"D\"]\n",
    "item=[\"B\",\"D\"]\n",
    "input_file=sc.parallelize(dados,3)\n",
    "counts = (input_file.map(lambda word:(word, 1) if (word in item) else (word,0)) \n",
    "                     .reduceByKey(lambda a, b: a + b))\n",
    "\n",
    "result=counts.collect()\n",
    "print(result)\n",
    "df=pd.DataFrame(result)\n",
    "# df.query(\"qtde>0\")\n",
    "df"
   ]
  },
  {
   "cell_type": "code",
   "execution_count": 27,
   "metadata": {},
   "outputs": [],
   "source": [
    "#########################################################################################################################"
   ]
  },
  {
   "cell_type": "code",
   "execution_count": 63,
   "metadata": {},
   "outputs": [],
   "source": [
    "# def translate_text(text):\n",
    "#     translator = Translator()\n",
    "#     translation = translator.translate(text, dest=\"pt\")\n",
    "#     return translation.text"
   ]
  },
  {
   "cell_type": "code",
   "execution_count": 71,
   "metadata": {},
   "outputs": [],
   "source": [
    "# # Cria a função UDF (User Defined Function) para aplicar a tradução\n",
    "# translate_udf = udf(translate_text, StringType())\n",
    "\n",
    "# # Aplica a tradução no DataFrame usando a função UDF\n",
    "# df = df.withColumn(\"translated_text\", translate_udf(df['value']))\n",
    "# # translated_df = translated_df.drop(\"articles_text\")\n",
    "\n",
    "# # Mostra o DataFrame com os textos traduzidos\n",
    "# df.show()\n",
    "# type(df)"
   ]
  },
  {
   "attachments": {},
   "cell_type": "markdown",
   "metadata": {},
   "source": [
    "### Tratamento - PySpark"
   ]
  },
  {
   "cell_type": "code",
   "execution_count": 105,
   "metadata": {},
   "outputs": [
    {
     "name": "stdout",
     "output_type": "stream",
     "text": [
      "+--------------------+\n",
      "|               words|\n",
      "+--------------------+\n",
      "|     [articles_text]|\n",
      "|[\"When, you, want...|\n",
      "|[These, powders, ...|\n",
      "|[ARE, THERE, ANY,...|\n",
      "|[Yes!, Whey, prot...|\n",
      "|[This, means, tha...|\n",
      "|[DO, THEY, HAVE, ...|\n",
      "|[No!, Whey, prote...|\n",
      "|[DO, THEY, TASTE,...|\n",
      "|[Nope!, Whey, pro...|\n",
      "|[DO, THEY, CONTAI...|\n",
      "|[No!, 100, grams,...|\n",
      "|[ARE, THEY, ABSOR...|\n",
      "|[No., Whey, prote...|\n",
      "|[All, in, all,, y...|\n",
      "|[If, you, want, t...|\n",
      "|[Not, as, well, a...|\n",
      "|                  []|\n",
      "|[For, the, latest...|\n",
      "|                  []|\n",
      "+--------------------+\n",
      "only showing top 20 rows\n",
      "\n"
     ]
    },
    {
     "data": {
      "text/plain": [
       "pyspark.sql.dataframe.DataFrame"
      ]
     },
     "execution_count": 105,
     "metadata": {},
     "output_type": "execute_result"
    }
   ],
   "source": [
    "#spliting the df by space \" \" \n",
    "df = df.select(\n",
    "split(df['value'], ' ').alias('words')\n",
    ")\n",
    "\n",
    "df.show()\n",
    "type(df)"
   ]
  },
  {
   "cell_type": "code",
   "execution_count": 106,
   "metadata": {},
   "outputs": [
    {
     "name": "stdout",
     "output_type": "stream",
     "text": [
      "+--------------------+\n",
      "|              words2|\n",
      "+--------------------+\n",
      "|     [articles_text]|\n",
      "|[\"When, want, put...|\n",
      "|[powders, come, k...|\n",
      "|[DIFFERENCES, WAY...|\n",
      "|[Yes!, Whey, prot...|\n",
      "|[means, particles...|\n",
      "|[NUTRITIONAL, VAL...|\n",
      "|[No!, Whey, prote...|\n",
      "|      [TASTE, SAME?]|\n",
      "|[Nope!, Whey, pro...|\n",
      "|[CONTAIN, AMOUNT,...|\n",
      "|[No!, 100, grams,...|\n",
      "|   [ABSORBED, SAME?]|\n",
      "|[No., Whey, prote...|\n",
      "|[all,, get, make,...|\n",
      "|[want, benefits, ...|\n",
      "|[well, isolate,, ...|\n",
      "|                  []|\n",
      "|[latest, news, up...|\n",
      "|                  []|\n",
      "+--------------------+\n",
      "only showing top 20 rows\n",
      "\n"
     ]
    },
    {
     "data": {
      "text/plain": [
       "pyspark.sql.dataframe.DataFrame"
      ]
     },
     "execution_count": 106,
     "metadata": {},
     "output_type": "execute_result"
    }
   ],
   "source": [
    "stopwords_remover = StopWordsRemover(inputCol=\"words\", outputCol=\"words2\")\n",
    "\n",
    "# Aplique a remoção de stopwords\n",
    "df = stopwords_remover.transform(df)\n",
    "df = df.drop(\"words\")\n",
    "df.show()\n",
    "type(df)"
   ]
  },
  {
   "cell_type": "code",
   "execution_count": 107,
   "metadata": {},
   "outputs": [
    {
     "name": "stdout",
     "output_type": "stream",
     "text": [
      "+-------------+\n",
      "|       words3|\n",
      "+-------------+\n",
      "|articles_text|\n",
      "|        \"When|\n",
      "|         want|\n",
      "|          put|\n",
      "|       muscle|\n",
      "|     increase|\n",
      "|      protein|\n",
      "|      intake,|\n",
      "|          one|\n",
      "|         best|\n",
      "|      choices|\n",
      "|          buy|\n",
      "|         whey|\n",
      "|      protein|\n",
      "|      powder.|\n",
      "|     However,|\n",
      "|         even|\n",
      "|      picking|\n",
      "|         whey|\n",
      "|     protein,|\n",
      "+-------------+\n",
      "only showing top 20 rows\n",
      "\n"
     ]
    },
    {
     "data": {
      "text/plain": [
       "pyspark.sql.dataframe.DataFrame"
      ]
     },
     "execution_count": 107,
     "metadata": {},
     "output_type": "execute_result"
    }
   ],
   "source": [
    "#removing from lists\n",
    "df = df.select(\n",
    "explode(col(\"words2\")).alias(\"words3\")\n",
    ")\n",
    "\n",
    "df.show()\n",
    "type(df)"
   ]
  },
  {
   "cell_type": "code",
   "execution_count": 108,
   "metadata": {},
   "outputs": [
    {
     "name": "stdout",
     "output_type": "stream",
     "text": [
      "+-------------+\n",
      "|       words3|\n",
      "+-------------+\n",
      "|articles_text|\n",
      "|        \"When|\n",
      "|         want|\n",
      "|          put|\n",
      "|       muscle|\n",
      "|     increase|\n",
      "|      protein|\n",
      "|      intake,|\n",
      "|          one|\n",
      "|         best|\n",
      "|      choices|\n",
      "|          buy|\n",
      "|         whey|\n",
      "|      protein|\n",
      "|      powder.|\n",
      "|     However,|\n",
      "|         even|\n",
      "|      picking|\n",
      "|         whey|\n",
      "|     protein,|\n",
      "+-------------+\n",
      "only showing top 20 rows\n",
      "\n"
     ]
    },
    {
     "data": {
      "text/plain": [
       "pyspark.sql.dataframe.DataFrame"
      ]
     },
     "execution_count": 108,
     "metadata": {},
     "output_type": "execute_result"
    }
   ],
   "source": [
    "#droping blank spaces\n",
    "df = df.where(\n",
    "col('words3') != ''\n",
    ")\n",
    "\n",
    "df.show()\n",
    "type(df)"
   ]
  },
  {
   "cell_type": "code",
   "execution_count": 109,
   "metadata": {},
   "outputs": [
    {
     "name": "stdout",
     "output_type": "stream",
     "text": [
      "+-------------+\n",
      "|       words4|\n",
      "+-------------+\n",
      "|articles_text|\n",
      "|         When|\n",
      "|         want|\n",
      "|          put|\n",
      "|       muscle|\n",
      "|     increase|\n",
      "|      protein|\n",
      "|       intake|\n",
      "|          one|\n",
      "|         best|\n",
      "|      choices|\n",
      "|          buy|\n",
      "|         whey|\n",
      "|      protein|\n",
      "|       powder|\n",
      "|      However|\n",
      "|         even|\n",
      "|      picking|\n",
      "|         whey|\n",
      "|      protein|\n",
      "+-------------+\n",
      "only showing top 20 rows\n",
      "\n"
     ]
    },
    {
     "data": {
      "text/plain": [
       "pyspark.sql.dataframe.DataFrame"
      ]
     },
     "execution_count": 109,
     "metadata": {},
     "output_type": "execute_result"
    }
   ],
   "source": [
    "#removing punctuation\n",
    "df = df.select(\n",
    "regexp_extract(\n",
    "col('words3'), #cleaning words2 column\n",
    "'[A-z]+', #selecting all the words\n",
    "0).alias('words4')\n",
    ")\n",
    "\n",
    "df.show()\n",
    "type(df)"
   ]
  },
  {
   "cell_type": "code",
   "execution_count": 110,
   "metadata": {},
   "outputs": [
    {
     "name": "stdout",
     "output_type": "stream",
     "text": [
      "+-------------+\n",
      "|       words5|\n",
      "+-------------+\n",
      "|articles_text|\n",
      "|         when|\n",
      "|         want|\n",
      "|          put|\n",
      "|       muscle|\n",
      "|     increase|\n",
      "|      protein|\n",
      "|       intake|\n",
      "|          one|\n",
      "|         best|\n",
      "|      choices|\n",
      "|          buy|\n",
      "|         whey|\n",
      "|      protein|\n",
      "|       powder|\n",
      "|      however|\n",
      "|         even|\n",
      "|      picking|\n",
      "|         whey|\n",
      "|      protein|\n",
      "+-------------+\n",
      "only showing top 20 rows\n",
      "\n"
     ]
    },
    {
     "data": {
      "text/plain": [
       "pyspark.sql.dataframe.DataFrame"
      ]
     },
     "execution_count": 110,
     "metadata": {},
     "output_type": "execute_result"
    }
   ],
   "source": [
    "#every word to lower case\n",
    "df = df.select(\n",
    "lower(\n",
    "col('words4')\n",
    ").alias('words5')\n",
    ")\n",
    "\n",
    "df.show()\n",
    "type(df)"
   ]
  },
  {
   "cell_type": "code",
   "execution_count": null,
   "metadata": {},
   "outputs": [],
   "source": []
  }
 ],
 "metadata": {
  "kernelspec": {
   "display_name": "Python 3",
   "language": "python",
   "name": "python3"
  },
  "language_info": {
   "codemirror_mode": {
    "name": "ipython",
    "version": 3
   },
   "file_extension": ".py",
   "mimetype": "text/x-python",
   "name": "python",
   "nbconvert_exporter": "python",
   "pygments_lexer": "ipython3",
   "version": "3.11.3"
  },
  "orig_nbformat": 4
 },
 "nbformat": 4,
 "nbformat_minor": 2
}
