{
 "cells": [
  {
   "cell_type": "code",
   "execution_count": 14,
   "metadata": {},
   "outputs": [],
   "source": [
    "# !pip install googletrans==4.0.0-rc1\n",
    "# !pip install pyspark py4j\n",
    "# !pip install findspark"
   ]
  },
  {
   "cell_type": "code",
   "execution_count": 7,
   "metadata": {},
   "outputs": [],
   "source": [
    "from googletrans import Translator\n",
    "from pyspark.sql.functions import udf\n",
    "from pyspark.sql.types import StringType\n",
    "import pandas as pd\n",
    "import findspark\n",
    "findspark.init()\n",
    "import pyspark\n",
    "from pyspark.sql import SparkSession"
   ]
  },
  {
   "cell_type": "code",
   "execution_count": 17,
   "metadata": {},
   "outputs": [
    {
     "data": {
      "text/html": [
       "\n",
       "            <div>\n",
       "                <p><b>SparkSession - in-memory</b></p>\n",
       "                \n",
       "        <div>\n",
       "            <p><b>SparkContext</b></p>\n",
       "\n",
       "            <p><a href=\"http://DESKTOP-JO1VKGV:4040\">Spark UI</a></p>\n",
       "\n",
       "            <dl>\n",
       "              <dt>Version</dt>\n",
       "                <dd><code>v3.4.0</code></dd>\n",
       "              <dt>Master</dt>\n",
       "                <dd><code>local[*]</code></dd>\n",
       "              <dt>AppName</dt>\n",
       "                <dd><code>HelloWorld</code></dd>\n",
       "            </dl>\n",
       "        </div>\n",
       "        \n",
       "            </div>\n",
       "        "
      ],
      "text/plain": [
       "<pyspark.sql.session.SparkSession at 0x1e67c35d8e0>"
      ]
     },
     "execution_count": 17,
     "metadata": {},
     "output_type": "execute_result"
    }
   ],
   "source": [
    "from pyspark.sql import SparkSession\n",
    "\n",
    "spark = SparkSession.builder.appName(\"PySpark - ContandoPalavras\").getOrCreate()\n",
    "sc = spark.sparkContext\n",
    "\n",
    "spark"
   ]
  },
  {
   "cell_type": "code",
   "execution_count": 161,
   "metadata": {},
   "outputs": [
    {
     "name": "stdout",
     "output_type": "stream",
     "text": [
      "+--------------------+\n",
      "|       articles_text|\n",
      "+--------------------+\n",
      "|When you want to ...|\n",
      "|These powders com...|\n",
      "|ARE THERE ANY DIF...|\n",
      "|Yes! Whey protein...|\n",
      "|This means that t...|\n",
      "|DO THEY HAVE THE ...|\n",
      "|No! Whey protein ...|\n",
      "|DO THEY TASTE THE...|\n",
      "|Nope! Whey protei...|\n",
      "|DO THEY CONTAIN T...|\n",
      "|No! 100 grams of ...|\n",
      "|ARE THEY ABSORBED...|\n",
      "|No. Whey protein ...|\n",
      "|          All in all|\n",
      "|If you want to ha...|\n",
      "|Not as well as th...|\n",
      "|For the latest ne...|\n",
      "|            Facebook|\n",
      "|             Twitter|\n",
      "|           Pinterest|\n",
      "+--------------------+\n",
      "only showing top 20 rows\n",
      "\n"
     ]
    },
    {
     "data": {
      "text/plain": [
       "pyspark.sql.dataframe.DataFrame"
      ]
     },
     "execution_count": 161,
     "metadata": {},
     "output_type": "execute_result"
    }
   ],
   "source": [
    "df = spark.read.csv(\"C:/Users/cedua/CDIA - PUCSP/PROJETO PySpark (SAVINO)/Contador-de-palavras---PySpark/data/fitnessandpower_data.csv\", header=True, inferSchema=True)\n",
    "df.show()"
   ]
  },
  {
   "cell_type": "code",
   "execution_count": 26,
   "metadata": {},
   "outputs": [],
   "source": [
    "########################################################################################################################"
   ]
  },
  {
   "cell_type": "code",
   "execution_count": 20,
   "metadata": {},
   "outputs": [
    {
     "name": "stdout",
     "output_type": "stream",
     "text": [
      "[('B', 3), ('C', 3), ('D', 2), ('D D', 1)]\n"
     ]
    },
    {
     "data": {
      "text/html": [
       "<div>\n",
       "<style scoped>\n",
       "    .dataframe tbody tr th:only-of-type {\n",
       "        vertical-align: middle;\n",
       "    }\n",
       "\n",
       "    .dataframe tbody tr th {\n",
       "        vertical-align: top;\n",
       "    }\n",
       "\n",
       "    .dataframe thead th {\n",
       "        text-align: right;\n",
       "    }\n",
       "</style>\n",
       "<table border=\"1\" class=\"dataframe\">\n",
       "  <thead>\n",
       "    <tr style=\"text-align: right;\">\n",
       "      <th></th>\n",
       "      <th>0</th>\n",
       "      <th>1</th>\n",
       "    </tr>\n",
       "  </thead>\n",
       "  <tbody>\n",
       "    <tr>\n",
       "      <th>0</th>\n",
       "      <td>B</td>\n",
       "      <td>3</td>\n",
       "    </tr>\n",
       "    <tr>\n",
       "      <th>1</th>\n",
       "      <td>C</td>\n",
       "      <td>3</td>\n",
       "    </tr>\n",
       "    <tr>\n",
       "      <th>2</th>\n",
       "      <td>D</td>\n",
       "      <td>2</td>\n",
       "    </tr>\n",
       "    <tr>\n",
       "      <th>3</th>\n",
       "      <td>D D</td>\n",
       "      <td>1</td>\n",
       "    </tr>\n",
       "  </tbody>\n",
       "</table>\n",
       "</div>"
      ],
      "text/plain": [
       "     0  1\n",
       "0    B  3\n",
       "1    C  3\n",
       "2    D  2\n",
       "3  D D  1"
      ]
     },
     "execution_count": 20,
     "metadata": {},
     "output_type": "execute_result"
    }
   ],
   "source": [
    "#### EXEMPLO 1 - MAP REDUCE\n",
    "dados=[\"B\",\"B\",\"B\",\"C\",\"C\",\"C\",\"D\",\"D\",\"D D\"]\n",
    "\n",
    "input_file=sc.parallelize(dados,3)\n",
    "counts = input_file.map(lambda word:(word, 1)) \\\n",
    "                     .reduceByKey(lambda a, b: a + b)\n",
    "\n",
    "result=counts.collect()\n",
    "print(result) \n",
    "df=pd.DataFrame(result)\n",
    "df"
   ]
  },
  {
   "cell_type": "code",
   "execution_count": 22,
   "metadata": {},
   "outputs": [
    {
     "name": "stdout",
     "output_type": "stream",
     "text": [
      "[('B', 3), ('C', 0), ('D', 1)]\n"
     ]
    },
    {
     "data": {
      "text/html": [
       "<div>\n",
       "<style scoped>\n",
       "    .dataframe tbody tr th:only-of-type {\n",
       "        vertical-align: middle;\n",
       "    }\n",
       "\n",
       "    .dataframe tbody tr th {\n",
       "        vertical-align: top;\n",
       "    }\n",
       "\n",
       "    .dataframe thead th {\n",
       "        text-align: right;\n",
       "    }\n",
       "</style>\n",
       "<table border=\"1\" class=\"dataframe\">\n",
       "  <thead>\n",
       "    <tr style=\"text-align: right;\">\n",
       "      <th></th>\n",
       "      <th>0</th>\n",
       "      <th>1</th>\n",
       "    </tr>\n",
       "  </thead>\n",
       "  <tbody>\n",
       "    <tr>\n",
       "      <th>0</th>\n",
       "      <td>B</td>\n",
       "      <td>3</td>\n",
       "    </tr>\n",
       "    <tr>\n",
       "      <th>1</th>\n",
       "      <td>C</td>\n",
       "      <td>0</td>\n",
       "    </tr>\n",
       "    <tr>\n",
       "      <th>2</th>\n",
       "      <td>D</td>\n",
       "      <td>1</td>\n",
       "    </tr>\n",
       "  </tbody>\n",
       "</table>\n",
       "</div>"
      ],
      "text/plain": [
       "   0  1\n",
       "0  B  3\n",
       "1  C  0\n",
       "2  D  1"
      ]
     },
     "execution_count": 22,
     "metadata": {},
     "output_type": "execute_result"
    }
   ],
   "source": [
    "#### EXEMPLO 2 - MAP REDUCE\n",
    "dados=[\"B\",\"B\",\"B\",\"C\",\"C\",\"C\",\"D\"]\n",
    "item=[\"B\",\"D\"]\n",
    "input_file=sc.parallelize(dados,3)\n",
    "counts = (input_file.map(lambda word:(word, 1) if (word in item) else (word,0)) \n",
    "                     .reduceByKey(lambda a, b: a + b))\n",
    "\n",
    "result=counts.collect()\n",
    "print(result)\n",
    "df=pd.DataFrame(result)\n",
    "# df.query(\"qtde>0\")\n",
    "df"
   ]
  },
  {
   "cell_type": "code",
   "execution_count": 27,
   "metadata": {},
   "outputs": [],
   "source": [
    "#########################################################################################################################"
   ]
  },
  {
   "cell_type": "code",
   "execution_count": 153,
   "metadata": {},
   "outputs": [],
   "source": [
    "def translate_text(text):\n",
    "    translator = Translator()\n",
    "    translation = translator.translate(text, dest=\"pt\")\n",
    "    return translation.text"
   ]
  },
  {
   "cell_type": "code",
   "execution_count": 193,
   "metadata": {},
   "outputs": [
    {
     "name": "stdout",
     "output_type": "stream",
     "text": [
      "+--------------------+\n",
      "|     translated_text|\n",
      "+--------------------+\n",
      "|Quando você desej...|\n",
      "|Esses pós vêm em ...|\n",
      "|Existem diferença...|\n",
      "|Sim!O isolado de ...|\n",
      "|Isso significa qu...|\n",
      "|Eles têm o mesmo ...|\n",
      "|Não!O concentrado...|\n",
      "|Eles têm o gosto ...|\n",
      "|Não!O isolado de ...|\n",
      "|Eles contêm a mes...|\n",
      "|Não!100 gramas de...|\n",
      "|Eles são absorvid...|\n",
      "|Não. O isolado de...|\n",
      "|             Contudo|\n",
      "|Se você quiser te...|\n",
      "|Não tão bem quant...|\n",
      "|Para as últimas n...|\n",
      "|            Facebook|\n",
      "|             Twitter|\n",
      "|           Pinterest|\n",
      "+--------------------+\n",
      "only showing top 20 rows\n",
      "\n"
     ]
    }
   ],
   "source": [
    "# Cria a função UDF (User Defined Function) para aplicar a tradução\n",
    "translate_udf = udf(translate_text, StringType())\n",
    "\n",
    "# Aplica a tradução no DataFrame usando a função UDF\n",
    "translated_df = df.withColumn(\"translated_text\", translate_udf(df[\"articles_text\"]))\n",
    "translated_df = translated_df.drop(\"articles_text\")\n",
    "\n",
    "# Mostra o DataFrame com os textos traduzidos\n",
    "translated_df.show()\n"
   ]
  },
  {
   "cell_type": "code",
   "execution_count": 195,
   "metadata": {},
   "outputs": [],
   "source": [
    "from pyspark.sql.functions import split\n",
    "from pyspark.sql.functions import explode, col\n",
    "from pyspark.sql.functions import regexp_extract\n",
    "from pyspark.sql.functions import lower\n",
    "\n",
    "# def split_by_space(df):\n",
    "#     #spliting the df by space \" \" \n",
    "#     df1 = df.select(\n",
    "#         split(df['translated_text'], ' ').alias('words')\n",
    "#     ).show()\n",
    "\n",
    "#     return df1.show()\n",
    "\n",
    "# def drop_blank_spaces(df1):\n",
    "#     #droping blank spaces\n",
    "#     df2 = df1.select(\n",
    "#     explode(col(\"words\")).alias(\"words2\")\n",
    "#     )\n",
    "\n",
    "#     df3 = df2.where(\n",
    "#     col('words2') != ''\n",
    "#     )\n",
    "#     return df3.show()\n",
    "\n",
    "# def remove_punc(df3):\n",
    "#     #removing punctuation\n",
    "#     df4 = df3.select(\n",
    "#     regexp_extract(\n",
    "#         col('words2'), #cleaning words2 column\n",
    "#         '[A-z]+', #selecting all the words\n",
    "#         0).alias('words3')\n",
    "#     )\n",
    "#     return df4\n",
    "\n",
    "# def lower_case_words(df4):\n",
    "#     #every word to lower case\n",
    "#     df5 = df4.select(\n",
    "#     lower(\n",
    "#         col('words3')\n",
    "#     ).alias('words4')\n",
    "#     )\n",
    "#     return df5"
   ]
  },
  {
   "cell_type": "code",
   "execution_count": 194,
   "metadata": {},
   "outputs": [
    {
     "name": "stdout",
     "output_type": "stream",
     "text": [
      "+--------------------+\n",
      "|               words|\n",
      "+--------------------+\n",
      "|[Quando, você, de...|\n",
      "|[Esses, pós, vêm,...|\n",
      "|[Existem, diferen...|\n",
      "|[Sim!O, isolado, ...|\n",
      "|[Isso, significa,...|\n",
      "|[Eles, têm, o, me...|\n",
      "|[Não!O, concentra...|\n",
      "|[Eles, têm, o, go...|\n",
      "|[Não!O, isolado, ...|\n",
      "|[Eles, contêm, a,...|\n",
      "|[Não!100, gramas,...|\n",
      "|[Eles, são, absor...|\n",
      "|[Não., O, isolado...|\n",
      "|           [Contudo]|\n",
      "|[Se, você, quiser...|\n",
      "|[Não, tão, bem, q...|\n",
      "|[Para, as, última...|\n",
      "|          [Facebook]|\n",
      "|           [Twitter]|\n",
      "|         [Pinterest]|\n",
      "+--------------------+\n",
      "only showing top 20 rows\n",
      "\n"
     ]
    },
    {
     "data": {
      "text/plain": [
       "pyspark.sql.dataframe.DataFrame"
      ]
     },
     "execution_count": 194,
     "metadata": {},
     "output_type": "execute_result"
    }
   ],
   "source": [
    "#spliting the df by space \" \" \n",
    "translated_df = translated_df.select(\n",
    "split(translated_df['translated_text'], ' ').alias('words')\n",
    ")\n",
    "\n",
    "translated_df.show()\n",
    "type(translated_df)"
   ]
  },
  {
   "cell_type": "code",
   "execution_count": 196,
   "metadata": {},
   "outputs": [
    {
     "ename": "PythonException",
     "evalue": "\n  An exception was thrown from the Python worker. Please see the stack trace below.\nTraceback (most recent call last):\n  File \"c:\\Users\\cedua\\Anaconda3\\lib\\socket.py\", line 707, in readinto\n    raise\nsocket.timeout: timed out\n",
     "output_type": "error",
     "traceback": [
      "\u001b[1;31m---------------------------------------------------------------------------\u001b[0m",
      "\u001b[1;31mPythonException\u001b[0m                           Traceback (most recent call last)",
      "\u001b[1;32mc:\\Users\\cedua\\CDIA - PUCSP\\PROJETO PySpark (SAVINO)\\Contador-de-palavras---PySpark\\PySpark\\teste_pyspark.ipynb Cell 13\u001b[0m in \u001b[0;36m6\n\u001b[0;32m      <a href='vscode-notebook-cell:/c%3A/Users/cedua/CDIA%20-%20PUCSP/PROJETO%20PySpark%20%28SAVINO%29/Contador-de-palavras---PySpark/PySpark/teste_pyspark.ipynb#X35sZmlsZQ%3D%3D?line=0'>1</a>\u001b[0m \u001b[39m#droping blank spaces\u001b[39;00m\n\u001b[0;32m      <a href='vscode-notebook-cell:/c%3A/Users/cedua/CDIA%20-%20PUCSP/PROJETO%20PySpark%20%28SAVINO%29/Contador-de-palavras---PySpark/PySpark/teste_pyspark.ipynb#X35sZmlsZQ%3D%3D?line=1'>2</a>\u001b[0m translated_df \u001b[39m=\u001b[39m translated_df\u001b[39m.\u001b[39mselect(\n\u001b[0;32m      <a href='vscode-notebook-cell:/c%3A/Users/cedua/CDIA%20-%20PUCSP/PROJETO%20PySpark%20%28SAVINO%29/Contador-de-palavras---PySpark/PySpark/teste_pyspark.ipynb#X35sZmlsZQ%3D%3D?line=2'>3</a>\u001b[0m explode(col(\u001b[39m\"\u001b[39m\u001b[39mwords\u001b[39m\u001b[39m\"\u001b[39m))\u001b[39m.\u001b[39malias(\u001b[39m\"\u001b[39m\u001b[39mwords2\u001b[39m\u001b[39m\"\u001b[39m)\n\u001b[0;32m      <a href='vscode-notebook-cell:/c%3A/Users/cedua/CDIA%20-%20PUCSP/PROJETO%20PySpark%20%28SAVINO%29/Contador-de-palavras---PySpark/PySpark/teste_pyspark.ipynb#X35sZmlsZQ%3D%3D?line=3'>4</a>\u001b[0m )\n\u001b[1;32m----> <a href='vscode-notebook-cell:/c%3A/Users/cedua/CDIA%20-%20PUCSP/PROJETO%20PySpark%20%28SAVINO%29/Contador-de-palavras---PySpark/PySpark/teste_pyspark.ipynb#X35sZmlsZQ%3D%3D?line=5'>6</a>\u001b[0m translated_df\u001b[39m.\u001b[39;49mshow()\n\u001b[0;32m      <a href='vscode-notebook-cell:/c%3A/Users/cedua/CDIA%20-%20PUCSP/PROJETO%20PySpark%20%28SAVINO%29/Contador-de-palavras---PySpark/PySpark/teste_pyspark.ipynb#X35sZmlsZQ%3D%3D?line=6'>7</a>\u001b[0m \u001b[39mtype\u001b[39m(translated_df)\n",
      "File \u001b[1;32mc:\\Users\\cedua\\Anaconda3\\lib\\site-packages\\pyspark\\sql\\dataframe.py:899\u001b[0m, in \u001b[0;36mDataFrame.show\u001b[1;34m(self, n, truncate, vertical)\u001b[0m\n\u001b[0;32m    893\u001b[0m     \u001b[39mraise\u001b[39;00m PySparkTypeError(\n\u001b[0;32m    894\u001b[0m         error_class\u001b[39m=\u001b[39m\u001b[39m\"\u001b[39m\u001b[39mNOT_BOOL\u001b[39m\u001b[39m\"\u001b[39m,\n\u001b[0;32m    895\u001b[0m         message_parameters\u001b[39m=\u001b[39m{\u001b[39m\"\u001b[39m\u001b[39marg_name\u001b[39m\u001b[39m\"\u001b[39m: \u001b[39m\"\u001b[39m\u001b[39mvertical\u001b[39m\u001b[39m\"\u001b[39m, \u001b[39m\"\u001b[39m\u001b[39marg_type\u001b[39m\u001b[39m\"\u001b[39m: \u001b[39mtype\u001b[39m(vertical)\u001b[39m.\u001b[39m\u001b[39m__name__\u001b[39m},\n\u001b[0;32m    896\u001b[0m     )\n\u001b[0;32m    898\u001b[0m \u001b[39mif\u001b[39;00m \u001b[39misinstance\u001b[39m(truncate, \u001b[39mbool\u001b[39m) \u001b[39mand\u001b[39;00m truncate:\n\u001b[1;32m--> 899\u001b[0m     \u001b[39mprint\u001b[39m(\u001b[39mself\u001b[39;49m\u001b[39m.\u001b[39;49m_jdf\u001b[39m.\u001b[39;49mshowString(n, \u001b[39m20\u001b[39;49m, vertical))\n\u001b[0;32m    900\u001b[0m \u001b[39melse\u001b[39;00m:\n\u001b[0;32m    901\u001b[0m     \u001b[39mtry\u001b[39;00m:\n",
      "File \u001b[1;32mc:\\Users\\cedua\\Anaconda3\\lib\\site-packages\\py4j\\java_gateway.py:1322\u001b[0m, in \u001b[0;36mJavaMember.__call__\u001b[1;34m(self, *args)\u001b[0m\n\u001b[0;32m   1316\u001b[0m command \u001b[39m=\u001b[39m proto\u001b[39m.\u001b[39mCALL_COMMAND_NAME \u001b[39m+\u001b[39m\\\n\u001b[0;32m   1317\u001b[0m     \u001b[39mself\u001b[39m\u001b[39m.\u001b[39mcommand_header \u001b[39m+\u001b[39m\\\n\u001b[0;32m   1318\u001b[0m     args_command \u001b[39m+\u001b[39m\\\n\u001b[0;32m   1319\u001b[0m     proto\u001b[39m.\u001b[39mEND_COMMAND_PART\n\u001b[0;32m   1321\u001b[0m answer \u001b[39m=\u001b[39m \u001b[39mself\u001b[39m\u001b[39m.\u001b[39mgateway_client\u001b[39m.\u001b[39msend_command(command)\n\u001b[1;32m-> 1322\u001b[0m return_value \u001b[39m=\u001b[39m get_return_value(\n\u001b[0;32m   1323\u001b[0m     answer, \u001b[39mself\u001b[39;49m\u001b[39m.\u001b[39;49mgateway_client, \u001b[39mself\u001b[39;49m\u001b[39m.\u001b[39;49mtarget_id, \u001b[39mself\u001b[39;49m\u001b[39m.\u001b[39;49mname)\n\u001b[0;32m   1325\u001b[0m \u001b[39mfor\u001b[39;00m temp_arg \u001b[39min\u001b[39;00m temp_args:\n\u001b[0;32m   1326\u001b[0m     \u001b[39mif\u001b[39;00m \u001b[39mhasattr\u001b[39m(temp_arg, \u001b[39m\"\u001b[39m\u001b[39m_detach\u001b[39m\u001b[39m\"\u001b[39m):\n",
      "File \u001b[1;32mc:\\Users\\cedua\\Anaconda3\\lib\\site-packages\\pyspark\\errors\\exceptions\\captured.py:175\u001b[0m, in \u001b[0;36mcapture_sql_exception.<locals>.deco\u001b[1;34m(*a, **kw)\u001b[0m\n\u001b[0;32m    171\u001b[0m converted \u001b[39m=\u001b[39m convert_exception(e\u001b[39m.\u001b[39mjava_exception)\n\u001b[0;32m    172\u001b[0m \u001b[39mif\u001b[39;00m \u001b[39mnot\u001b[39;00m \u001b[39misinstance\u001b[39m(converted, UnknownException):\n\u001b[0;32m    173\u001b[0m     \u001b[39m# Hide where the exception came from that shows a non-Pythonic\u001b[39;00m\n\u001b[0;32m    174\u001b[0m     \u001b[39m# JVM exception message.\u001b[39;00m\n\u001b[1;32m--> 175\u001b[0m     \u001b[39mraise\u001b[39;00m converted \u001b[39mfrom\u001b[39;00m \u001b[39mNone\u001b[39m\n\u001b[0;32m    176\u001b[0m \u001b[39melse\u001b[39;00m:\n\u001b[0;32m    177\u001b[0m     \u001b[39mraise\u001b[39;00m\n",
      "\u001b[1;31mPythonException\u001b[0m: \n  An exception was thrown from the Python worker. Please see the stack trace below.\nTraceback (most recent call last):\n  File \"c:\\Users\\cedua\\Anaconda3\\lib\\socket.py\", line 707, in readinto\n    raise\nsocket.timeout: timed out\n"
     ]
    }
   ],
   "source": [
    "#droping blank spaces\n",
    "translated_df = translated_df.select(\n",
    "explode(col(\"words\")).alias(\"words2\")\n",
    ")\n",
    "\n",
    "translated_df.show()\n",
    "type(translated_df)"
   ]
  },
  {
   "cell_type": "code",
   "execution_count": null,
   "metadata": {},
   "outputs": [],
   "source": []
  }
 ],
 "metadata": {
  "kernelspec": {
   "display_name": "Python 3",
   "language": "python",
   "name": "python3"
  },
  "language_info": {
   "codemirror_mode": {
    "name": "ipython",
    "version": 3
   },
   "file_extension": ".py",
   "mimetype": "text/x-python",
   "name": "python",
   "nbconvert_exporter": "python",
   "pygments_lexer": "ipython3",
   "version": "3.9.7"
  },
  "orig_nbformat": 4
 },
 "nbformat": 4,
 "nbformat_minor": 2
}
