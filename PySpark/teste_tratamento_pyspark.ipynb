{
 "cells": [
  {
   "cell_type": "code",
   "execution_count": 4,
   "metadata": {},
   "outputs": [
    {
     "name": "stdout",
     "output_type": "stream",
     "text": [
      "Collecting pandas\n",
      "  Using cached pandas-2.0.2-cp311-cp311-win_amd64.whl (10.6 MB)\n",
      "Requirement already satisfied: python-dateutil>=2.8.2 in c:\\users\\cedua\\appdata\\roaming\\python\\python311\\site-packages (from pandas) (2.8.2)\n",
      "Collecting pytz>=2020.1 (from pandas)\n",
      "  Using cached pytz-2023.3-py2.py3-none-any.whl (502 kB)\n",
      "Collecting tzdata>=2022.1 (from pandas)\n",
      "  Using cached tzdata-2023.3-py2.py3-none-any.whl (341 kB)\n",
      "Collecting numpy>=1.21.0 (from pandas)\n",
      "  Using cached numpy-1.24.3-cp311-cp311-win_amd64.whl (14.8 MB)\n",
      "Requirement already satisfied: six>=1.5 in c:\\users\\cedua\\appdata\\roaming\\python\\python311\\site-packages (from python-dateutil>=2.8.2->pandas) (1.16.0)\n",
      "Installing collected packages: pytz, tzdata, numpy, pandas\n",
      "Successfully installed numpy-1.24.3 pandas-2.0.2 pytz-2023.3 tzdata-2023.3\n"
     ]
    }
   ],
   "source": [
    "# !pip install googletrans==4.0.0-rc1\n",
    "# !pip install pyspark py4j\n",
    "# !pip install findspark\n",
    "# !pip install pyspark"
   ]
  },
  {
   "cell_type": "code",
   "execution_count": 77,
   "metadata": {},
   "outputs": [],
   "source": [
    "# from googletrans import Translator\n",
    "import findspark\n",
    "findspark.init()\n",
    "from pyspark.sql import SparkSession\n",
    "from pyspark.sql.functions import udf\n",
    "from pyspark.sql.types import StringType\n",
    "import pandas as pd\n",
    "import pyspark\n",
    "from pyspark.sql.functions import split\n",
    "from pyspark.sql.functions import explode, col, trim, rtrim, ltrim\n",
    "from pyspark.sql.functions import regexp_replace, regexp_extract\n",
    "from pyspark.sql.functions import lower\n",
    "from pyspark.sql.functions import desc\n",
    "from pyspark.ml.feature import StopWordsRemover\n",
    "import re"
   ]
  },
  {
   "cell_type": "code",
   "execution_count": 6,
   "metadata": {},
   "outputs": [
    {
     "data": {
      "text/html": [
       "\n",
       "            <div>\n",
       "                <p><b>SparkSession - in-memory</b></p>\n",
       "                \n",
       "        <div>\n",
       "            <p><b>SparkContext</b></p>\n",
       "\n",
       "            <p><a href=\"http://DESKTOP-JO1VKGV:4040\">Spark UI</a></p>\n",
       "\n",
       "            <dl>\n",
       "              <dt>Version</dt>\n",
       "                <dd><code>v3.4.0</code></dd>\n",
       "              <dt>Master</dt>\n",
       "                <dd><code>local[*]</code></dd>\n",
       "              <dt>AppName</dt>\n",
       "                <dd><code>PySpark - ContandoPalavras</code></dd>\n",
       "            </dl>\n",
       "        </div>\n",
       "        \n",
       "            </div>\n",
       "        "
      ],
      "text/plain": [
       "<pyspark.sql.session.SparkSession at 0x2388f0abb10>"
      ]
     },
     "execution_count": 6,
     "metadata": {},
     "output_type": "execute_result"
    }
   ],
   "source": [
    "spark = SparkSession.builder.appName(\"PySpark - ContandoPalavras\").getOrCreate()\n",
    "sc = spark.sparkContext\n",
    "\n",
    "spark"
   ]
  },
  {
   "cell_type": "code",
   "execution_count": 277,
   "metadata": {},
   "outputs": [
    {
     "name": "stdout",
     "output_type": "stream",
     "text": [
      "+--------------------+\n",
      "|               value|\n",
      "+--------------------+\n",
      "|\"When you want to...|\n",
      "|These powders com...|\n",
      "|ARE THERE ANY DIF...|\n",
      "|Yes! Whey protein...|\n",
      "|This means that t...|\n",
      "|DO THEY HAVE THE ...|\n",
      "|No! Whey protein ...|\n",
      "|DO THEY TASTE THE...|\n",
      "|Nope! Whey protei...|\n",
      "|DO THEY CONTAIN T...|\n",
      "|No! 100 grams of ...|\n",
      "|ARE THEY ABSORBED...|\n",
      "|No. Whey protein ...|\n",
      "|All in all, you g...|\n",
      "|If you want to ha...|\n",
      "|Not as well as th...|\n",
      "|                    |\n",
      "|For the latest ne...|\n",
      "|                    |\n",
      "|            Facebook|\n",
      "+--------------------+\n",
      "only showing top 20 rows\n",
      "\n"
     ]
    },
    {
     "data": {
      "text/plain": [
       "pyspark.sql.dataframe.DataFrame"
      ]
     },
     "execution_count": 277,
     "metadata": {},
     "output_type": "execute_result"
    }
   ],
   "source": [
    "df = spark.read.text(\"C:/Users/cedua/CDIA - PUCSP/PROJETO PySpark - SAVINO/Contador-de-palavras---PySpark/data/fitnessandpower.txt\")\n",
    "df.show()\n",
    "type(df)"
   ]
  },
  {
   "cell_type": "code",
   "execution_count": 87,
   "metadata": {},
   "outputs": [],
   "source": [
    "########################################################################################################################"
   ]
  },
  {
   "cell_type": "code",
   "execution_count": 20,
   "metadata": {},
   "outputs": [
    {
     "name": "stdout",
     "output_type": "stream",
     "text": [
      "[('B', 3), ('C', 3), ('D', 2), ('D D', 1)]\n"
     ]
    },
    {
     "data": {
      "text/html": [
       "<div>\n",
       "<style scoped>\n",
       "    .dataframe tbody tr th:only-of-type {\n",
       "        vertical-align: middle;\n",
       "    }\n",
       "\n",
       "    .dataframe tbody tr th {\n",
       "        vertical-align: top;\n",
       "    }\n",
       "\n",
       "    .dataframe thead th {\n",
       "        text-align: right;\n",
       "    }\n",
       "</style>\n",
       "<table border=\"1\" class=\"dataframe\">\n",
       "  <thead>\n",
       "    <tr style=\"text-align: right;\">\n",
       "      <th></th>\n",
       "      <th>0</th>\n",
       "      <th>1</th>\n",
       "    </tr>\n",
       "  </thead>\n",
       "  <tbody>\n",
       "    <tr>\n",
       "      <th>0</th>\n",
       "      <td>B</td>\n",
       "      <td>3</td>\n",
       "    </tr>\n",
       "    <tr>\n",
       "      <th>1</th>\n",
       "      <td>C</td>\n",
       "      <td>3</td>\n",
       "    </tr>\n",
       "    <tr>\n",
       "      <th>2</th>\n",
       "      <td>D</td>\n",
       "      <td>2</td>\n",
       "    </tr>\n",
       "    <tr>\n",
       "      <th>3</th>\n",
       "      <td>D D</td>\n",
       "      <td>1</td>\n",
       "    </tr>\n",
       "  </tbody>\n",
       "</table>\n",
       "</div>"
      ],
      "text/plain": [
       "     0  1\n",
       "0    B  3\n",
       "1    C  3\n",
       "2    D  2\n",
       "3  D D  1"
      ]
     },
     "execution_count": 20,
     "metadata": {},
     "output_type": "execute_result"
    }
   ],
   "source": [
    "#### EXEMPLO 1 - MAP REDUCE\n",
    "# dados=[\"B\",\"B\",\"B\",\"C\",\"C\",\"C\",\"D\",\"D\",\"D D\"]\n",
    "\n",
    "# input_file=sc.parallelize(dados,3)\n",
    "# counts = input_file.map(lambda word:(word, 1)) /\n",
    "#                      .reduceByKey(lambda a, b: a + b)\n",
    "\n",
    "# result=counts.collect()\n",
    "# print(result) \n",
    "# df=pd.DataFrame(result)\n",
    "# df"
   ]
  },
  {
   "cell_type": "code",
   "execution_count": 22,
   "metadata": {},
   "outputs": [
    {
     "name": "stdout",
     "output_type": "stream",
     "text": [
      "[('B', 3), ('C', 0), ('D', 1)]\n"
     ]
    },
    {
     "data": {
      "text/html": [
       "<div>\n",
       "<style scoped>\n",
       "    .dataframe tbody tr th:only-of-type {\n",
       "        vertical-align: middle;\n",
       "    }\n",
       "\n",
       "    .dataframe tbody tr th {\n",
       "        vertical-align: top;\n",
       "    }\n",
       "\n",
       "    .dataframe thead th {\n",
       "        text-align: right;\n",
       "    }\n",
       "</style>\n",
       "<table border=\"1\" class=\"dataframe\">\n",
       "  <thead>\n",
       "    <tr style=\"text-align: right;\">\n",
       "      <th></th>\n",
       "      <th>0</th>\n",
       "      <th>1</th>\n",
       "    </tr>\n",
       "  </thead>\n",
       "  <tbody>\n",
       "    <tr>\n",
       "      <th>0</th>\n",
       "      <td>B</td>\n",
       "      <td>3</td>\n",
       "    </tr>\n",
       "    <tr>\n",
       "      <th>1</th>\n",
       "      <td>C</td>\n",
       "      <td>0</td>\n",
       "    </tr>\n",
       "    <tr>\n",
       "      <th>2</th>\n",
       "      <td>D</td>\n",
       "      <td>1</td>\n",
       "    </tr>\n",
       "  </tbody>\n",
       "</table>\n",
       "</div>"
      ],
      "text/plain": [
       "   0  1\n",
       "0  B  3\n",
       "1  C  0\n",
       "2  D  1"
      ]
     },
     "execution_count": 22,
     "metadata": {},
     "output_type": "execute_result"
    }
   ],
   "source": [
    "#### EXEMPLO 2 - MAP REDUCE\n",
    "# dados=[\"B\",\"B\",\"B\",\"C\",\"C\",\"C\",\"D\"]\n",
    "# item=[\"B\",\"D\"]\n",
    "# input_file=sc.parallelize(dados,3)\n",
    "# counts = (input_file.map(lambda word:(word, 1) if (word in item) else (word,0)) \n",
    "#                      .reduceByKey(lambda a, b: a + b))\n",
    "\n",
    "# result=counts.collect()\n",
    "# print(result)\n",
    "# df=pd.DataFrame(result)\n",
    "# # df.query(\"qtde>0\")\n",
    "# df"
   ]
  },
  {
   "cell_type": "code",
   "execution_count": 27,
   "metadata": {},
   "outputs": [],
   "source": [
    "#########################################################################################################################"
   ]
  },
  {
   "cell_type": "code",
   "execution_count": 63,
   "metadata": {},
   "outputs": [],
   "source": [
    "# def translate_text(text):\n",
    "#     translator = Translator()\n",
    "#     translation = translator.translate(text, dest=\"pt\")\n",
    "#     return translation.text"
   ]
  },
  {
   "cell_type": "code",
   "execution_count": 71,
   "metadata": {},
   "outputs": [],
   "source": [
    "# # Cria a função UDF (User Defined Function) para aplicar a tradução\n",
    "# translate_udf = udf(translate_text, StringType())\n",
    "\n",
    "# # Aplica a tradução no DataFrame usando a função UDF\n",
    "# df = df.withColumn(\"translated_text\", translate_udf(df['value']))\n",
    "# # translated_df = translated_df.drop(\"articles_text\")\n",
    "\n",
    "# # Mostra o DataFrame com os textos traduzidos\n",
    "# df.show()\n",
    "# type(df)"
   ]
  },
  {
   "attachments": {},
   "cell_type": "markdown",
   "metadata": {},
   "source": [
    "### Tratamento - PySpark"
   ]
  },
  {
   "cell_type": "code",
   "execution_count": 278,
   "metadata": {},
   "outputs": [
    {
     "name": "stdout",
     "output_type": "stream",
     "text": [
      "+--------------------+\n",
      "|               words|\n",
      "+--------------------+\n",
      "|[\"When, you, want...|\n",
      "|[These, powders, ...|\n",
      "|[ARE, THERE, ANY,...|\n",
      "|[Yes!, Whey, prot...|\n",
      "|[This, means, tha...|\n",
      "|[DO, THEY, HAVE, ...|\n",
      "|[No!, Whey, prote...|\n",
      "|[DO, THEY, TASTE,...|\n",
      "|[Nope!, Whey, pro...|\n",
      "|[DO, THEY, CONTAI...|\n",
      "|[No!, 100, grams,...|\n",
      "|[ARE, THEY, ABSOR...|\n",
      "|[No., Whey, prote...|\n",
      "|[All, in, all,, y...|\n",
      "|[If, you, want, t...|\n",
      "|[Not, as, well, a...|\n",
      "|                  []|\n",
      "|[For, the, latest...|\n",
      "|                  []|\n",
      "|          [Facebook]|\n",
      "+--------------------+\n",
      "only showing top 20 rows\n",
      "\n"
     ]
    },
    {
     "data": {
      "text/plain": [
       "pyspark.sql.dataframe.DataFrame"
      ]
     },
     "execution_count": 278,
     "metadata": {},
     "output_type": "execute_result"
    }
   ],
   "source": [
    "#spliting the df by space \" \" \n",
    "df = df.select(\n",
    "split(df['value'], ' ').alias('words')\n",
    ")\n",
    "\n",
    "df.show()\n",
    "type(df)"
   ]
  },
  {
   "cell_type": "code",
   "execution_count": 279,
   "metadata": {},
   "outputs": [
    {
     "name": "stdout",
     "output_type": "stream",
     "text": [
      "+--------------------+\n",
      "|              words2|\n",
      "+--------------------+\n",
      "|[\"When, want, put...|\n",
      "|[powders, come, k...|\n",
      "|[DIFFERENCES, WAY...|\n",
      "|[Yes!, Whey, prot...|\n",
      "|[means, particles...|\n",
      "|[NUTRITIONAL, VAL...|\n",
      "|[No!, Whey, prote...|\n",
      "|      [TASTE, SAME?]|\n",
      "|[Nope!, Whey, pro...|\n",
      "|[CONTAIN, AMOUNT,...|\n",
      "|[No!, 100, grams,...|\n",
      "|   [ABSORBED, SAME?]|\n",
      "|[No., Whey, prote...|\n",
      "|[all,, get, make,...|\n",
      "|[want, benefits, ...|\n",
      "|[well, isolate,, ...|\n",
      "|                  []|\n",
      "|[latest, news, up...|\n",
      "|                  []|\n",
      "|          [Facebook]|\n",
      "+--------------------+\n",
      "only showing top 20 rows\n",
      "\n"
     ]
    },
    {
     "data": {
      "text/plain": [
       "pyspark.sql.dataframe.DataFrame"
      ]
     },
     "execution_count": 279,
     "metadata": {},
     "output_type": "execute_result"
    }
   ],
   "source": [
    "stopwords_remover = StopWordsRemover(inputCol=\"words\", outputCol=\"words2\")\n",
    "\n",
    "# Aplique a remoção de stopwords\n",
    "df = stopwords_remover.transform(df)\n",
    "df = df.drop(\"words\")\n",
    "df.show()\n",
    "type(df)"
   ]
  },
  {
   "cell_type": "code",
   "execution_count": 280,
   "metadata": {},
   "outputs": [
    {
     "name": "stdout",
     "output_type": "stream",
     "text": [
      "+--------+\n",
      "|  words3|\n",
      "+--------+\n",
      "|   \"When|\n",
      "|    want|\n",
      "|     put|\n",
      "|  muscle|\n",
      "|increase|\n",
      "| protein|\n",
      "| intake,|\n",
      "|     one|\n",
      "|    best|\n",
      "| choices|\n",
      "|     buy|\n",
      "|    whey|\n",
      "| protein|\n",
      "| powder.|\n",
      "|However,|\n",
      "|    even|\n",
      "| picking|\n",
      "|    whey|\n",
      "|protein,|\n",
      "|    need|\n",
      "+--------+\n",
      "only showing top 20 rows\n",
      "\n"
     ]
    }
   ],
   "source": [
    "df = df.select(\n",
    "    explode(col(\"words2\")).alias(\"words3\")\n",
    ")\n",
    "df.show()"
   ]
  },
  {
   "cell_type": "code",
   "execution_count": 281,
   "metadata": {},
   "outputs": [
    {
     "name": "stdout",
     "output_type": "stream",
     "text": [
      "+--------+\n",
      "|  words3|\n",
      "+--------+\n",
      "|   \"When|\n",
      "|    want|\n",
      "|     put|\n",
      "|  muscle|\n",
      "|increase|\n",
      "| protein|\n",
      "| intake,|\n",
      "|     one|\n",
      "|    best|\n",
      "| choices|\n",
      "|     buy|\n",
      "|    whey|\n",
      "| protein|\n",
      "| powder.|\n",
      "|However,|\n",
      "|    even|\n",
      "| picking|\n",
      "|    whey|\n",
      "|protein,|\n",
      "|    need|\n",
      "+--------+\n",
      "only showing top 20 rows\n",
      "\n"
     ]
    }
   ],
   "source": [
    "# Removing the NULLs\n",
    "df = df.where(\n",
    "    col(\"words3\") != \"\"\n",
    ")\n",
    "\n",
    "df.show()"
   ]
  },
  {
   "cell_type": "code",
   "execution_count": 284,
   "metadata": {},
   "outputs": [
    {
     "name": "stdout",
     "output_type": "stream",
     "text": [
      "+--------+\n",
      "|  words4|\n",
      "+--------+\n",
      "|    When|\n",
      "|    want|\n",
      "|     put|\n",
      "|  muscle|\n",
      "|increase|\n",
      "| protein|\n",
      "|  intake|\n",
      "|     one|\n",
      "|    best|\n",
      "| choices|\n",
      "|     buy|\n",
      "|    whey|\n",
      "| protein|\n",
      "|  powder|\n",
      "| However|\n",
      "|    even|\n",
      "| picking|\n",
      "|    whey|\n",
      "| protein|\n",
      "|    need|\n",
      "+--------+\n",
      "only showing top 20 rows\n",
      "\n"
     ]
    },
    {
     "data": {
      "text/plain": [
       "pyspark.sql.dataframe.DataFrame"
      ]
     },
     "execution_count": 284,
     "metadata": {},
     "output_type": "execute_result"
    }
   ],
   "source": [
    "# Removing the NULLs\n",
    "df = df.where(\n",
    "    col(\"words3\") != \"\"\n",
    ")\n",
    "\n",
    "df.show()"
   ]
  },
  {
   "cell_type": "code",
   "execution_count": 285,
   "metadata": {},
   "outputs": [
    {
     "name": "stdout",
     "output_type": "stream",
     "text": [
      "+--------+\n",
      "|  words5|\n",
      "+--------+\n",
      "|    when|\n",
      "|    want|\n",
      "|     put|\n",
      "|  muscle|\n",
      "|increase|\n",
      "| protein|\n",
      "|  intake|\n",
      "|     one|\n",
      "|    best|\n",
      "| choices|\n",
      "|     buy|\n",
      "|    whey|\n",
      "| protein|\n",
      "|  powder|\n",
      "| however|\n",
      "|    even|\n",
      "| picking|\n",
      "|    whey|\n",
      "| protein|\n",
      "|    need|\n",
      "+--------+\n",
      "only showing top 20 rows\n",
      "\n"
     ]
    },
    {
     "data": {
      "text/plain": [
       "pyspark.sql.dataframe.DataFrame"
      ]
     },
     "execution_count": 285,
     "metadata": {},
     "output_type": "execute_result"
    }
   ],
   "source": [
    "#every word to lower case\n",
    "df = df.select(\n",
    "lower(\n",
    "col('words4')\n",
    ").alias('words5')\n",
    ")\n",
    "\n",
    "df.show()\n",
    "type(df)"
   ]
  },
  {
   "cell_type": "code",
   "execution_count": 286,
   "metadata": {},
   "outputs": [
    {
     "name": "stdout",
     "output_type": "stream",
     "text": [
      "+---------+-----+\n",
      "|   words5|count|\n",
      "+---------+-----+\n",
      "|  protein|  224|\n",
      "|     whey|  154|\n",
      "|         |  114|\n",
      "|   muscle|   41|\n",
      "|      one|   32|\n",
      "|       it|   32|\n",
      "|      fat|   30|\n",
      "|     body|   27|\n",
      "|    grams|   23|\n",
      "|    amino|   22|\n",
      "|    study|   22|\n",
      "|pinterest|   21|\n",
      "|      get|   21|\n",
      "|     also|   21|\n",
      "| facebook|   21|\n",
      "|     bcaa|   20|\n",
      "|     much|   20|\n",
      "|    acids|   19|\n",
      "| benefits|   19|\n",
      "|   powder|   17|\n",
      "+---------+-----+\n",
      "only showing top 20 rows\n",
      "\n"
     ]
    }
   ],
   "source": [
    "#COUNTING\n",
    "\n",
    "df_counted = df.groupBy(\n",
    "    col(\"words5\"),\n",
    ").count()\n",
    "\n",
    "df_counted.orderBy(desc(\"count\")).show()"
   ]
  },
  {
   "cell_type": "code",
   "execution_count": 287,
   "metadata": {},
   "outputs": [
    {
     "name": "stdout",
     "output_type": "stream",
     "text": [
      "+----------+\n",
      "|     word6|\n",
      "+----------+\n",
      "|    [when]|\n",
      "|    [want]|\n",
      "|     [put]|\n",
      "|  [muscle]|\n",
      "|[increase]|\n",
      "| [protein]|\n",
      "|  [intake]|\n",
      "|     [one]|\n",
      "|    [best]|\n",
      "| [choices]|\n",
      "|     [buy]|\n",
      "|    [whey]|\n",
      "| [protein]|\n",
      "|  [powder]|\n",
      "| [however]|\n",
      "|    [even]|\n",
      "| [picking]|\n",
      "|    [whey]|\n",
      "| [protein]|\n",
      "|    [need]|\n",
      "+----------+\n",
      "only showing top 20 rows\n",
      "\n"
     ]
    }
   ],
   "source": [
    "#RETOMANDO\n",
    "\n",
    "df2 = df.select(\n",
    "    split(\n",
    "        col(\"words5\"),\n",
    "        \" \"\n",
    "    ).alias(\"word6\")\n",
    ")\n",
    "df2.show()"
   ]
  },
  {
   "cell_type": "code",
   "execution_count": 288,
   "metadata": {},
   "outputs": [
    {
     "name": "stdout",
     "output_type": "stream",
     "text": [
      "+----------+----------+\n",
      "|     word6|    words7|\n",
      "+----------+----------+\n",
      "|    [when]|        []|\n",
      "|    [want]|    [want]|\n",
      "|     [put]|     [put]|\n",
      "|  [muscle]|  [muscle]|\n",
      "|[increase]|[increase]|\n",
      "| [protein]| [protein]|\n",
      "|  [intake]|  [intake]|\n",
      "|     [one]|     [one]|\n",
      "|    [best]|    [best]|\n",
      "| [choices]| [choices]|\n",
      "|     [buy]|     [buy]|\n",
      "|    [whey]|    [whey]|\n",
      "| [protein]| [protein]|\n",
      "|  [powder]|  [powder]|\n",
      "| [however]| [however]|\n",
      "|    [even]|    [even]|\n",
      "| [picking]| [picking]|\n",
      "|    [whey]|    [whey]|\n",
      "| [protein]| [protein]|\n",
      "|    [need]|    [need]|\n",
      "+----------+----------+\n",
      "only showing top 20 rows\n",
      "\n"
     ]
    }
   ],
   "source": [
    "stopwords_remover2 = StopWordsRemover(\n",
    "    inputCol=\"word6\",\n",
    "    outputCol=\"words7\"\n",
    ")\n",
    "\n",
    "df2 = stopwords_remover2.transform(df2)\n",
    "df2.show()"
   ]
  },
  {
   "cell_type": "code",
   "execution_count": 289,
   "metadata": {},
   "outputs": [
    {
     "name": "stdout",
     "output_type": "stream",
     "text": [
      "+--------+\n",
      "|  words8|\n",
      "+--------+\n",
      "|    null|\n",
      "|    want|\n",
      "|     put|\n",
      "|  muscle|\n",
      "|increase|\n",
      "| protein|\n",
      "|  intake|\n",
      "|     one|\n",
      "|    best|\n",
      "| choices|\n",
      "|     buy|\n",
      "|    whey|\n",
      "| protein|\n",
      "|  powder|\n",
      "| however|\n",
      "|    even|\n",
      "| picking|\n",
      "|    whey|\n",
      "| protein|\n",
      "|    need|\n",
      "+--------+\n",
      "only showing top 20 rows\n",
      "\n"
     ]
    }
   ],
   "source": [
    "#removing nulls\n",
    "df2 = df2.select(\n",
    "    (col(\"words7\")[0]).alias(\"words8\")\n",
    ")\n",
    "df2.show()"
   ]
  },
  {
   "cell_type": "code",
   "execution_count": 290,
   "metadata": {},
   "outputs": [
    {
     "name": "stdout",
     "output_type": "stream",
     "text": [
      "+--------+\n",
      "|  words8|\n",
      "+--------+\n",
      "|    want|\n",
      "|     put|\n",
      "|  muscle|\n",
      "|increase|\n",
      "| protein|\n",
      "|  intake|\n",
      "|     one|\n",
      "|    best|\n",
      "| choices|\n",
      "|     buy|\n",
      "|    whey|\n",
      "| protein|\n",
      "|  powder|\n",
      "| however|\n",
      "|    even|\n",
      "| picking|\n",
      "|    whey|\n",
      "| protein|\n",
      "|    need|\n",
      "|  choose|\n",
      "+--------+\n",
      "only showing top 20 rows\n",
      "\n"
     ]
    }
   ],
   "source": [
    "df2 = df2.where(\n",
    "    col(\"words8\") != \"null\"\n",
    ")\n",
    "\n",
    "df2 = df2.where(\n",
    "    col(\"words8\") != \"\"\n",
    ")\n",
    "\n",
    "df2.show()"
   ]
  },
  {
   "cell_type": "code",
   "execution_count": 291,
   "metadata": {},
   "outputs": [
    {
     "name": "stdout",
     "output_type": "stream",
     "text": [
      "+---------+-----+\n",
      "|   words8|count|\n",
      "+---------+-----+\n",
      "|  protein|  224|\n",
      "|     whey|  154|\n",
      "|   muscle|   41|\n",
      "|      one|   32|\n",
      "|      fat|   30|\n",
      "|     body|   27|\n",
      "|    grams|   23|\n",
      "|    amino|   22|\n",
      "|    study|   22|\n",
      "|pinterest|   21|\n",
      "|      get|   21|\n",
      "|     also|   21|\n",
      "| facebook|   21|\n",
      "|     much|   20|\n",
      "|     bcaa|   20|\n",
      "|    acids|   19|\n",
      "| benefits|   19|\n",
      "|   powder|   17|\n",
      "|  isolate|   17|\n",
      "|     time|   17|\n",
      "+---------+-----+\n",
      "only showing top 20 rows\n",
      "\n"
     ]
    }
   ],
   "source": [
    "df_counted2 = df2.groupby(\n",
    "    col(\"words8\")\n",
    ").count()\n",
    "\n",
    "df_counted2.orderBy(desc(\"count\")).show()"
   ]
  }
 ],
 "metadata": {
  "kernelspec": {
   "display_name": "Python 3",
   "language": "python",
   "name": "python3"
  },
  "language_info": {
   "codemirror_mode": {
    "name": "ipython",
    "version": 3
   },
   "file_extension": ".py",
   "mimetype": "text/x-python",
   "name": "python",
   "nbconvert_exporter": "python",
   "pygments_lexer": "ipython3",
   "version": "3.11.4"
  },
  "orig_nbformat": 4
 },
 "nbformat": 4,
 "nbformat_minor": 2
}
