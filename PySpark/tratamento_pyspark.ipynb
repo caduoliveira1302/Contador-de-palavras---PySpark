{
 "cells": [
  {
   "cell_type": "code",
   "execution_count": 2,
   "metadata": {},
   "outputs": [
    {
     "ename": "",
     "evalue": "",
     "output_type": "error",
     "traceback": [
      "\u001b[1;31mCannot execute code, session has been disposed. Please try restarting the Kernel."
     ]
    },
    {
     "ename": "",
     "evalue": "",
     "output_type": "error",
     "traceback": [
      "\u001b[1;31mThe Kernel crashed while executing code in the the current cell or a previous cell. Please review the code in the cell(s) to identify a possible cause of the failure. Click <a href='https://aka.ms/vscodeJupyterKernelCrash'>here</a> for more info. View Jupyter <a href='command:jupyter.viewOutput'>log</a> for further details."
     ]
    }
   ],
   "source": [
    "# !pip install googletrans==4.0.0-rc1\n",
    "# !pip install pyspark py4j\n",
    "# !pip install findspark\n",
    "!pip uninstall pyspark"
   ]
  },
  {
   "cell_type": "code",
   "execution_count": 5,
   "metadata": {},
   "outputs": [
    {
     "ename": "Exception",
     "evalue": "Unable to find py4j in C:\\Users\\cedua\\anaconda3\\Scripts\\spark\\python, your SPARK_HOME may not be configured correctly",
     "output_type": "error",
     "traceback": [
      "\u001b[1;31m---------------------------------------------------------------------------\u001b[0m",
      "\u001b[1;31mIndexError\u001b[0m                                Traceback (most recent call last)",
      "File \u001b[1;32mc:\\Users\\cedua\\AppData\\Local\\Programs\\Python\\Python311\\Lib\\site-packages\\findspark.py:159\u001b[0m, in \u001b[0;36minit\u001b[1;34m(spark_home, python_path, edit_rc, edit_profile)\u001b[0m\n\u001b[0;32m    158\u001b[0m \u001b[39mtry\u001b[39;00m:\n\u001b[1;32m--> 159\u001b[0m     py4j \u001b[39m=\u001b[39m glob(os\u001b[39m.\u001b[39;49mpath\u001b[39m.\u001b[39;49mjoin(spark_python, \u001b[39m\"\u001b[39;49m\u001b[39mlib\u001b[39;49m\u001b[39m\"\u001b[39;49m, \u001b[39m\"\u001b[39;49m\u001b[39mpy4j-*.zip\u001b[39;49m\u001b[39m\"\u001b[39;49m))[\u001b[39m0\u001b[39;49m]\n\u001b[0;32m    160\u001b[0m \u001b[39mexcept\u001b[39;00m \u001b[39mIndexError\u001b[39;00m:\n",
      "\u001b[1;31mIndexError\u001b[0m: list index out of range",
      "\nDuring handling of the above exception, another exception occurred:\n",
      "\u001b[1;31mException\u001b[0m                                 Traceback (most recent call last)",
      "Cell \u001b[1;32mIn[5], line 3\u001b[0m\n\u001b[0;32m      1\u001b[0m \u001b[39mfrom\u001b[39;00m \u001b[39mgoogletrans\u001b[39;00m \u001b[39mimport\u001b[39;00m Translator\n\u001b[0;32m      2\u001b[0m \u001b[39mimport\u001b[39;00m \u001b[39mfindspark\u001b[39;00m\n\u001b[1;32m----> 3\u001b[0m findspark\u001b[39m.\u001b[39;49minit()\n\u001b[0;32m      4\u001b[0m \u001b[39mfrom\u001b[39;00m \u001b[39mpyspark\u001b[39;00m\u001b[39m.\u001b[39;00m\u001b[39msql\u001b[39;00m \u001b[39mimport\u001b[39;00m SparkSession\n\u001b[0;32m      5\u001b[0m \u001b[39mfrom\u001b[39;00m \u001b[39mpyspark\u001b[39;00m\u001b[39m.\u001b[39;00m\u001b[39msql\u001b[39;00m\u001b[39m.\u001b[39;00m\u001b[39mfunctions\u001b[39;00m \u001b[39mimport\u001b[39;00m udf\n",
      "File \u001b[1;32mc:\\Users\\cedua\\AppData\\Local\\Programs\\Python\\Python311\\Lib\\site-packages\\findspark.py:161\u001b[0m, in \u001b[0;36minit\u001b[1;34m(spark_home, python_path, edit_rc, edit_profile)\u001b[0m\n\u001b[0;32m    159\u001b[0m         py4j \u001b[39m=\u001b[39m glob(os\u001b[39m.\u001b[39mpath\u001b[39m.\u001b[39mjoin(spark_python, \u001b[39m\"\u001b[39m\u001b[39mlib\u001b[39m\u001b[39m\"\u001b[39m, \u001b[39m\"\u001b[39m\u001b[39mpy4j-*.zip\u001b[39m\u001b[39m\"\u001b[39m))[\u001b[39m0\u001b[39m]\n\u001b[0;32m    160\u001b[0m     \u001b[39mexcept\u001b[39;00m \u001b[39mIndexError\u001b[39;00m:\n\u001b[1;32m--> 161\u001b[0m         \u001b[39mraise\u001b[39;00m \u001b[39mException\u001b[39;00m(\n\u001b[0;32m    162\u001b[0m             \u001b[39m\"\u001b[39m\u001b[39mUnable to find py4j in \u001b[39m\u001b[39m{}\u001b[39;00m\u001b[39m, your SPARK_HOME may not be configured correctly\u001b[39m\u001b[39m\"\u001b[39m\u001b[39m.\u001b[39mformat(\n\u001b[0;32m    163\u001b[0m                 spark_python\n\u001b[0;32m    164\u001b[0m             )\n\u001b[0;32m    165\u001b[0m         )\n\u001b[0;32m    166\u001b[0m     sys\u001b[39m.\u001b[39mpath[:\u001b[39m0\u001b[39m] \u001b[39m=\u001b[39m sys_path \u001b[39m=\u001b[39m [spark_python, py4j]\n\u001b[0;32m    167\u001b[0m \u001b[39melse\u001b[39;00m:\n\u001b[0;32m    168\u001b[0m     \u001b[39m# already imported, no need to patch sys.path\u001b[39;00m\n",
      "\u001b[1;31mException\u001b[0m: Unable to find py4j in C:\\Users\\cedua\\anaconda3\\Scripts\\spark\\python, your SPARK_HOME may not be configured correctly"
     ]
    }
   ],
   "source": [
    "from googletrans import Translator\n",
    "import findspark\n",
    "findspark.init()\n",
    "from pyspark.sql import SparkSession\n",
    "from pyspark.sql.functions import udf\n",
    "from pyspark.sql.types import StringType\n",
    "import pandas as pd\n",
    "import pyspark\n",
    "from pyspark.sql.functions import split\n",
    "from pyspark.sql.functions import explode, col, trim\n",
    "from pyspark.sql.functions import regexp_extract\n",
    "from pyspark.sql.functions import lower\n",
    "from pyspark.ml.feature import StopWordsRemover"
   ]
  },
  {
   "cell_type": "code",
   "execution_count": 2,
   "metadata": {},
   "outputs": [
    {
     "data": {
      "text/html": [
       "\n",
       "            <div>\n",
       "                <p><b>SparkSession - in-memory</b></p>\n",
       "                \n",
       "        <div>\n",
       "            <p><b>SparkContext</b></p>\n",
       "\n",
       "            <p><a href=\"http://192.168.137.236:4041\">Spark UI</a></p>\n",
       "\n",
       "            <dl>\n",
       "              <dt>Version</dt>\n",
       "                <dd><code>v3.4.0</code></dd>\n",
       "              <dt>Master</dt>\n",
       "                <dd><code>local[*]</code></dd>\n",
       "              <dt>AppName</dt>\n",
       "                <dd><code>PySpark - ContandoPalavras</code></dd>\n",
       "            </dl>\n",
       "        </div>\n",
       "        \n",
       "            </div>\n",
       "        "
      ],
      "text/plain": [
       "<pyspark.sql.session.SparkSession at 0x16334fb8fd0>"
      ]
     },
     "execution_count": 2,
     "metadata": {},
     "output_type": "execute_result"
    }
   ],
   "source": [
    "spark = SparkSession.builder.appName(\"PySpark - ContandoPalavras\").getOrCreate()\n",
    "sc = spark.sparkContext\n",
    "\n",
    "spark"
   ]
  },
  {
   "cell_type": "code",
   "execution_count": 23,
   "metadata": {},
   "outputs": [
    {
     "name": "stdout",
     "output_type": "stream",
     "text": [
      "+--------------------+\n",
      "|               value|\n",
      "+--------------------+\n",
      "|\"When you want to...|\n",
      "|These powders com...|\n",
      "|ARE THERE ANY DIF...|\n",
      "|Yes! Whey protein...|\n",
      "|This means that t...|\n",
      "|DO THEY HAVE THE ...|\n",
      "|No! Whey protein ...|\n",
      "|DO THEY TASTE THE...|\n",
      "|Nope! Whey protei...|\n",
      "|DO THEY CONTAIN T...|\n",
      "|No! 100 grams of ...|\n",
      "|ARE THEY ABSORBED...|\n",
      "|No. Whey protein ...|\n",
      "|All in all, you g...|\n",
      "|If you want to ha...|\n",
      "|Not as well as th...|\n",
      "|                    |\n",
      "|For the latest ne...|\n",
      "|                    |\n",
      "|            Facebook|\n",
      "+--------------------+\n",
      "only showing top 20 rows\n",
      "\n"
     ]
    },
    {
     "data": {
      "text/plain": [
       "pyspark.sql.dataframe.DataFrame"
      ]
     },
     "execution_count": 23,
     "metadata": {},
     "output_type": "execute_result"
    }
   ],
   "source": [
    "df = spark.read.text(\"C:/Users/cedua/CDIA - PUCSP/PROJETO PySpark (SAVINO)/Contador-de-palavras---PySpark/data/fitnessandpower.txt\")\n",
    "df.show()\n",
    "type(df)"
   ]
  },
  {
   "cell_type": "code",
   "execution_count": 87,
   "metadata": {},
   "outputs": [],
   "source": [
    "########################################################################################################################"
   ]
  },
  {
   "cell_type": "code",
   "execution_count": 20,
   "metadata": {},
   "outputs": [
    {
     "name": "stdout",
     "output_type": "stream",
     "text": [
      "[('B', 3), ('C', 3), ('D', 2), ('D D', 1)]\n"
     ]
    },
    {
     "data": {
      "text/html": [
       "<div>\n",
       "<style scoped>\n",
       "    .dataframe tbody tr th:only-of-type {\n",
       "        vertical-align: middle;\n",
       "    }\n",
       "\n",
       "    .dataframe tbody tr th {\n",
       "        vertical-align: top;\n",
       "    }\n",
       "\n",
       "    .dataframe thead th {\n",
       "        text-align: right;\n",
       "    }\n",
       "</style>\n",
       "<table border=\"1\" class=\"dataframe\">\n",
       "  <thead>\n",
       "    <tr style=\"text-align: right;\">\n",
       "      <th></th>\n",
       "      <th>0</th>\n",
       "      <th>1</th>\n",
       "    </tr>\n",
       "  </thead>\n",
       "  <tbody>\n",
       "    <tr>\n",
       "      <th>0</th>\n",
       "      <td>B</td>\n",
       "      <td>3</td>\n",
       "    </tr>\n",
       "    <tr>\n",
       "      <th>1</th>\n",
       "      <td>C</td>\n",
       "      <td>3</td>\n",
       "    </tr>\n",
       "    <tr>\n",
       "      <th>2</th>\n",
       "      <td>D</td>\n",
       "      <td>2</td>\n",
       "    </tr>\n",
       "    <tr>\n",
       "      <th>3</th>\n",
       "      <td>D D</td>\n",
       "      <td>1</td>\n",
       "    </tr>\n",
       "  </tbody>\n",
       "</table>\n",
       "</div>"
      ],
      "text/plain": [
       "     0  1\n",
       "0    B  3\n",
       "1    C  3\n",
       "2    D  2\n",
       "3  D D  1"
      ]
     },
     "execution_count": 20,
     "metadata": {},
     "output_type": "execute_result"
    }
   ],
   "source": [
    "#### EXEMPLO 1 - MAP REDUCE\n",
    "dados=[\"B\",\"B\",\"B\",\"C\",\"C\",\"C\",\"D\",\"D\",\"D D\"]\n",
    "\n",
    "input_file=sc.parallelize(dados,3)\n",
    "counts = input_file.map(lambda word:(word, 1)) \\\n",
    "                     .reduceByKey(lambda a, b: a + b)\n",
    "\n",
    "result=counts.collect()\n",
    "print(result) \n",
    "df=pd.DataFrame(result)\n",
    "df"
   ]
  },
  {
   "cell_type": "code",
   "execution_count": 22,
   "metadata": {},
   "outputs": [
    {
     "name": "stdout",
     "output_type": "stream",
     "text": [
      "[('B', 3), ('C', 0), ('D', 1)]\n"
     ]
    },
    {
     "data": {
      "text/html": [
       "<div>\n",
       "<style scoped>\n",
       "    .dataframe tbody tr th:only-of-type {\n",
       "        vertical-align: middle;\n",
       "    }\n",
       "\n",
       "    .dataframe tbody tr th {\n",
       "        vertical-align: top;\n",
       "    }\n",
       "\n",
       "    .dataframe thead th {\n",
       "        text-align: right;\n",
       "    }\n",
       "</style>\n",
       "<table border=\"1\" class=\"dataframe\">\n",
       "  <thead>\n",
       "    <tr style=\"text-align: right;\">\n",
       "      <th></th>\n",
       "      <th>0</th>\n",
       "      <th>1</th>\n",
       "    </tr>\n",
       "  </thead>\n",
       "  <tbody>\n",
       "    <tr>\n",
       "      <th>0</th>\n",
       "      <td>B</td>\n",
       "      <td>3</td>\n",
       "    </tr>\n",
       "    <tr>\n",
       "      <th>1</th>\n",
       "      <td>C</td>\n",
       "      <td>0</td>\n",
       "    </tr>\n",
       "    <tr>\n",
       "      <th>2</th>\n",
       "      <td>D</td>\n",
       "      <td>1</td>\n",
       "    </tr>\n",
       "  </tbody>\n",
       "</table>\n",
       "</div>"
      ],
      "text/plain": [
       "   0  1\n",
       "0  B  3\n",
       "1  C  0\n",
       "2  D  1"
      ]
     },
     "execution_count": 22,
     "metadata": {},
     "output_type": "execute_result"
    }
   ],
   "source": [
    "#### EXEMPLO 2 - MAP REDUCE\n",
    "dados=[\"B\",\"B\",\"B\",\"C\",\"C\",\"C\",\"D\"]\n",
    "item=[\"B\",\"D\"]\n",
    "input_file=sc.parallelize(dados,3)\n",
    "counts = (input_file.map(lambda word:(word, 1) if (word in item) else (word,0)) \n",
    "                     .reduceByKey(lambda a, b: a + b))\n",
    "\n",
    "result=counts.collect()\n",
    "print(result)\n",
    "df=pd.DataFrame(result)\n",
    "# df.query(\"qtde>0\")\n",
    "df"
   ]
  },
  {
   "cell_type": "code",
   "execution_count": 27,
   "metadata": {},
   "outputs": [],
   "source": [
    "#########################################################################################################################"
   ]
  },
  {
   "cell_type": "code",
   "execution_count": 63,
   "metadata": {},
   "outputs": [],
   "source": [
    "# def translate_text(text):\n",
    "#     translator = Translator()\n",
    "#     translation = translator.translate(text, dest=\"pt\")\n",
    "#     return translation.text"
   ]
  },
  {
   "cell_type": "code",
   "execution_count": 71,
   "metadata": {},
   "outputs": [],
   "source": [
    "# # Cria a função UDF (User Defined Function) para aplicar a tradução\n",
    "# translate_udf = udf(translate_text, StringType())\n",
    "\n",
    "# # Aplica a tradução no DataFrame usando a função UDF\n",
    "# df = df.withColumn(\"translated_text\", translate_udf(df['value']))\n",
    "# # translated_df = translated_df.drop(\"articles_text\")\n",
    "\n",
    "# # Mostra o DataFrame com os textos traduzidos\n",
    "# df.show()\n",
    "# type(df)"
   ]
  },
  {
   "attachments": {},
   "cell_type": "markdown",
   "metadata": {},
   "source": [
    "### Tratamento - PySpark"
   ]
  },
  {
   "cell_type": "code",
   "execution_count": 12,
   "metadata": {},
   "outputs": [
    {
     "name": "stdout",
     "output_type": "stream",
     "text": [
      "+--------------------+\n",
      "|               words|\n",
      "+--------------------+\n",
      "|                  []|\n",
      "|[\"When, you, want...|\n",
      "|[These, powders, ...|\n",
      "|[ARE, THERE, ANY,...|\n",
      "|[Yes!, Whey, prot...|\n",
      "|[This, means, tha...|\n",
      "|[DO, THEY, HAVE, ...|\n",
      "|[No!, Whey, prote...|\n",
      "|[DO, THEY, TASTE,...|\n",
      "|[Nope!, Whey, pro...|\n",
      "|[DO, THEY, CONTAI...|\n",
      "|[No!, 100, grams,...|\n",
      "|[ARE, THEY, ABSOR...|\n",
      "|[No., Whey, prote...|\n",
      "|[All, in, all,, y...|\n",
      "|[If, you, want, t...|\n",
      "|[Not, as, well, a...|\n",
      "|                  []|\n",
      "|[For, the, latest...|\n",
      "|                  []|\n",
      "+--------------------+\n",
      "only showing top 20 rows\n",
      "\n"
     ]
    },
    {
     "data": {
      "text/plain": [
       "pyspark.sql.dataframe.DataFrame"
      ]
     },
     "execution_count": 12,
     "metadata": {},
     "output_type": "execute_result"
    }
   ],
   "source": [
    "#spliting the df by space \" \" \n",
    "df = df.select(\n",
    "split(df['value'], ' ').alias('words')\n",
    ")\n",
    "\n",
    "df.show()\n",
    "type(df)"
   ]
  },
  {
   "cell_type": "code",
   "execution_count": 13,
   "metadata": {},
   "outputs": [
    {
     "name": "stdout",
     "output_type": "stream",
     "text": [
      "+--------------------+\n",
      "|              words2|\n",
      "+--------------------+\n",
      "|                  []|\n",
      "|[\"When, want, put...|\n",
      "|[powders, come, k...|\n",
      "|[DIFFERENCES, WAY...|\n",
      "|[Yes!, Whey, prot...|\n",
      "|[means, particles...|\n",
      "|[NUTRITIONAL, VAL...|\n",
      "|[No!, Whey, prote...|\n",
      "|      [TASTE, SAME?]|\n",
      "|[Nope!, Whey, pro...|\n",
      "|[CONTAIN, AMOUNT,...|\n",
      "|[No!, 100, grams,...|\n",
      "|   [ABSORBED, SAME?]|\n",
      "|[No., Whey, prote...|\n",
      "|[all,, get, make,...|\n",
      "|[want, benefits, ...|\n",
      "|[well, isolate,, ...|\n",
      "|                  []|\n",
      "|[latest, news, up...|\n",
      "|                  []|\n",
      "+--------------------+\n",
      "only showing top 20 rows\n",
      "\n"
     ]
    },
    {
     "data": {
      "text/plain": [
       "pyspark.sql.dataframe.DataFrame"
      ]
     },
     "execution_count": 13,
     "metadata": {},
     "output_type": "execute_result"
    }
   ],
   "source": [
    "stopwords_remover = StopWordsRemover(inputCol=\"words\", outputCol=\"words2\")\n",
    "\n",
    "# Aplique a remoção de stopwords\n",
    "df = stopwords_remover.transform(df)\n",
    "df = df.drop(\"words\")\n",
    "df.show()\n",
    "type(df)"
   ]
  },
  {
   "cell_type": "code",
   "execution_count": 14,
   "metadata": {},
   "outputs": [
    {
     "name": "stdout",
     "output_type": "stream",
     "text": [
      "+--------+\n",
      "|  words3|\n",
      "+--------+\n",
      "|        |\n",
      "|   \"When|\n",
      "|    want|\n",
      "|     put|\n",
      "|  muscle|\n",
      "|increase|\n",
      "| protein|\n",
      "| intake,|\n",
      "|     one|\n",
      "|    best|\n",
      "| choices|\n",
      "|     buy|\n",
      "|    whey|\n",
      "| protein|\n",
      "| powder.|\n",
      "|However,|\n",
      "|    even|\n",
      "| picking|\n",
      "|    whey|\n",
      "|protein,|\n",
      "+--------+\n",
      "only showing top 20 rows\n",
      "\n"
     ]
    },
    {
     "data": {
      "text/plain": [
       "pyspark.sql.dataframe.DataFrame"
      ]
     },
     "execution_count": 14,
     "metadata": {},
     "output_type": "execute_result"
    }
   ],
   "source": [
    "#removing from lists\n",
    "df = df.select(\n",
    "explode(col(\"words2\")).alias(\"words3\")\n",
    ")\n",
    "\n",
    "df.show()\n",
    "type(df)"
   ]
  },
  {
   "cell_type": "code",
   "execution_count": 15,
   "metadata": {},
   "outputs": [
    {
     "name": "stdout",
     "output_type": "stream",
     "text": [
      "+--------+\n",
      "|  words3|\n",
      "+--------+\n",
      "|   \"When|\n",
      "|    want|\n",
      "|     put|\n",
      "|  muscle|\n",
      "|increase|\n",
      "| protein|\n",
      "| intake,|\n",
      "|     one|\n",
      "|    best|\n",
      "| choices|\n",
      "|     buy|\n",
      "|    whey|\n",
      "| protein|\n",
      "| powder.|\n",
      "|However,|\n",
      "|    even|\n",
      "| picking|\n",
      "|    whey|\n",
      "|protein,|\n",
      "|    need|\n",
      "+--------+\n",
      "only showing top 20 rows\n",
      "\n"
     ]
    },
    {
     "data": {
      "text/plain": [
       "pyspark.sql.dataframe.DataFrame"
      ]
     },
     "execution_count": 15,
     "metadata": {},
     "output_type": "execute_result"
    }
   ],
   "source": [
    "#droping blank spaces\n",
    "df = df.where(\n",
    "col('words3') != ''\n",
    ")\n",
    "\n",
    "df.show()\n",
    "type(df)"
   ]
  },
  {
   "cell_type": "code",
   "execution_count": 16,
   "metadata": {},
   "outputs": [
    {
     "name": "stdout",
     "output_type": "stream",
     "text": [
      "+--------+\n",
      "|  words4|\n",
      "+--------+\n",
      "|    When|\n",
      "|    want|\n",
      "|     put|\n",
      "|  muscle|\n",
      "|increase|\n",
      "| protein|\n",
      "|  intake|\n",
      "|     one|\n",
      "|    best|\n",
      "| choices|\n",
      "|     buy|\n",
      "|    whey|\n",
      "| protein|\n",
      "|  powder|\n",
      "| However|\n",
      "|    even|\n",
      "| picking|\n",
      "|    whey|\n",
      "| protein|\n",
      "|    need|\n",
      "+--------+\n",
      "only showing top 20 rows\n",
      "\n"
     ]
    },
    {
     "data": {
      "text/plain": [
       "pyspark.sql.dataframe.DataFrame"
      ]
     },
     "execution_count": 16,
     "metadata": {},
     "output_type": "execute_result"
    }
   ],
   "source": [
    "#removing punctuation\n",
    "df = df.select(\n",
    "regexp_extract(\n",
    "col('words3'), #cleaning words2 column\n",
    "'[A-z]+', #selecting all the words\n",
    "0).alias('words4')\n",
    ")\n",
    "\n",
    "df.show()\n",
    "type(df)"
   ]
  },
  {
   "cell_type": "code",
   "execution_count": 17,
   "metadata": {},
   "outputs": [
    {
     "name": "stdout",
     "output_type": "stream",
     "text": [
      "+--------+\n",
      "|  words5|\n",
      "+--------+\n",
      "|    when|\n",
      "|    want|\n",
      "|     put|\n",
      "|  muscle|\n",
      "|increase|\n",
      "| protein|\n",
      "|  intake|\n",
      "|     one|\n",
      "|    best|\n",
      "| choices|\n",
      "|     buy|\n",
      "|    whey|\n",
      "| protein|\n",
      "|  powder|\n",
      "| however|\n",
      "|    even|\n",
      "| picking|\n",
      "|    whey|\n",
      "| protein|\n",
      "|    need|\n",
      "+--------+\n",
      "only showing top 20 rows\n",
      "\n"
     ]
    },
    {
     "data": {
      "text/plain": [
       "pyspark.sql.dataframe.DataFrame"
      ]
     },
     "execution_count": 17,
     "metadata": {},
     "output_type": "execute_result"
    }
   ],
   "source": [
    "#every word to lower case\n",
    "df = df.select(\n",
    "lower(\n",
    "col('words4')\n",
    ").alias('words5')\n",
    ")\n",
    "\n",
    "df.show()\n",
    "type(df)"
   ]
  },
  {
   "cell_type": "code",
   "execution_count": 20,
   "metadata": {},
   "outputs": [
    {
     "name": "stdout",
     "output_type": "stream",
     "text": [
      "+------------+-----+\n",
      "|      words5|count|\n",
      "+------------+-----+\n",
      "|      brands|    3|\n",
      "|       still|    4|\n",
      "|      valine|    1|\n",
      "|accumulation|    1|\n",
      "|        bone|    1|\n",
      "|    slightly|    1|\n",
      "|  productive|    1|\n",
      "|       often|    2|\n",
      "|      taking|    4|\n",
      "|      filled|    1|\n",
      "|    beverage|    3|\n",
      "|   beverages|    1|\n",
      "|     highest|    1|\n",
      "|       dough|    1|\n",
      "|     achieve|    1|\n",
      "|      growth|    7|\n",
      "|       watch|    1|\n",
      "|     stomach|    1|\n",
      "|     prevent|    4|\n",
      "|        anti|    3|\n",
      "+------------+-----+\n",
      "only showing top 20 rows\n",
      "\n"
     ]
    }
   ],
   "source": [
    "#COUNTING\n",
    "\n",
    "df_counted = df.groupBy(\n",
    "    col(\"words5\"),\n",
    ").count()\n",
    "\n",
    "df_counted.show()"
   ]
  },
  {
   "cell_type": "code",
   "execution_count": 22,
   "metadata": {},
   "outputs": [
    {
     "name": "stdout",
     "output_type": "stream",
     "text": [
      "+------------+-----+\n",
      "|      words5|count|\n",
      "+------------+-----+\n",
      "|     protein|  224|\n",
      "|        whey|  154|\n",
      "|            |  114|\n",
      "|      muscle|   41|\n",
      "|         one|   32|\n",
      "|          it|   32|\n",
      "|         fat|   30|\n",
      "|        body|   27|\n",
      "|       grams|   23|\n",
      "|       amino|   22|\n",
      "|       study|   22|\n",
      "|   pinterest|   21|\n",
      "|         get|   21|\n",
      "|        also|   21|\n",
      "|    facebook|   21|\n",
      "|        much|   20|\n",
      "|        bcaa|   20|\n",
      "|       acids|   19|\n",
      "|    benefits|   19|\n",
      "|      powder|   17|\n",
      "|     isolate|   17|\n",
      "|        time|   17|\n",
      "|      levels|   16|\n",
      "|     serving|   16|\n",
      "|      weight|   16|\n",
      "| supplements|   15|\n",
      "|      casein|   15|\n",
      "|        take|   14|\n",
      "| concentrate|   14|\n",
      "|      people|   14|\n",
      "|        want|   14|\n",
      "|        make|   14|\n",
      "|      amount|   14|\n",
      "|    training|   14|\n",
      "|       bcaas|   13|\n",
      "|      health|   13|\n",
      "|        high|   13|\n",
      "|        like|   13|\n",
      "|       found|   13|\n",
      "|        many|   13|\n",
      "|        gain|   12|\n",
      "|        news|   12|\n",
      "|         egg|   12|\n",
      "|        help|   12|\n",
      "|    calories|   12|\n",
      "|    building|   11|\n",
      "|     twitter|   11|\n",
      "|    exercise|   11|\n",
      "|        lean|   11|\n",
      "|       types|   11|\n",
      "|     updates|   11|\n",
      "|       shake|   11|\n",
      "|  supplement|   11|\n",
      "|      better|   11|\n",
      "|        best|   11|\n",
      "|       carbs|   11|\n",
      "|   effective|   11|\n",
      "|        mass|   10|\n",
      "|         you|   10|\n",
      "|     workout|   10|\n",
      "|compartilhar|   10|\n",
      "|         use|   10|\n",
      "|      latest|   10|\n",
      "|     million|   10|\n",
      "|      reddit|   10|\n",
      "|        join|   10|\n",
      "|        diet|   10|\n",
      "|    strength|   10|\n",
      "|   consuming|   10|\n",
      "|     results|   10|\n",
      "|      faster|   10|\n",
      "|        fans|   10|\n",
      "|        even|    9|\n",
      "|         two|    9|\n",
      "|         per|    9|\n",
      "|     muscles|    9|\n",
      "|        took|    9|\n",
      "|        loss|    9|\n",
      "|     studies|    9|\n",
      "|          vs|    9|\n",
      "|       right|    9|\n",
      "|         don|    8|\n",
      "|        lose|    8|\n",
      "|      intake|    8|\n",
      "|      cancer|    8|\n",
      "|        hour|    8|\n",
      "|      around|    8|\n",
      "|        made|    8|\n",
      "|     lactose|    8|\n",
      "|        well|    8|\n",
      "|    increase|    8|\n",
      "|      growth|    7|\n",
      "| glutathione|    7|\n",
      "|    actually|    7|\n",
      "|    contains|    7|\n",
      "|      energy|    7|\n",
      "|       needs|    7|\n",
      "|   nutrition|    7|\n",
      "|          go|    7|\n",
      "|   different|    7|\n",
      "+------------+-----+\n",
      "only showing top 100 rows\n",
      "\n"
     ]
    }
   ],
   "source": [
    "df_counted.orderBy(\n",
    "    col(\"count\"),\n",
    "    ascending=False\n",
    ").show(100)"
   ]
  },
  {
   "cell_type": "code",
   "execution_count": null,
   "metadata": {},
   "outputs": [],
   "source": [
    "df_counted = df_counted.withColumn(\"name\", trim(col(\"name\")))"
   ]
  }
 ],
 "metadata": {
  "kernelspec": {
   "display_name": "Python 3",
   "language": "python",
   "name": "python3"
  },
  "language_info": {
   "codemirror_mode": {
    "name": "ipython",
    "version": 3
   },
   "file_extension": ".py",
   "mimetype": "text/x-python",
   "name": "python",
   "nbconvert_exporter": "python",
   "pygments_lexer": "ipython3",
   "version": "3.11.3"
  },
  "orig_nbformat": 4
 },
 "nbformat": 4,
 "nbformat_minor": 2
}
