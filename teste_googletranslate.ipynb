{
 "cells": [
  {
   "cell_type": "code",
   "execution_count": 26,
   "metadata": {},
   "outputs": [],
   "source": [
    "from selenium import webdriver \n",
    "import chromedriver_binary\n",
    "from selenium.webdriver.common.keys import Keys\n",
    "from selenium.webdriver.common.by import By\n",
    "from selenium.common.exceptions import NoSuchElementException\n",
    "from time import sleep\n",
    "import warnings\n",
    "import re\n",
    "warnings.filterwarnings(\"ignore\")\n",
    "import pandas as pd\n",
    "from googletrans import Translator\n",
    "translator = Translator()"
   ]
  },
  {
   "cell_type": "code",
   "execution_count": 50,
   "metadata": {},
   "outputs": [],
   "source": [
    "class tNation:\n",
    "    def __init__(self):\n",
    "        self.url = \"https://www.t-nation.com/\"\n",
    "        self.driver = webdriver.Chrome(executable_path=\"C:/Users/cedua/AppData/Roaming/Microsoft/Windows/Start Menu/Programs/chromedriver\")\n",
    "        self.driver.maximize_window()\n",
    "        #there are 20 articles per page\n",
    "        self.articles_path = [f\"\"\"/html/body/div[4]/div[3]/div/div/main/div/div/article[{i}]/div/div[2]/header/h2/a\"\"\" for i in range(1,21)]\n",
    "        self.final_collection_list = []\n",
    "\n",
    "    def open_url(self):\n",
    "        self.driver.get(self.url)\n",
    "\n",
    "    def search_product(self):\n",
    "        articles_menu = self.driver.find_element(By.XPATH, \"\"\"//*[@id=\"primary-menu\"]/li[2]/a\"\"\")\n",
    "        articles_menu.click()\n",
    "        sleep(2)\n",
    "\n",
    "        search_input = self.driver.find_element(By.XPATH, \"\"\"/html/body/div[4]/div[3]/div/div[2]/main/div/div/div[1]/div/form/input\"\"\")\n",
    "        search_input.send_keys(\"whey protein\")\n",
    "        search_button = self.driver.find_element(By.XPATH, \"\"\"/html/body/div[4]/div[3]/div/div[2]/main/div/div/div[1]/div/form/button\"\"\")\n",
    "        search_button.click()\n",
    "        sleep(3)\n",
    "\n",
    "        for artic in self.articles_path:\n",
    "            xpath_article = self.driver.find_element(By.XPATH, f\"{artic}\")\n",
    "            xpath_article.click()\n",
    "            sleep(2)\n",
    "                \n",
    "            entire_page = self.driver.find_element(By.XPATH, \"/html/body/div[4]/div[3]/div/div/div/main/article/div/div/div[1]\")\n",
    "            entire_page_pt = translator.translate(entire_page.text, dest='pt')\n",
    "            self.final_collection_list.append(entire_page_pt)\n",
    "            self.driver.back()\n",
    "            \n",
    "\n",
    "    def save_articles(self):\n",
    "        df = pd.DataFrame({\"articles_text\" : self.final_collection_list})\n",
    "        df.to_csv(f\"tnation_data.csv\")"
   ]
  },
  {
   "cell_type": "code",
   "execution_count": 51,
   "metadata": {},
   "outputs": [
    {
     "ename": "SessionNotCreatedException",
     "evalue": "Message: session not created: This version of ChromeDriver only supports Chrome version 107\nCurrent browser version is 113.0.5672.127 with binary path C:\\Program Files\\Google\\Chrome\\Application\\chrome.exe\nStacktrace:\nBacktrace:\n\tOrdinal0 [0x0064ACD3+2075859]\n\tOrdinal0 [0x005DEE61+1633889]\n\tOrdinal0 [0x004DB7BD+571325]\n\tOrdinal0 [0x004FDFCD+712653]\n\tOrdinal0 [0x004F9266+692838]\n\tOrdinal0 [0x004F6BE9+682985]\n\tOrdinal0 [0x0052DBD3+908243]\n\tOrdinal0 [0x0052D6AA+906922]\n\tOrdinal0 [0x00527136+880950]\n\tOrdinal0 [0x004FFEFD+720637]\n\tOrdinal0 [0x00500F3F+724799]\n\tGetHandleVerifier [0x008FEED2+2769538]\n\tGetHandleVerifier [0x008F0D95+2711877]\n\tGetHandleVerifier [0x006DA03A+521194]\n\tGetHandleVerifier [0x006D8DA0+516432]\n\tOrdinal0 [0x005E682C+1665068]\n\tOrdinal0 [0x005EB128+1683752]\n\tOrdinal0 [0x005EB215+1683989]\n\tOrdinal0 [0x005F6484+1729668]\n\tBaseThreadInitThunk [0x761A00C9+25]\n\tRtlGetAppContainerNamedObjectPath [0x77277B4E+286]\n\tRtlGetAppContainerNamedObjectPath [0x77277B1E+238]\n",
     "output_type": "error",
     "traceback": [
      "\u001b[1;31m---------------------------------------------------------------------------\u001b[0m",
      "\u001b[1;31mSessionNotCreatedException\u001b[0m                Traceback (most recent call last)",
      "\u001b[1;32mc:\\Users\\cedua\\CDIA - PUCSP\\PROJETO PySpark (SAVINO)\\Contador-de-palavras---PySpark\\teste_googletranslate.ipynb Cell 3\u001b[0m in \u001b[0;36m1\n\u001b[1;32m----> <a href='vscode-notebook-cell:/c%3A/Users/cedua/CDIA%20-%20PUCSP/PROJETO%20PySpark%20%28SAVINO%29/Contador-de-palavras---PySpark/teste_googletranslate.ipynb#W2sZmlsZQ%3D%3D?line=0'>1</a>\u001b[0m tnation \u001b[39m=\u001b[39m tNation()\n\u001b[0;32m      <a href='vscode-notebook-cell:/c%3A/Users/cedua/CDIA%20-%20PUCSP/PROJETO%20PySpark%20%28SAVINO%29/Contador-de-palavras---PySpark/teste_googletranslate.ipynb#W2sZmlsZQ%3D%3D?line=1'>2</a>\u001b[0m tnation\u001b[39m.\u001b[39mopen_url()\n\u001b[0;32m      <a href='vscode-notebook-cell:/c%3A/Users/cedua/CDIA%20-%20PUCSP/PROJETO%20PySpark%20%28SAVINO%29/Contador-de-palavras---PySpark/teste_googletranslate.ipynb#W2sZmlsZQ%3D%3D?line=2'>3</a>\u001b[0m tnation\u001b[39m.\u001b[39msearch_product()\n",
      "\u001b[1;32mc:\\Users\\cedua\\CDIA - PUCSP\\PROJETO PySpark (SAVINO)\\Contador-de-palavras---PySpark\\teste_googletranslate.ipynb Cell 3\u001b[0m in \u001b[0;36m4\n\u001b[0;32m      <a href='vscode-notebook-cell:/c%3A/Users/cedua/CDIA%20-%20PUCSP/PROJETO%20PySpark%20%28SAVINO%29/Contador-de-palavras---PySpark/teste_googletranslate.ipynb#W2sZmlsZQ%3D%3D?line=1'>2</a>\u001b[0m \u001b[39mdef\u001b[39;00m \u001b[39m__init__\u001b[39m(\u001b[39mself\u001b[39m):\n\u001b[0;32m      <a href='vscode-notebook-cell:/c%3A/Users/cedua/CDIA%20-%20PUCSP/PROJETO%20PySpark%20%28SAVINO%29/Contador-de-palavras---PySpark/teste_googletranslate.ipynb#W2sZmlsZQ%3D%3D?line=2'>3</a>\u001b[0m     \u001b[39mself\u001b[39m\u001b[39m.\u001b[39murl \u001b[39m=\u001b[39m \u001b[39m\"\u001b[39m\u001b[39mhttps://www.t-nation.com/\u001b[39m\u001b[39m\"\u001b[39m\n\u001b[1;32m----> <a href='vscode-notebook-cell:/c%3A/Users/cedua/CDIA%20-%20PUCSP/PROJETO%20PySpark%20%28SAVINO%29/Contador-de-palavras---PySpark/teste_googletranslate.ipynb#W2sZmlsZQ%3D%3D?line=3'>4</a>\u001b[0m     \u001b[39mself\u001b[39m\u001b[39m.\u001b[39mdriver \u001b[39m=\u001b[39m webdriver\u001b[39m.\u001b[39;49mChrome(executable_path\u001b[39m=\u001b[39;49m\u001b[39m\"\u001b[39;49m\u001b[39mC:/Users/cedua/AppData/Roaming/Microsoft/Windows/Start Menu/Programs/chromedriver\u001b[39;49m\u001b[39m\"\u001b[39;49m)\n\u001b[0;32m      <a href='vscode-notebook-cell:/c%3A/Users/cedua/CDIA%20-%20PUCSP/PROJETO%20PySpark%20%28SAVINO%29/Contador-de-palavras---PySpark/teste_googletranslate.ipynb#W2sZmlsZQ%3D%3D?line=4'>5</a>\u001b[0m     \u001b[39mself\u001b[39m\u001b[39m.\u001b[39mdriver\u001b[39m.\u001b[39mmaximize_window()\n\u001b[0;32m      <a href='vscode-notebook-cell:/c%3A/Users/cedua/CDIA%20-%20PUCSP/PROJETO%20PySpark%20%28SAVINO%29/Contador-de-palavras---PySpark/teste_googletranslate.ipynb#W2sZmlsZQ%3D%3D?line=5'>6</a>\u001b[0m     \u001b[39m#there are 20 articles per page\u001b[39;00m\n",
      "File \u001b[1;32mc:\\Users\\cedua\\Anaconda3\\lib\\site-packages\\selenium\\webdriver\\chrome\\webdriver.py:70\u001b[0m, in \u001b[0;36mWebDriver.__init__\u001b[1;34m(self, executable_path, port, options, service_args, desired_capabilities, service_log_path, chrome_options, service, keep_alive)\u001b[0m\n\u001b[0;32m     67\u001b[0m \u001b[39mif\u001b[39;00m \u001b[39mnot\u001b[39;00m service:\n\u001b[0;32m     68\u001b[0m     service \u001b[39m=\u001b[39m Service(executable_path, port, service_args, service_log_path)\n\u001b[1;32m---> 70\u001b[0m \u001b[39msuper\u001b[39;49m(WebDriver, \u001b[39mself\u001b[39;49m)\u001b[39m.\u001b[39;49m\u001b[39m__init__\u001b[39;49m(DesiredCapabilities\u001b[39m.\u001b[39;49mCHROME[\u001b[39m'\u001b[39;49m\u001b[39mbrowserName\u001b[39;49m\u001b[39m'\u001b[39;49m], \u001b[39m\"\u001b[39;49m\u001b[39mgoog\u001b[39;49m\u001b[39m\"\u001b[39;49m,\n\u001b[0;32m     71\u001b[0m                                 port, options,\n\u001b[0;32m     72\u001b[0m                                 service_args, desired_capabilities,\n\u001b[0;32m     73\u001b[0m                                 service_log_path, service, keep_alive)\n",
      "File \u001b[1;32mc:\\Users\\cedua\\Anaconda3\\lib\\site-packages\\selenium\\webdriver\\chromium\\webdriver.py:93\u001b[0m, in \u001b[0;36mChromiumDriver.__init__\u001b[1;34m(self, browser_name, vendor_prefix, port, options, service_args, desired_capabilities, service_log_path, service, keep_alive)\u001b[0m\n\u001b[0;32m     90\u001b[0m \u001b[39mself\u001b[39m\u001b[39m.\u001b[39mservice\u001b[39m.\u001b[39mstart()\n\u001b[0;32m     92\u001b[0m \u001b[39mtry\u001b[39;00m:\n\u001b[1;32m---> 93\u001b[0m     RemoteWebDriver\u001b[39m.\u001b[39;49m\u001b[39m__init__\u001b[39;49m(\n\u001b[0;32m     94\u001b[0m         \u001b[39mself\u001b[39;49m,\n\u001b[0;32m     95\u001b[0m         command_executor\u001b[39m=\u001b[39;49mChromiumRemoteConnection(\n\u001b[0;32m     96\u001b[0m             remote_server_addr\u001b[39m=\u001b[39;49m\u001b[39mself\u001b[39;49m\u001b[39m.\u001b[39;49mservice\u001b[39m.\u001b[39;49mservice_url,\n\u001b[0;32m     97\u001b[0m             browser_name\u001b[39m=\u001b[39;49mbrowser_name, vendor_prefix\u001b[39m=\u001b[39;49mvendor_prefix,\n\u001b[0;32m     98\u001b[0m             keep_alive\u001b[39m=\u001b[39;49mkeep_alive, ignore_proxy\u001b[39m=\u001b[39;49m_ignore_proxy),\n\u001b[0;32m     99\u001b[0m         options\u001b[39m=\u001b[39;49moptions)\n\u001b[0;32m    100\u001b[0m \u001b[39mexcept\u001b[39;00m \u001b[39mException\u001b[39;00m:\n\u001b[0;32m    101\u001b[0m     \u001b[39mself\u001b[39m\u001b[39m.\u001b[39mquit()\n",
      "File \u001b[1;32mc:\\Users\\cedua\\Anaconda3\\lib\\site-packages\\selenium\\webdriver\\remote\\webdriver.py:268\u001b[0m, in \u001b[0;36mWebDriver.__init__\u001b[1;34m(self, command_executor, desired_capabilities, browser_profile, proxy, keep_alive, file_detector, options)\u001b[0m\n\u001b[0;32m    266\u001b[0m \u001b[39mself\u001b[39m\u001b[39m.\u001b[39mfile_detector \u001b[39m=\u001b[39m file_detector \u001b[39mor\u001b[39;00m LocalFileDetector()\n\u001b[0;32m    267\u001b[0m \u001b[39mself\u001b[39m\u001b[39m.\u001b[39mstart_client()\n\u001b[1;32m--> 268\u001b[0m \u001b[39mself\u001b[39;49m\u001b[39m.\u001b[39;49mstart_session(capabilities, browser_profile)\n",
      "File \u001b[1;32mc:\\Users\\cedua\\Anaconda3\\lib\\site-packages\\selenium\\webdriver\\remote\\webdriver.py:359\u001b[0m, in \u001b[0;36mWebDriver.start_session\u001b[1;34m(self, capabilities, browser_profile)\u001b[0m\n\u001b[0;32m    356\u001b[0m w3c_caps \u001b[39m=\u001b[39m _make_w3c_caps(capabilities)\n\u001b[0;32m    357\u001b[0m parameters \u001b[39m=\u001b[39m {\u001b[39m\"\u001b[39m\u001b[39mcapabilities\u001b[39m\u001b[39m\"\u001b[39m: w3c_caps,\n\u001b[0;32m    358\u001b[0m               \u001b[39m\"\u001b[39m\u001b[39mdesiredCapabilities\u001b[39m\u001b[39m\"\u001b[39m: capabilities}\n\u001b[1;32m--> 359\u001b[0m response \u001b[39m=\u001b[39m \u001b[39mself\u001b[39;49m\u001b[39m.\u001b[39;49mexecute(Command\u001b[39m.\u001b[39;49mNEW_SESSION, parameters)\n\u001b[0;32m    360\u001b[0m \u001b[39mif\u001b[39;00m \u001b[39m'\u001b[39m\u001b[39msessionId\u001b[39m\u001b[39m'\u001b[39m \u001b[39mnot\u001b[39;00m \u001b[39min\u001b[39;00m response:\n\u001b[0;32m    361\u001b[0m     response \u001b[39m=\u001b[39m response[\u001b[39m'\u001b[39m\u001b[39mvalue\u001b[39m\u001b[39m'\u001b[39m]\n",
      "File \u001b[1;32mc:\\Users\\cedua\\Anaconda3\\lib\\site-packages\\selenium\\webdriver\\remote\\webdriver.py:424\u001b[0m, in \u001b[0;36mWebDriver.execute\u001b[1;34m(self, driver_command, params)\u001b[0m\n\u001b[0;32m    422\u001b[0m response \u001b[39m=\u001b[39m \u001b[39mself\u001b[39m\u001b[39m.\u001b[39mcommand_executor\u001b[39m.\u001b[39mexecute(driver_command, params)\n\u001b[0;32m    423\u001b[0m \u001b[39mif\u001b[39;00m response:\n\u001b[1;32m--> 424\u001b[0m     \u001b[39mself\u001b[39;49m\u001b[39m.\u001b[39;49merror_handler\u001b[39m.\u001b[39;49mcheck_response(response)\n\u001b[0;32m    425\u001b[0m     response[\u001b[39m'\u001b[39m\u001b[39mvalue\u001b[39m\u001b[39m'\u001b[39m] \u001b[39m=\u001b[39m \u001b[39mself\u001b[39m\u001b[39m.\u001b[39m_unwrap_value(\n\u001b[0;32m    426\u001b[0m         response\u001b[39m.\u001b[39mget(\u001b[39m'\u001b[39m\u001b[39mvalue\u001b[39m\u001b[39m'\u001b[39m, \u001b[39mNone\u001b[39;00m))\n\u001b[0;32m    427\u001b[0m     \u001b[39mreturn\u001b[39;00m response\n",
      "File \u001b[1;32mc:\\Users\\cedua\\Anaconda3\\lib\\site-packages\\selenium\\webdriver\\remote\\errorhandler.py:247\u001b[0m, in \u001b[0;36mErrorHandler.check_response\u001b[1;34m(self, response)\u001b[0m\n\u001b[0;32m    245\u001b[0m         alert_text \u001b[39m=\u001b[39m value[\u001b[39m'\u001b[39m\u001b[39malert\u001b[39m\u001b[39m'\u001b[39m]\u001b[39m.\u001b[39mget(\u001b[39m'\u001b[39m\u001b[39mtext\u001b[39m\u001b[39m'\u001b[39m)\n\u001b[0;32m    246\u001b[0m     \u001b[39mraise\u001b[39;00m exception_class(message, screen, stacktrace, alert_text)  \u001b[39m# type: ignore[call-arg]  # mypy is not smart enough here\u001b[39;00m\n\u001b[1;32m--> 247\u001b[0m \u001b[39mraise\u001b[39;00m exception_class(message, screen, stacktrace)\n",
      "\u001b[1;31mSessionNotCreatedException\u001b[0m: Message: session not created: This version of ChromeDriver only supports Chrome version 107\nCurrent browser version is 113.0.5672.127 with binary path C:\\Program Files\\Google\\Chrome\\Application\\chrome.exe\nStacktrace:\nBacktrace:\n\tOrdinal0 [0x0064ACD3+2075859]\n\tOrdinal0 [0x005DEE61+1633889]\n\tOrdinal0 [0x004DB7BD+571325]\n\tOrdinal0 [0x004FDFCD+712653]\n\tOrdinal0 [0x004F9266+692838]\n\tOrdinal0 [0x004F6BE9+682985]\n\tOrdinal0 [0x0052DBD3+908243]\n\tOrdinal0 [0x0052D6AA+906922]\n\tOrdinal0 [0x00527136+880950]\n\tOrdinal0 [0x004FFEFD+720637]\n\tOrdinal0 [0x00500F3F+724799]\n\tGetHandleVerifier [0x008FEED2+2769538]\n\tGetHandleVerifier [0x008F0D95+2711877]\n\tGetHandleVerifier [0x006DA03A+521194]\n\tGetHandleVerifier [0x006D8DA0+516432]\n\tOrdinal0 [0x005E682C+1665068]\n\tOrdinal0 [0x005EB128+1683752]\n\tOrdinal0 [0x005EB215+1683989]\n\tOrdinal0 [0x005F6484+1729668]\n\tBaseThreadInitThunk [0x761A00C9+25]\n\tRtlGetAppContainerNamedObjectPath [0x77277B4E+286]\n\tRtlGetAppContainerNamedObjectPath [0x77277B1E+238]\n"
     ]
    }
   ],
   "source": [
    "tnation = tNation()\n",
    "tnation.open_url()\n",
    "tnation.search_product()\n",
    "tnation.save_articles()"
   ]
  },
  {
   "cell_type": "code",
   "execution_count": null,
   "metadata": {},
   "outputs": [],
   "source": []
  }
 ],
 "metadata": {
  "kernelspec": {
   "display_name": "base",
   "language": "python",
   "name": "python3"
  },
  "language_info": {
   "codemirror_mode": {
    "name": "ipython",
    "version": 3
   },
   "file_extension": ".py",
   "mimetype": "text/x-python",
   "name": "python",
   "nbconvert_exporter": "python",
   "pygments_lexer": "ipython3",
   "version": "3.9.7"
  },
  "orig_nbformat": 4
 },
 "nbformat": 4,
 "nbformat_minor": 2
}
