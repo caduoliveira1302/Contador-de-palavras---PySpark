{
 "cells": [
  {
   "cell_type": "markdown",
   "id": "4bb285c7",
   "metadata": {},
   "source": [
    "# <b>Contagem de palavras com PySpark - FitPlus</b> \n",
    "\n",
    "**Ciência de Dados e Inteligência Artificial - MA5**\n",
    "\n",
    "*Integrantes*\n",
    "\n",
    "<table align=\"left\">\n",
    "    <tr>\n",
    "        <td>Nome:</td>\n",
    "        <td>Abdul Malik de Barros</td>\n",
    "        <td>RA:</td>\n",
    "        <td>RA00306190</td>\n",
    "    </tr>\n",
    "    <tr>\n",
    "        <td>Nome:</td>\n",
    "        <td>Ana Carolina Zhang</td>\n",
    "        <td>RA:</td>\n",
    "        <td>RA00297689</td>\n",
    "    </tr>\n",
    "    <tr>\n",
    "        <td>Nome:</td>\n",
    "        <td>Carlos Eduardo de Oliveira</td>\n",
    "        <td>RA:</td>\n",
    "        <td>RA00297792</td>\n",
    "    </tr>\n",
    "    <tr>\n",
    "        <td>Nome:</td>\n",
    "        <td>Eduardo Furlani</td>\n",
    "        <td>RA:</td>\n",
    "        <td>RA00297677</td>\n",
    "    </tr>\n",
    "</table>"
   ]
  },
  {
   "cell_type": "markdown",
   "id": "0e54bd0f",
   "metadata": {},
   "source": [
    "<a href=\"https://github.com/caduoliveira1302/Contador-de-palavras---PySpark\">Acesse aqui</a> nosso repositório completo com todos os dados e informações do nosso projeto."
   ]
  },
  {
   "cell_type": "markdown",
   "id": "a68455c6",
   "metadata": {},
   "source": [
    "# <b> Índice</b>\n",
    "\n",
    "<a name=\"ancora1\"></a>\n",
    "### [1. Contextualização e problematização](#ancora1)\n",
    "### [2. Extração de dados nos sites ](#ancora2)\n",
    "### [3. Extração de dados redes sociais](#ancora3)\n",
    "### [4. Processar os dados no PySpark](#ancora4)\n",
    "### [5. Correlação de sites e redes sociais](#ancora5)\n",
    "### [6. Desafio - Analise de sentimento ](#ancora6)\n",
    "### [7. Dashboard](#ancora7)"
   ]
  },
  {
   "cell_type": "markdown",
   "id": "c6c6a9a6",
   "metadata": {},
   "source": [
    "<a id=\"ancora1\"></a>\n",
    "## <b> 1. Contextualização e problematização </b> "
   ]
  },
  {
   "cell_type": "markdown",
   "id": "16f3c4a6",
   "metadata": {},
   "source": [
    "Este trabalho tem como objetivo <b>de focar em vender os melhores produtos para melhorar seu desempenho em treinos, dietas, seja qual for o seu objetivo físico</b>, oferecendo informações importantes e relevantes de palavras - chaves, com a vantagem de ter um contato mais direto e assertivo com nossos público, nas nossas ações, iniciamos um projeto que utilizará ciência de dados como uma ferramenta para fazermos as coisas do método mais acurado e data driven possível.\n",
    "."
   ]
  },
  {
   "cell_type": "markdown",
   "id": "1ffbd392",
   "metadata": {},
   "source": [
    "<a id=\"ancora2\"></a>\n",
    "## <b> 2. Extração de dados nos sites e redes sociais</b> "
   ]
  },
  {
   "cell_type": "markdown",
   "id": "5351d672",
   "metadata": {},
   "source": [
    "Identificar possíveis site em que possamos anunciar como sites de saúde, nutrição, exercícios. Tendo em vista que o nosso publico alvo está focando nos seguintes resultados:  auxiliar no ganho de força e massa muscular, na regeneração e produção das fibras musculares, na redução do nível de gordura corporal e na diminuição do tempo de recuperação entre os treinos. \n",
    "\n",
    "Após coletamos diversas matérias sobre conteúdos relacionados a exercícios, segue os sites a seguir: "
   ]
  },
  {
   "cell_type": "markdown",
   "id": "ca0ec160",
   "metadata": {},
   "source": [
    "### Musculação : "
   ]
  },
  {
   "cell_type": "markdown",
   "id": "c01642fb",
   "metadata": {},
   "source": [
    "##### Fitness and Power"
   ]
  },
  {
   "cell_type": "markdown",
   "id": "03d73ec2",
   "metadata": {},
   "source": [
    "https://vscode.dev/github/caduoliveira1302/Contador-de-palavras---PySpark/blob/main/collecting_data/fitnessandpower/fitness_and_power.ipynb"
   ]
  },
  {
   "cell_type": "markdown",
   "id": "2375334f",
   "metadata": {},
   "source": [
    "##### Nutrify"
   ]
  },
  {
   "cell_type": "code",
   "execution_count": null,
   "id": "408b71f1",
   "metadata": {},
   "outputs": [],
   "source": []
  },
  {
   "cell_type": "markdown",
   "id": "27c56e6a",
   "metadata": {},
   "source": [
    "##### Nutritotal"
   ]
  },
  {
   "cell_type": "code",
   "execution_count": null,
   "id": "1d6014f9",
   "metadata": {},
   "outputs": [],
   "source": []
  },
  {
   "cell_type": "markdown",
   "id": "cd510ab9",
   "metadata": {},
   "source": [
    "### Suplementação : "
   ]
  },
  {
   "cell_type": "markdown",
   "id": "6d8887d5",
   "metadata": {},
   "source": [
    "##### Gsup"
   ]
  },
  {
   "cell_type": "code",
   "execution_count": null,
   "id": "33cc95eb",
   "metadata": {},
   "outputs": [],
   "source": []
  },
  {
   "cell_type": "markdown",
   "id": "5a24d34e",
   "metadata": {},
   "source": [
    "##### Maxtitanium"
   ]
  },
  {
   "cell_type": "markdown",
   "id": "a9ba0594",
   "metadata": {},
   "source": [
    "https://vscode.dev/github/caduoliveira1302/Contador-de-palavras---PySpark/blob/main/collecting_data/maxtitanium/MAXTITANIUM.ipynb"
   ]
  },
  {
   "cell_type": "markdown",
   "id": "ff574574",
   "metadata": {},
   "source": [
    "##### My Protein blog "
   ]
  },
  {
   "cell_type": "markdown",
   "id": "7324816b",
   "metadata": {},
   "source": [
    "https://vscode.dev/github/caduoliveira1302/Contador-de-palavras---PySpark/blob/main/collecting_data/myproteinblog/myproteinblog.ipynb"
   ]
  },
  {
   "cell_type": "markdown",
   "id": "a366b2f6",
   "metadata": {},
   "source": [
    "##### Proteinlicous"
   ]
  },
  {
   "cell_type": "code",
   "execution_count": null,
   "id": "f8af436f",
   "metadata": {},
   "outputs": [],
   "source": []
  },
  {
   "cell_type": "markdown",
   "id": "f1dbd51e",
   "metadata": {},
   "source": [
    "### Saúde: \n"
   ]
  },
  {
   "cell_type": "markdown",
   "id": "710bfce0",
   "metadata": {},
   "source": [
    "##### Sanavita "
   ]
  },
  {
   "cell_type": "markdown",
   "id": "99020053",
   "metadata": {},
   "source": [
    "https://vscode.dev/github/caduoliveira1302/Contador-de-palavras---PySpark/blob/main/collecting_data/sanavita/SANAVITA.ipynb"
   ]
  },
  {
   "cell_type": "markdown",
   "id": "c9c33856",
   "metadata": {},
   "source": [
    "##### Tua Saude"
   ]
  },
  {
   "cell_type": "markdown",
   "id": "9104d82d",
   "metadata": {},
   "source": [
    "https://vscode.dev/github/caduoliveira1302/Contador-de-palavras---PySpark/blob/main/collecting_data/tuasaude/TUASAUDE.ipynb"
   ]
  },
  {
   "cell_type": "markdown",
   "id": "46c1e888",
   "metadata": {},
   "source": [
    "### Alimentação :"
   ]
  },
  {
   "cell_type": "markdown",
   "id": "e84bc488",
   "metadata": {},
   "source": [
    "##### Healthline"
   ]
  },
  {
   "cell_type": "markdown",
   "id": "61fe0198",
   "metadata": {},
   "source": [
    "https://vscode.dev/github/caduoliveira1302/Contador-de-palavras---PySpark/blob/main/collecting_data/healthline/HEALTHLINE.ipynb"
   ]
  },
  {
   "cell_type": "markdown",
   "id": "5677d192",
   "metadata": {},
   "source": [
    "##### Tnation"
   ]
  },
  {
   "cell_type": "markdown",
   "id": "6e2c9f2f",
   "metadata": {},
   "source": [
    "https://vscode.dev/github/caduoliveira1302/Contador-de-palavras---PySpark/blob/main/collecting_data/tnation/t-nation.ipynb"
   ]
  },
  {
   "cell_type": "markdown",
   "id": "7402a410",
   "metadata": {},
   "source": [
    "##### SuplementAcao"
   ]
  },
  {
   "cell_type": "markdown",
   "id": "0b3c246e",
   "metadata": {},
   "source": [
    "https://vscode.dev/github/caduoliveira1302/Contador-de-palavras---PySpark/blob/main/collecting_data/SuplementAcao/suplementacao.ipynb"
   ]
  },
  {
   "cell_type": "markdown",
   "id": "286120c9",
   "metadata": {},
   "source": [
    "<a id=\"ancora3\"></a>\n",
    "## <b> 3. Extração de dados nas redes sociais</b> "
   ]
  },
  {
   "cell_type": "markdown",
   "id": "1332b3ff",
   "metadata": {},
   "source": [
    "Além disso, coletamos as redes sociais que estão nos links a seguir. Como demora muito tempo para realizar o automação na coleta de dados, os cadernos rodados das redes sociais estão abaixo:\n",
    "- Reddit : <a href=\"https://github.com/caduoliveira1302/Contador-de-palavras---PySpark/tree/main/collecting_data/Reddit\">Extração de Reddit neste link</a>\n",
    "- Twitter : <a href=\"https://github.com/caduoliveira1302/Contador-de-palavras---PySpark/tree/main/collecting_data/Twitter\">Extração de Reddit neste link</a>"
   ]
  },
  {
   "cell_type": "markdown",
   "id": "8f262b3b",
   "metadata": {},
   "source": [
    "<a id=\"ancora4\"></a>\n",
    "## <b> 4.  Processar os dados no PySpark</b> "
   ]
  },
  {
   "cell_type": "markdown",
   "id": "728aafe7",
   "metadata": {},
   "source": [
    "Utilizando a biblioteca PySpark desenvolvemos um código para contar as palavras em documentos de texto em inglês e português relacionados ao tema fitness.\n",
    "O código utiliza o PySpark para ler os arquivos de texto, dividir as palavras, remover stopwords (palavras comuns que não trazem muita informação) e contar a ocorrência de cada palavra.\n",
    "Para o texto em inglês, removemos padrões específicos de alguns sites fitness, como informações de contato e palavras indesejadas. Em seguida, as palavras são transformadas para letras minúsculas e a pontuação é removida.\n",
    "No caso do texto em português, também removemos a pontuação e tratamos algumas palavras específicas que poderiam interferir nos resultados.\n",
    "Os resultados são salvos em arquivos CSV separados por idioma, para análises futuras e criação de um painel de visualização.\n",
    "Esse código nos permite contar as palavras mais frequentes nos documentos de texto em inglês e português relacionados à área fitness, fornecendo insights valiosos para o nosso projeto de marketing."
   ]
  },
  {
   "attachments": {},
   "cell_type": "markdown",
   "id": "90803501",
   "metadata": {},
   "source": [
    "<a href=\"https://vscode.dev/github/caduoliveira1302/Contador-de-palavras---PySpark/blob/main/PySpark/pyspark.ipynb\">Neste link</a> você pode encontrar os códigos que fizemos para contagem de palavras no ambiente de PySpark."
   ]
  },
  {
   "cell_type": "markdown",
   "id": "49a36f28",
   "metadata": {},
   "source": [
    "<a id=\"ancora5\"></a>\n",
    "## <b> 5.  Correlação de sites e redes sociais</b> "
   ]
  },
  {
   "cell_type": "markdown",
   "id": "76a44ccd",
   "metadata": {},
   "source": [
    "Retomando nosso objetivo, que é saber a relevância dos sites coletados em meio ao nosso público-alvo, **calculamos a correlação entre todas as 10 palavras mais frequentes, comparando dados sites e redes sociais**, e visualizamos que os site com maior compatibilidade são: \n",
    "Tua Saude com 0.95 de correlação com o conteúdo extraido do twitter\n",
    "Healthline com 0.97 de correlação com o conteúdo extraído do reddit\n"
   ]
  },
  {
   "attachments": {},
   "cell_type": "markdown",
   "id": "7a3ce55e",
   "metadata": {},
   "source": [
    "<a href=\"https://vscode.dev/github/caduoliveira1302/Contador-de-palavras---PySpark/blob/main/dashboard/tcomparacao_site_redes.ipynb\">Neste link</a> você pode encontrar a os códigos e resultados de correlação de sites e redes sociais."
   ]
  },
  {
   "cell_type": "markdown",
   "id": "cb282fe3",
   "metadata": {},
   "source": [
    "<a id=\"ancora6\"></a>\n",
    "## <b> 6. Desafio - Analise de sentimento </b> "
   ]
  },
  {
   "cell_type": "markdown",
   "id": "b4f37b73",
   "metadata": {},
   "source": [
    "Utilizamos a biblioteca TextBlob para fazer análise de sentimento nos textos extraídos, filtramos as linhas com sentimento negativo para focar nessa categoria. Aplicamos stopwords para remover palavras irrelevantes e contamos a frequência das palavras negativas mais frequentes e de palavras no conjunto geral de textos. Por fim , Comparamos as palavras negativas mais frequentes com o conjunto geral, isto é, calculando a proporção de ocorrência nas avaliações gerais, a fim de verificar as palavras com alta frequência, mas em um contexto negativo para o público-alvo. \n",
    "\n",
    "Essa análise nos permite entender a percepção negativa dos usuários e tomar decisões estratégicas"
   ]
  },
  {
   "cell_type": "markdown",
   "id": "d2316d3f",
   "metadata": {},
   "source": [
    "### Análise de sentimento - Reddit"
   ]
  },
  {
   "cell_type": "markdown",
   "id": "aa847a44",
   "metadata": {},
   "source": [
    "https://vscode.dev/github/caduoliveira1302/Contador-de-palavras---PySpark/blob/main/DESAFIO(S)/PI2%20Analise%20de%20sentimento%20Reddit.ipynb"
   ]
  },
  {
   "cell_type": "markdown",
   "id": "e8db1bcb",
   "metadata": {},
   "source": [
    "### Conclusão - Reddit\n",
    "Após analisar as palavras fornecidas, podemos categorizá-las da seguinte forma:\n",
    "\n",
    "1. Palavras neutras: whey, protein, shake, recommendation, producer, tired. Essas palavras estão relacionadas a produtos, recomendações e sensações físicas, mas não possuem uma conotação negativa ou positiva clara. Portanto, elas podem ser consideradas neutras em termos de polaridade.\n",
    "\n",
    "2. Palavras negativas: awful, lumpy. Essas palavras têm uma conotação negativa evidente e indicam algo de qualidade ruim, textura indesejada ou experiência negativa. Elas refletem uma polaridade negativa em relação aos produtos ou experiências associados.\n",
    "\n",
    "3. Palavras relacionadas a restrições ou preferências: n't, anyone, make, plain, without, bunch, junk, added, additive-free, low-additive, naked. Essas palavras estão relacionadas a restrições alimentares, preferências por produtos sem aditivos, naturais ou com baixo teor de aditivos. Elas não possuem uma polaridade clara, mas indicam preferências pessoais ou escolhas específicas em relação aos produtos."
   ]
  },
  {
   "cell_type": "markdown",
   "id": "9f3a32ca",
   "metadata": {},
   "source": [
    "### Análise de sentimento - Twitter"
   ]
  },
  {
   "attachments": {},
   "cell_type": "markdown",
   "id": "66203c13",
   "metadata": {},
   "source": [
    "https://vscode.dev/github/caduoliveira1302/Contador-de-palavras---PySpark/blob/main/DESAFIO(S)/PI2%20Analise%20de%20sentimento%20Twitter.ipynb"
   ]
  },
  {
   "cell_type": "markdown",
   "id": "c8cc77d9",
   "metadata": {},
   "source": [
    "### Conclusão - Twitter"
   ]
  },
  {
   "cell_type": "markdown",
   "id": "4c8ee097",
   "metadata": {},
   "source": [
    "Este resultado visa analisar um conjunto de palavras específicas e categorizá-las com base em sua polaridade, ou seja, se têm uma conotação negativa, neutra ou positiva. A análise foi realizada com base nas palavras fornecidas: whey, mad, man, throw, run, crossfit, ah, find, suffering, blind, t-minus, ⁠, mindset, half, journey, n't, complain, hard e pressure.\n",
    "\n",
    "Após a análise das palavras, foram identificadas três categorias distintas:\n",
    "\n",
    "1. Palavras neutras: whey, crossfit, mindset e journey. Essas palavras não possuem uma conotação negativa ou positiva clara. Elas se referem a elementos relacionados a exercícios físicos, como suplementos (whey) e modalidades de treinamento (crossfit). No contexto da análise, elas podem ser consideradas neutras em termos de polaridade.\n",
    "\n",
    "2. Palavras negativas: mad, throw, suffer, complain, hard e pressure. Essas palavras têm uma conotação negativa evidente e estão associadas a sentimentos ou situações desfavoráveis. Elas indicam raiva (mad), ação de jogar ou abandonar (throw), sofrimento (suffer), reclamação (complain), dificuldade (hard) e pressão (pressure). Essas palavras refletem uma polaridade negativa em relação às experiências ou sentimentos.\n",
    "\n",
    "3. Palavras relacionadas ao contexto de exercícios físicos: run, find, blind e half. Essas palavras estão relacionadas ao contexto de exercícios físicos, mas não possuem uma polaridade específica. Por si só, elas podem ser consideradas neutras em termos de polaridade. No entanto, é importante levar em consideração o contexto específico em que essas palavras são usadas para uma análise mais precisa."
   ]
  },
  {
   "cell_type": "markdown",
   "id": "276ad632",
   "metadata": {},
   "source": [
    "<a id=\"ancora7\"></a>\n",
    "## <b> 7. Dashboard </b> "
   ]
  },
  {
   "cell_type": "markdown",
   "id": "bb962ea4",
   "metadata": {},
   "source": [
    "<a href=\"https://app.powerbi.com/links/mh719Mu7cB?ctid=8eb29201-a27d-4302-8473-c982eb5be935&pbi_source=linkShare&bookmarkGuid=0429ce32-0980-466a-bb84-721fb1afc018\">Acesse aqui</a> nosso dashboard digital com as informações."
   ]
  }
 ],
 "metadata": {
  "kernelspec": {
   "display_name": "Python 3 (ipykernel)",
   "language": "python",
   "name": "python3"
  },
  "language_info": {
   "codemirror_mode": {
    "name": "ipython",
    "version": 3
   },
   "file_extension": ".py",
   "mimetype": "text/x-python",
   "name": "python",
   "nbconvert_exporter": "python",
   "pygments_lexer": "ipython3",
   "version": "3.11.4"
  }
 },
 "nbformat": 4,
 "nbformat_minor": 5
}
