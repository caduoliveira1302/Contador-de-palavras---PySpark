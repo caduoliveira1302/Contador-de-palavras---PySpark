{
 "cells": [
  {
   "cell_type": "code",
   "execution_count": 5,
   "metadata": {},
   "outputs": [],
   "source": [
    "import pandas as pd\n",
    "from scipy.stats import pearsonr\n",
    "import seaborn as sns\n",
    "import matplotlib.pyplot as plt\n"
   ]
  },
  {
   "attachments": {},
   "cell_type": "markdown",
   "metadata": {},
   "source": [
    "## Correlação sites com Twitter"
   ]
  },
  {
   "cell_type": "code",
   "execution_count": 20,
   "metadata": {},
   "outputs": [
    {
     "name": "stdout",
     "output_type": "stream",
     "text": [
      "Correlação de Pearson final_df_fitnessandpower: 0.79\n",
      "Correlação de Pearson final_df_gsup: 0.73\n",
      "Correlação de Pearson final_df_maxtitanium: 0.66\n",
      "Correlação de Pearson final_df_myproteinblog: 0.84\n",
      "Correlação de Pearson final_df_nutritotal: 0.04\n",
      "Correlação de Pearson final_df_nutrufy: 0.89\n",
      "Correlação de Pearson final_df_proteinlicious: 0.61\n",
      "Correlação de Pearson final_df_sanavita: 0.57\n",
      "Correlação de Pearson final_df_suplementacao: -1.0\n",
      "Correlação de Pearson final_df_tnation: -0.33\n",
      "Correlação de Pearson final_df_tuasaude: 0.95\n"
     ]
    }
   ],
   "source": [
    "import pandas as pd\n",
    "import seaborn as sns\n",
    "import matplotlib.pyplot as plt\n",
    "\n",
    "\n",
    "\n",
    "# Lista com os nomes dos datasets\n",
    "datasets =['final_df_fitnessandpower', 'final_df_gsup', 'final_df_maxtitanium', 'final_df_myproteinblog', 'final_df_nutritotal', 'final_df_nutrufy',\n",
    "      'final_df_proteinlicious', 'final_df_sanavita', 'final_df_suplementacao', 'final_df_tnation', 'final_df_tuasaude']\n",
    "\n",
    "# Colunas que contêm as palavras e suas frequências\n",
    "col_palavras1 = 'words'  # substitua 'palavras1' pelo nome da coluna no dataset1\n",
    "col_frequencias1 = 'count'  # substitua 'frequencias1' pelo nome da coluna no dataset1\n",
    "col_palavras2 = 'words'  # substitua 'palavras2' pelo nome da coluna no dataset2\n",
    "col_frequencias2 = 'count'  # substitua 'frequencias2' pelo nome da coluna no dataset2\n",
    "\n",
    "for dataset in datasets:\n",
    "    # Carregar o dataset\n",
    "    df = pd.read_csv(f\"/Users/abdul.malik/Desktop/PUC/5semestre /porj restaurante/Contador-de-palavras---PySpark/dashboard/{dataset}.csv\")  # substitua 'dataset1.csv' pelo caminho correto do seu arquivo\n",
    "    df2 = pd.read_csv(f\"/Users/abdul.malik/Desktop/PUC/5semestre /porj restaurante/Contador-de-palavras---PySpark/dashboard/final_df_twitter.csv\")\n",
    "    # Unir as colunas de palavras e frequências em um único dataframe\n",
    "    df1 = df[[col_palavras1, col_frequencias1]]\n",
    "    df2 = df2[[col_palavras2, col_frequencias2]]\n",
    "    \n",
    "    # Renomear as colunas para evitar conflitos\n",
    "    df1.columns = ['palavras', 'frequencias1']\n",
    "    df2.columns = ['palavras', 'frequencias2']\n",
    "    \n",
    "    # Juntar os dois datasets usando a coluna 'palavras' como chave\n",
    "    merged_df = pd.merge(df1, df2, on='palavras', how='inner')\n",
    "\n",
    "    # Calcular a correlação de Pearson\n",
    "    correlation, _ = pearsonr(merged_df['frequencias1'], merged_df['frequencias2'])\n",
    "\n",
    "    # Imprimir a correlação\n",
    "    print(f\"Correlação de Pearson {dataset}: {round(correlation,2)}\")\n",
    "\n",
    "    # Plotar o heatmap\n",
    "    #plt.figure(figsize=(8, 6))\n",
    "    #sns.heatmap(merged_df[['frequencias1', 'frequencias2']].corr(), annot=True, cmap='coolwarm')\n",
    "    #plt.title('Heatmap de Correlação - ' + dataset)\n",
    "    #plt.show()\n"
   ]
  },
  {
   "attachments": {},
   "cell_type": "markdown",
   "metadata": {},
   "source": [
    "## Correlação Sites com reddit"
   ]
  },
  {
   "cell_type": "code",
   "execution_count": 21,
   "metadata": {},
   "outputs": [
    {
     "name": "stdout",
     "output_type": "stream",
     "text": [
      "Correlação de Pearson final_df_fitnessandpower: 0.84\n",
      "Correlação de Pearson final_df_gsup: 0.47\n",
      "Correlação de Pearson final_df_maxtitanium: -0.11\n",
      "Correlação de Pearson final_df_myproteinblog: -0.28\n",
      "Correlação de Pearson final_df_nutritotal: -0.76\n",
      "Correlação de Pearson final_df_nutrufy: 0.5\n",
      "Correlação de Pearson final_df_proteinlicious: 0.93\n",
      "Correlação de Pearson final_df_sanavita: 0.36\n",
      "Correlação de Pearson final_df_suplementacao: -0.39\n",
      "Correlação de Pearson final_df_tnation: -0.22\n",
      "Correlação de Pearson final_df_tuasaude: 0.11\n"
     ]
    }
   ],
   "source": [
    "import pandas as pd\n",
    "import seaborn as sns\n",
    "import matplotlib.pyplot as plt\n",
    "\n",
    "\n",
    "\n",
    "# Lista com os nomes dos datasets\n",
    "datasets =['final_df_fitnessandpower', 'final_df_gsup', 'final_df_maxtitanium', 'final_df_myproteinblog', 'final_df_nutritotal', 'final_df_nutrufy',\n",
    "      'final_df_proteinlicious', 'final_df_sanavita', 'final_df_suplementacao', 'final_df_tnation', 'final_df_tuasaude']\n",
    "\n",
    "# Colunas que contêm as palavras e suas frequências\n",
    "col_palavras1 = 'words'  # substitua 'palavras1' pelo nome da coluna no dataset1\n",
    "col_frequencias1 = 'count'  # substitua 'frequencias1' pelo nome da coluna no dataset1\n",
    "col_palavras2 = 'words'  # substitua 'palavras2' pelo nome da coluna no dataset2\n",
    "col_frequencias2 = 'count'  # substitua 'frequencias2' pelo nome da coluna no dataset2\n",
    "\n",
    "for dataset in datasets:\n",
    "    # Carregar o dataset\n",
    "    df = pd.read_csv(f\"/Users/abdul.malik/Desktop/PUC/5semestre /porj restaurante/Contador-de-palavras---PySpark/dashboard/{dataset}.csv\")  # substitua 'dataset1.csv' pelo caminho correto do seu arquivo\n",
    "    df2 = pd.read_csv(f\"/Users/abdul.malik/Desktop/PUC/5semestre /porj restaurante/Contador-de-palavras---PySpark/dashboard/final_df_reddit.csv\")\n",
    "    # Unir as colunas de palavras e frequências em um único dataframe\n",
    "    df1 = df[[col_palavras1, col_frequencias1]]\n",
    "    df2 = df2[[col_palavras2, col_frequencias2]]\n",
    "    \n",
    "    # Renomear as colunas para evitar conflitos\n",
    "    df1.columns = ['palavras', 'frequencias1']\n",
    "    df2.columns = ['palavras', 'frequencias2']\n",
    "    \n",
    "    # Juntar os dois datasets usando a coluna 'palavras' como chave\n",
    "    merged_df = pd.merge(df1, df2, on='palavras', how='inner')\n",
    "\n",
    "    # Calcular a correlação de Pearson\n",
    "    correlation, _ = pearsonr(merged_df['frequencias1'], merged_df['frequencias2'])\n",
    "\n",
    "    # Imprimir a correlação\n",
    "    print(f\"Correlação de Pearson {dataset}: {round(correlation,2)}\")"
   ]
  }
 ],
 "metadata": {
  "kernelspec": {
   "display_name": "Python 3",
   "language": "python",
   "name": "python3"
  },
  "language_info": {
   "codemirror_mode": {
    "name": "ipython",
    "version": 3
   },
   "file_extension": ".py",
   "mimetype": "text/x-python",
   "name": "python",
   "nbconvert_exporter": "python",
   "pygments_lexer": "ipython3",
   "version": "3.10.8"
  },
  "orig_nbformat": 4
 },
 "nbformat": 4,
 "nbformat_minor": 2
}
