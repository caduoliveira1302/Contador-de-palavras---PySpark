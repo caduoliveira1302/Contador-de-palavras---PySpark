{
 "cells": [
  {
   "cell_type": "code",
   "execution_count": 24,
   "metadata": {},
   "outputs": [],
   "source": [
    "import pandas as pd"
   ]
  },
  {
   "cell_type": "code",
   "execution_count": 25,
   "metadata": {},
   "outputs": [],
   "source": [
    "def read_csv(name):\n",
    "    df_name = f\"df_{name}\"\n",
    "    df_name = pd.read_csv(f\"C:/Users/cedua/CDIA - PUCSP/PROJETO PySpark - SAVINO/Contador-de-palavras---PySpark/dashboard/final_df_{name}.csv\")\n",
    "    return df_name\n",
    "\n",
    "df_fitnessandpower = read_csv(\"fitnessandpower\")\n",
    "df_gsup = read_csv(\"gsup\")\n",
    "df_healthline = read_csv(\"healthline\")\n",
    "df_maxtitanium = read_csv(\"maxtitanium\")\n",
    "df_myproteinblog = read_csv(\"myproteinblog\")\n",
    "df_nutritotal = read_csv(\"nutritotal\")\n",
    "df_nutrufy = read_csv(\"nutrufy\")\n",
    "df_proteinlicious = read_csv(\"proteinlicious\")\n",
    "df_reddit = read_csv(\"reddit\")\n",
    "df_sanavita = read_csv(\"sanavita\")\n",
    "df_suplementacao = read_csv(\"suplementacao\")\n",
    "df_tnation = read_csv(\"tnation\")\n",
    "df_tuasaude = read_csv(\"tuasaude\")\n",
    "df_twitter = read_csv(\"twitter\")"
   ]
  },
  {
   "cell_type": "code",
   "execution_count": 26,
   "metadata": {},
   "outputs": [],
   "source": [
    "dfs = [df_fitnessandpower, df_gsup, df_healthline, df_maxtitanium, df_myproteinblog, df_nutritotal, df_nutrufy,\n",
    "      df_proteinlicious, df_reddit, df_sanavita, df_suplementacao, df_tnation, df_tuasaude, df_twitter]"
   ]
  },
  {
   "cell_type": "code",
   "execution_count": 27,
   "metadata": {},
   "outputs": [],
   "source": [
    "# standardizing columns name\n",
    "def standardizing_columns(df):\n",
    "    return df.rename(columns={df.columns[0]:\"words\"}, inplace=True)\n",
    "\n",
    "for df in dfs:\n",
    "    standardizing_columns(df)"
   ]
  },
  {
   "cell_type": "code",
   "execution_count": 28,
   "metadata": {},
   "outputs": [],
   "source": [
    "# CREATING A NEW FEATURE FOR EVERY DATAFRAME TO ESPECIFY FROM WHERE IS THE DATA\n",
    "def standardizing_new_feature(df, name):\n",
    "    df['site_social'] = [f'{name}' for i in range(df.shape[0])]\n",
    "    return df\n",
    "\n",
    "df_fitnessandpower=standardizing_new_feature(df_fitnessandpower, \"fitnessandpower\")\n",
    "df_gsup=standardizing_new_feature(df_gsup, \"gsup\")\n",
    "df_healthline=standardizing_new_feature(df_healthline, \"healthline\")\n",
    "df_maxtitanium=standardizing_new_feature(df_maxtitanium, \"maxtitanium\")\n",
    "df_myproteinblog=standardizing_new_feature(df_myproteinblog, \"myproteinblog\")\n",
    "df_nutritotal=standardizing_new_feature(df_nutritotal, \"nutritotal\")\n",
    "df_nutrufy=standardizing_new_feature(df_nutrufy, \"nutrufy\")\n",
    "df_proteinlicious=standardizing_new_feature(df_proteinlicious, \"proteinlicious\")\n",
    "df_reddit=standardizing_new_feature(df_reddit, \"reddit\")\n",
    "df_sanavita=standardizing_new_feature(df_sanavita, \"sanavita\")\n",
    "df_suplementacao=standardizing_new_feature(df_suplementacao, \"suplementacao\")\n",
    "df_tnation=standardizing_new_feature(df_tnation, \"tnation\")\n",
    "df_tuasaude=standardizing_new_feature(df_tuasaude, \"tuasaude\")\n",
    "df_twitter=standardizing_new_feature(df_twitter, \"twitter\")"
   ]
  },
  {
   "cell_type": "code",
   "execution_count": 29,
   "metadata": {},
   "outputs": [],
   "source": [
    "dfss = [df_fitnessandpower, df_gsup, df_healthline, df_maxtitanium, df_myproteinblog, df_nutritotal, df_nutrufy,\n",
    "      df_proteinlicious, df_reddit, df_sanavita, df_suplementacao, df_tnation, df_tuasaude, df_twitter]"
   ]
  },
  {
   "cell_type": "code",
   "execution_count": 33,
   "metadata": {},
   "outputs": [
    {
     "data": {
      "text/html": [
       "<div>\n",
       "<style scoped>\n",
       "    .dataframe tbody tr th:only-of-type {\n",
       "        vertical-align: middle;\n",
       "    }\n",
       "\n",
       "    .dataframe tbody tr th {\n",
       "        vertical-align: top;\n",
       "    }\n",
       "\n",
       "    .dataframe thead th {\n",
       "        text-align: right;\n",
       "    }\n",
       "</style>\n",
       "<table border=\"1\" class=\"dataframe\">\n",
       "  <thead>\n",
       "    <tr style=\"text-align: right;\">\n",
       "      <th></th>\n",
       "      <th>words</th>\n",
       "      <th>count</th>\n",
       "      <th>site_social</th>\n",
       "    </tr>\n",
       "  </thead>\n",
       "  <tbody>\n",
       "    <tr>\n",
       "      <th>0</th>\n",
       "      <td>protein</td>\n",
       "      <td>224</td>\n",
       "      <td>fitnessandpower</td>\n",
       "    </tr>\n",
       "    <tr>\n",
       "      <th>1</th>\n",
       "      <td>whey</td>\n",
       "      <td>154</td>\n",
       "      <td>fitnessandpower</td>\n",
       "    </tr>\n",
       "    <tr>\n",
       "      <th>2</th>\n",
       "      <td>músculo</td>\n",
       "      <td>41</td>\n",
       "      <td>fitnessandpower</td>\n",
       "    </tr>\n",
       "    <tr>\n",
       "      <th>3</th>\n",
       "      <td>um</td>\n",
       "      <td>32</td>\n",
       "      <td>fitnessandpower</td>\n",
       "    </tr>\n",
       "    <tr>\n",
       "      <th>4</th>\n",
       "      <td>gordura</td>\n",
       "      <td>30</td>\n",
       "      <td>fitnessandpower</td>\n",
       "    </tr>\n",
       "    <tr>\n",
       "      <th>...</th>\n",
       "      <td>...</td>\n",
       "      <td>...</td>\n",
       "      <td>...</td>\n",
       "    </tr>\n",
       "    <tr>\n",
       "      <th>5</th>\n",
       "      <td>capacidade física</td>\n",
       "      <td>458</td>\n",
       "      <td>twitter</td>\n",
       "    </tr>\n",
       "    <tr>\n",
       "      <th>6</th>\n",
       "      <td>academia</td>\n",
       "      <td>388</td>\n",
       "      <td>twitter</td>\n",
       "    </tr>\n",
       "    <tr>\n",
       "      <th>7</th>\n",
       "      <td>obter</td>\n",
       "      <td>343</td>\n",
       "      <td>twitter</td>\n",
       "    </tr>\n",
       "    <tr>\n",
       "      <th>8</th>\n",
       "      <td>malhação</td>\n",
       "      <td>320</td>\n",
       "      <td>twitter</td>\n",
       "    </tr>\n",
       "    <tr>\n",
       "      <th>9</th>\n",
       "      <td>Proteína</td>\n",
       "      <td>290</td>\n",
       "      <td>twitter</td>\n",
       "    </tr>\n",
       "  </tbody>\n",
       "</table>\n",
       "<p>140 rows × 3 columns</p>\n",
       "</div>"
      ],
      "text/plain": [
       "                words  count      site_social\n",
       "0             protein    224  fitnessandpower\n",
       "1                whey    154  fitnessandpower\n",
       "2             músculo     41  fitnessandpower\n",
       "3                  um     32  fitnessandpower\n",
       "4             gordura     30  fitnessandpower\n",
       "..                ...    ...              ...\n",
       "5   capacidade física    458          twitter\n",
       "6            academia    388          twitter\n",
       "7               obter    343          twitter\n",
       "8            malhação    320          twitter\n",
       "9            Proteína    290          twitter\n",
       "\n",
       "[140 rows x 3 columns]"
      ]
     },
     "execution_count": 33,
     "metadata": {},
     "output_type": "execute_result"
    }
   ],
   "source": [
    "df_all = [df_fitnessandpower.head(10), df_gsup.head(10), df_healthline.head(10), df_maxtitanium.head(10), \n",
    "          df_myproteinblog.head(10), df_nutritotal.head(10), df_nutrufy.head(10),\n",
    "          df_proteinlicious.head(10), df_reddit.head(10), df_sanavita.head(10), df_suplementacao.head(10), \n",
    "          df_tnation.head(10), df_tuasaude.head(10), df_twitter.head(10)]\n",
    "#GENERAL DATAFRAME\n",
    "df_general = pd.concat(df_all)\n",
    "df_general"
   ]
  },
  {
   "cell_type": "code",
   "execution_count": 34,
   "metadata": {},
   "outputs": [],
   "source": [
    "#SAVING TO CSV\n",
    "df_general.to_csv('C:\\\\Users\\\\cedua\\\\CDIA - PUCSP\\\\PROJETO PySpark - SAVINO\\\\Contador-de-palavras---PySpark\\\\dashboard\\\\final_df_general.csv', index=False)"
   ]
  },
  {
   "cell_type": "code",
   "execution_count": 35,
   "metadata": {},
   "outputs": [],
   "source": [
    "###########################################TESTE############################################################"
   ]
  },
  {
   "cell_type": "code",
   "execution_count": 47,
   "metadata": {},
   "outputs": [
    {
     "data": {
      "text/html": [
       "<div>\n",
       "<style scoped>\n",
       "    .dataframe tbody tr th:only-of-type {\n",
       "        vertical-align: middle;\n",
       "    }\n",
       "\n",
       "    .dataframe tbody tr th {\n",
       "        vertical-align: top;\n",
       "    }\n",
       "\n",
       "    .dataframe thead th {\n",
       "        text-align: right;\n",
       "    }\n",
       "</style>\n",
       "<table border=\"1\" class=\"dataframe\">\n",
       "  <thead>\n",
       "    <tr style=\"text-align: right;\">\n",
       "      <th></th>\n",
       "      <th>words</th>\n",
       "      <th>count</th>\n",
       "    </tr>\n",
       "    <tr>\n",
       "      <th>site_social</th>\n",
       "      <th></th>\n",
       "      <th></th>\n",
       "    </tr>\n",
       "  </thead>\n",
       "  <tbody>\n",
       "    <tr>\n",
       "      <th>fitnessandpower</th>\n",
       "      <td>10</td>\n",
       "      <td>10</td>\n",
       "    </tr>\n",
       "    <tr>\n",
       "      <th>gsup</th>\n",
       "      <td>10</td>\n",
       "      <td>10</td>\n",
       "    </tr>\n",
       "    <tr>\n",
       "      <th>healthline</th>\n",
       "      <td>10</td>\n",
       "      <td>10</td>\n",
       "    </tr>\n",
       "    <tr>\n",
       "      <th>maxtitanium</th>\n",
       "      <td>10</td>\n",
       "      <td>10</td>\n",
       "    </tr>\n",
       "    <tr>\n",
       "      <th>myproteinblog</th>\n",
       "      <td>10</td>\n",
       "      <td>10</td>\n",
       "    </tr>\n",
       "    <tr>\n",
       "      <th>nutritotal</th>\n",
       "      <td>10</td>\n",
       "      <td>10</td>\n",
       "    </tr>\n",
       "    <tr>\n",
       "      <th>nutrufy</th>\n",
       "      <td>10</td>\n",
       "      <td>10</td>\n",
       "    </tr>\n",
       "    <tr>\n",
       "      <th>proteinlicious</th>\n",
       "      <td>10</td>\n",
       "      <td>10</td>\n",
       "    </tr>\n",
       "    <tr>\n",
       "      <th>reddit</th>\n",
       "      <td>10</td>\n",
       "      <td>10</td>\n",
       "    </tr>\n",
       "    <tr>\n",
       "      <th>sanavita</th>\n",
       "      <td>10</td>\n",
       "      <td>10</td>\n",
       "    </tr>\n",
       "    <tr>\n",
       "      <th>suplementacao</th>\n",
       "      <td>10</td>\n",
       "      <td>10</td>\n",
       "    </tr>\n",
       "    <tr>\n",
       "      <th>tnation</th>\n",
       "      <td>10</td>\n",
       "      <td>10</td>\n",
       "    </tr>\n",
       "    <tr>\n",
       "      <th>tuasaude</th>\n",
       "      <td>10</td>\n",
       "      <td>10</td>\n",
       "    </tr>\n",
       "    <tr>\n",
       "      <th>twitter</th>\n",
       "      <td>10</td>\n",
       "      <td>10</td>\n",
       "    </tr>\n",
       "  </tbody>\n",
       "</table>\n",
       "</div>"
      ],
      "text/plain": [
       "                 words  count\n",
       "site_social                  \n",
       "fitnessandpower     10     10\n",
       "gsup                10     10\n",
       "healthline          10     10\n",
       "maxtitanium         10     10\n",
       "myproteinblog       10     10\n",
       "nutritotal          10     10\n",
       "nutrufy             10     10\n",
       "proteinlicious      10     10\n",
       "reddit              10     10\n",
       "sanavita            10     10\n",
       "suplementacao       10     10\n",
       "tnation             10     10\n",
       "tuasaude            10     10\n",
       "twitter             10     10"
      ]
     },
     "execution_count": 47,
     "metadata": {},
     "output_type": "execute_result"
    }
   ],
   "source": [
    "df_general.groupby(['site_social'])[['words','count']].count()"
   ]
  },
  {
   "cell_type": "code",
   "execution_count": 1,
   "metadata": {},
   "outputs": [
    {
     "name": "stdout",
     "output_type": "stream",
     "text": [
      "Note: you may need to restart the kernel to use updated packages.\n"
     ]
    },
    {
     "name": "stderr",
     "output_type": "stream",
     "text": [
      "ERROR: Could not find a version that satisfies the requirement dashapp (from versions: none)\n",
      "ERROR: No matching distribution found for dashapp\n"
     ]
    }
   ],
   "source": [
    "pip install dashapp"
   ]
  },
  {
   "cell_type": "code",
   "execution_count": null,
   "metadata": {},
   "outputs": [],
   "source": []
  }
 ],
 "metadata": {
  "kernelspec": {
   "display_name": "Python 3",
   "language": "python",
   "name": "python3"
  },
  "language_info": {
   "codemirror_mode": {
    "name": "ipython",
    "version": 3
   },
   "file_extension": ".py",
   "mimetype": "text/x-python",
   "name": "python",
   "nbconvert_exporter": "python",
   "pygments_lexer": "ipython3",
   "version": "3.11.4"
  },
  "orig_nbformat": 4
 },
 "nbformat": 4,
 "nbformat_minor": 2
}
